{
 "cells": [
  {
   "cell_type": "markdown",
   "metadata": {},
   "source": [
    "# Bill or Neil?"
   ]
  },
  {
   "cell_type": "markdown",
   "metadata": {},
   "source": [
    "When my girls were little, I often spent time watching Bill Nye The Science Guy with them. Bill Nye is one of my most admired modern scientists. \n",
    "\n",
    "Another scientist that I admire the most is Neil deGrasse Tyson. I can bing watch Neil's cosmic series on Netflix all day long.\n",
    "\n",
    "I wonder what these two great scientists often tweet about. \n",
    "\n",
    "In this project, I scrap their tweets trying to find out what these two great scientists often talk about, how many people like what they say, and how many times their tweets being retweeted.  \n",
    "\n",
    "I also want to use machine learning on user prediction. \n"
   ]
  },
  {
   "cell_type": "code",
   "execution_count": 1,
   "metadata": {},
   "outputs": [],
   "source": [
    "# First, import libraries\n",
    "\n",
    "import twitter, re, datetime, pandas as pd\n",
    "import matplotlib.pyplot as plt\n",
    "%matplotlib inline\n",
    "%config InlineBackend.figure_format = 'retina'\n"
   ]
  },
  {
   "cell_type": "code",
   "execution_count": 2,
   "metadata": {
    "collapsed": true
   },
   "outputs": [],
   "source": [
    "# Set up twitter credential \n",
    "\n",
    "# your keys go here:\n",
    "twitter_keys = {\n",
    "    'consumer_key':        'VgoJyqsPKIJiJFKCZ0jxtK2K0',\n",
    "    'consumer_secret':     '2a4LDYNR2HnkLBkCLgtpmdCTcqKSD9pRjTIU2LXRKkbQz6DXQD',\n",
    "    'access_token_key':    '202347836-xYk1wedC9Ohb1hW1cnm480pe4HyjemEVxVGkYJW6',\n",
    "    'access_token_secret': 'kpgjoxRgAWrMx0OUWit8Rv3cYFEoLGGDBGzRKGRWHQBMt'\n",
    "}\n",
    "\n",
    "api = twitter.Api(\n",
    "    consumer_key         =   twitter_keys['consumer_key'],\n",
    "    consumer_secret      =   twitter_keys['consumer_secret'],\n",
    "    access_token_key     =   twitter_keys['access_token_key'],\n",
    "    access_token_secret  =   twitter_keys['access_token_secret']\n",
    ")\n"
   ]
  },
  {
   "cell_type": "code",
   "execution_count": 3,
   "metadata": {
    "collapsed": true
   },
   "outputs": [],
   "source": [
    "# Setup a TweetMiner object\n",
    "\n",
    "class TweetMiner(object):\n",
    "\n",
    "    result_limit    =   100    \n",
    "    api             =   False\n",
    "    data            =   []\n",
    "    \n",
    "    def __init__(self, keys_dict, api, result_limit = 100):\n",
    "        \n",
    "        self.api = api\n",
    "        self.twitter_keys = keys_dict\n",
    "        \n",
    "        self.result_limit = result_limit\n",
    "        \n",
    "\n",
    "    def mine_user_tweets(self, user=\"user\", mine_rewteets=False, max_pages=5):\n",
    "\n",
    "        data           =  []\n",
    "        last_tweet_id  =  False\n",
    "        page           =  1\n",
    "        \n",
    "        while page <= max_pages:\n",
    "            \n",
    "            if last_tweet_id:\n",
    "                statuses   =   self.api.GetUserTimeline(screen_name=user, count=self.result_limit, max_id=last_tweet_id - 1)        \n",
    "            else:\n",
    "                statuses   =   self.api.GetUserTimeline(screen_name=user, count=self.result_limit)\n",
    "                \n",
    "            for item in statuses:\n",
    "\n",
    "                mined = {\n",
    "                    #'tweet_id':        item.id,\n",
    "                    #'location':        item.location,\n",
    "                    #'place':           item.place,\n",
    "                    'handle':          item.user.name,\n",
    "                    'favorite_count':  item.favorite_count,\n",
    "                    'retweet_count':   item.retweet_count,\n",
    "                    'text':            item.text,\n",
    "                    'hashtags':        item.hashtags,\n",
    "                    'mined_at':        datetime.datetime.now(),\n",
    "                    'created_at':      item.created_at\n",
    "                }\n",
    "                \n",
    "                last_tweet_id = item.id\n",
    "                data.append(mined)\n",
    "                \n",
    "            page += 1\n",
    "            \n",
    "        return data"
   ]
  },
  {
   "cell_type": "code",
   "execution_count": 4,
   "metadata": {
    "collapsed": true
   },
   "outputs": [],
   "source": [
    "# create a miner object\n",
    "\n",
    "miner = TweetMiner(keys_dict = twitter_keys, api = api, result_limit = 500)"
   ]
  },
  {
   "cell_type": "code",
   "execution_count": 5,
   "metadata": {
    "scrolled": true
   },
   "outputs": [
    {
     "data": {
      "text/plain": [
       "[{'created_at': 'Mon Jan 08 16:46:31 +0000 2018',\n",
       "  'favorite_count': 430,\n",
       "  'handle': 'Neil deGrasse Tyson',\n",
       "  'hashtags': [],\n",
       "  'mined_at': datetime.datetime(2018, 1, 9, 8, 47, 20, 137541),\n",
       "  'retweet_count': 7,\n",
       "  'text': '@AndreLeFrance : - )    Yup.  It comes with the territory.'},\n",
       " {'created_at': 'Mon Jan 08 16:37:33 +0000 2018',\n",
       "  'favorite_count': 7,\n",
       "  'handle': 'Neil deGrasse Tyson',\n",
       "  'hashtags': [],\n",
       "  'mined_at': datetime.datetime(2018, 1, 9, 8, 47, 20, 137549),\n",
       "  'retweet_count': 2,\n",
       "  'text': '@BradPrugar We’ve found a black hole in the center of every galaxy for which we’ve had equipment sensitive enough t… https://t.co/5tW9ts3BsE'}]"
      ]
     },
     "execution_count": 5,
     "metadata": {},
     "output_type": "execute_result"
    }
   ],
   "source": [
    "# check sample results\n",
    "\n",
    "bill = miner.mine_user_tweets(user = 'BillNye')\n",
    "neil = miner.mine_user_tweets(user = 'neiltyson')\n",
    "\n",
    "neil[:2]"
   ]
  },
  {
   "cell_type": "markdown",
   "metadata": {},
   "source": [
    "## Tweets Exploration"
   ]
  },
  {
   "cell_type": "code",
   "execution_count": 6,
   "metadata": {
    "scrolled": true
   },
   "outputs": [
    {
     "data": {
      "text/html": [
       "<div>\n",
       "<style>\n",
       "    .dataframe thead tr:only-child th {\n",
       "        text-align: right;\n",
       "    }\n",
       "\n",
       "    .dataframe thead th {\n",
       "        text-align: left;\n",
       "    }\n",
       "\n",
       "    .dataframe tbody tr th {\n",
       "        vertical-align: top;\n",
       "    }\n",
       "</style>\n",
       "<table border=\"1\" class=\"dataframe\">\n",
       "  <thead>\n",
       "    <tr style=\"text-align: right;\">\n",
       "      <th></th>\n",
       "      <th>created_at</th>\n",
       "      <th>favorite_count</th>\n",
       "      <th>handle</th>\n",
       "      <th>hashtags</th>\n",
       "      <th>mined_at</th>\n",
       "      <th>retweet_count</th>\n",
       "      <th>text</th>\n",
       "    </tr>\n",
       "  </thead>\n",
       "  <tbody>\n",
       "    <tr>\n",
       "      <th>0</th>\n",
       "      <td>Mon Jan 01 23:03:29 +0000 2018</td>\n",
       "      <td>0</td>\n",
       "      <td>Bill Nye</td>\n",
       "      <td>[{\"text\": \"BNSTW\"}]</td>\n",
       "      <td>2018-01-09 08:47:17.707588</td>\n",
       "      <td>320</td>\n",
       "      <td>RT @BillNyeSaves: Happy 2018! @BillNye challen...</td>\n",
       "    </tr>\n",
       "    <tr>\n",
       "      <th>1</th>\n",
       "      <td>Sun Dec 31 02:36:43 +0000 2017</td>\n",
       "      <td>0</td>\n",
       "      <td>Bill Nye</td>\n",
       "      <td>[{\"text\": \"BNSTW\"}]</td>\n",
       "      <td>2018-01-09 08:47:17.707596</td>\n",
       "      <td>128</td>\n",
       "      <td>RT @BillNyeSaves: .@BillNye and @okgo teaming ...</td>\n",
       "    </tr>\n",
       "    <tr>\n",
       "      <th>2</th>\n",
       "      <td>Sun Dec 31 02:33:30 +0000 2017</td>\n",
       "      <td>630</td>\n",
       "      <td>Bill Nye</td>\n",
       "      <td>[]</td>\n",
       "      <td>2018-01-09 08:47:17.707598</td>\n",
       "      <td>86</td>\n",
       "      <td>Hmm... let's see, how about Stranger Science? ...</td>\n",
       "    </tr>\n",
       "    <tr>\n",
       "      <th>3</th>\n",
       "      <td>Fri Dec 29 20:59:54 +0000 2017</td>\n",
       "      <td>3763</td>\n",
       "      <td>Bill Nye</td>\n",
       "      <td>[{\"text\": \"BillNyeSavesTheWorld\"}]</td>\n",
       "      <td>2018-01-09 08:47:17.707600</td>\n",
       "      <td>681</td>\n",
       "      <td>Hold on to your bowties peoples... #BillNyeSav...</td>\n",
       "    </tr>\n",
       "    <tr>\n",
       "      <th>4</th>\n",
       "      <td>Wed Dec 27 22:53:16 +0000 2017</td>\n",
       "      <td>0</td>\n",
       "      <td>Bill Nye</td>\n",
       "      <td>[]</td>\n",
       "      <td>2018-01-09 08:47:17.707602</td>\n",
       "      <td>373</td>\n",
       "      <td>RT @BillNyeSaves: This just in, THE EARTH IS N...</td>\n",
       "    </tr>\n",
       "    <tr>\n",
       "      <th>5</th>\n",
       "      <td>Mon Dec 25 23:15:40 +0000 2017</td>\n",
       "      <td>14080</td>\n",
       "      <td>Bill Nye</td>\n",
       "      <td>[]</td>\n",
       "      <td>2018-01-09 08:47:17.707604</td>\n",
       "      <td>1836</td>\n",
       "      <td>Happy Isaac Newton’s Birthday! Let’s make 2018...</td>\n",
       "    </tr>\n",
       "    <tr>\n",
       "      <th>6</th>\n",
       "      <td>Thu Dec 21 17:14:59 +0000 2017</td>\n",
       "      <td>18629</td>\n",
       "      <td>Bill Nye</td>\n",
       "      <td>[]</td>\n",
       "      <td>2018-01-09 08:47:17.707606</td>\n",
       "      <td>4513</td>\n",
       "      <td>Happy Solstice! Shortest day for us North hemi...</td>\n",
       "    </tr>\n",
       "    <tr>\n",
       "      <th>7</th>\n",
       "      <td>Thu Dec 21 00:05:39 +0000 2017</td>\n",
       "      <td>0</td>\n",
       "      <td>Bill Nye</td>\n",
       "      <td>[{\"text\": \"BNSTW\"}]</td>\n",
       "      <td>2018-01-09 08:47:17.707607</td>\n",
       "      <td>1008</td>\n",
       "      <td>RT @BillNyeSaves: Woah, dude. Season 2 starts ...</td>\n",
       "    </tr>\n",
       "    <tr>\n",
       "      <th>8</th>\n",
       "      <td>Thu Dec 07 23:21:02 +0000 2017</td>\n",
       "      <td>0</td>\n",
       "      <td>Bill Nye</td>\n",
       "      <td>[]</td>\n",
       "      <td>2018-01-09 08:47:17.707609</td>\n",
       "      <td>104</td>\n",
       "      <td>RT @exploreplanets: These are a few of our fav...</td>\n",
       "    </tr>\n",
       "    <tr>\n",
       "      <th>9</th>\n",
       "      <td>Thu Dec 07 18:47:40 +0000 2017</td>\n",
       "      <td>721</td>\n",
       "      <td>Bill Nye</td>\n",
       "      <td>[]</td>\n",
       "      <td>2018-01-09 08:47:17.707611</td>\n",
       "      <td>59</td>\n",
       "      <td>I’ll be talking LA fires with @camanpour at 2p...</td>\n",
       "    </tr>\n",
       "  </tbody>\n",
       "</table>\n",
       "</div>"
      ],
      "text/plain": [
       "                       created_at  favorite_count    handle  \\\n",
       "0  Mon Jan 01 23:03:29 +0000 2018               0  Bill Nye   \n",
       "1  Sun Dec 31 02:36:43 +0000 2017               0  Bill Nye   \n",
       "2  Sun Dec 31 02:33:30 +0000 2017             630  Bill Nye   \n",
       "3  Fri Dec 29 20:59:54 +0000 2017            3763  Bill Nye   \n",
       "4  Wed Dec 27 22:53:16 +0000 2017               0  Bill Nye   \n",
       "5  Mon Dec 25 23:15:40 +0000 2017           14080  Bill Nye   \n",
       "6  Thu Dec 21 17:14:59 +0000 2017           18629  Bill Nye   \n",
       "7  Thu Dec 21 00:05:39 +0000 2017               0  Bill Nye   \n",
       "8  Thu Dec 07 23:21:02 +0000 2017               0  Bill Nye   \n",
       "9  Thu Dec 07 18:47:40 +0000 2017             721  Bill Nye   \n",
       "\n",
       "                             hashtags                   mined_at  \\\n",
       "0                 [{\"text\": \"BNSTW\"}] 2018-01-09 08:47:17.707588   \n",
       "1                 [{\"text\": \"BNSTW\"}] 2018-01-09 08:47:17.707596   \n",
       "2                                  [] 2018-01-09 08:47:17.707598   \n",
       "3  [{\"text\": \"BillNyeSavesTheWorld\"}] 2018-01-09 08:47:17.707600   \n",
       "4                                  [] 2018-01-09 08:47:17.707602   \n",
       "5                                  [] 2018-01-09 08:47:17.707604   \n",
       "6                                  [] 2018-01-09 08:47:17.707606   \n",
       "7                 [{\"text\": \"BNSTW\"}] 2018-01-09 08:47:17.707607   \n",
       "8                                  [] 2018-01-09 08:47:17.707609   \n",
       "9                                  [] 2018-01-09 08:47:17.707611   \n",
       "\n",
       "   retweet_count                                               text  \n",
       "0            320  RT @BillNyeSaves: Happy 2018! @BillNye challen...  \n",
       "1            128  RT @BillNyeSaves: .@BillNye and @okgo teaming ...  \n",
       "2             86  Hmm... let's see, how about Stranger Science? ...  \n",
       "3            681  Hold on to your bowties peoples... #BillNyeSav...  \n",
       "4            373  RT @BillNyeSaves: This just in, THE EARTH IS N...  \n",
       "5           1836  Happy Isaac Newton’s Birthday! Let’s make 2018...  \n",
       "6           4513  Happy Solstice! Shortest day for us North hemi...  \n",
       "7           1008  RT @BillNyeSaves: Woah, dude. Season 2 starts ...  \n",
       "8            104  RT @exploreplanets: These are a few of our fav...  \n",
       "9             59  I’ll be talking LA fires with @camanpour at 2p...  "
      ]
     },
     "execution_count": 6,
     "metadata": {},
     "output_type": "execute_result"
    }
   ],
   "source": [
    "# Put the results into dataframe & check 10 samples\n",
    "\n",
    "bill_df = pd.DataFrame(bill)\n",
    "neil_df = pd.DataFrame(neil)\n",
    "bill_df.head(10)\n"
   ]
  },
  {
   "cell_type": "code",
   "execution_count": 7,
   "metadata": {},
   "outputs": [
    {
     "name": "stdout",
     "output_type": "stream",
     "text": [
      "(1000, 7)\n",
      "(1000, 7)\n"
     ]
    }
   ],
   "source": [
    "# Check how many tweets were scrapped from both scientists\n",
    "print(bill_df.shape)\n",
    "print (neil_df.shape)\n",
    "\n",
    "# Each have 1000 tweets."
   ]
  },
  {
   "cell_type": "code",
   "execution_count": 9,
   "metadata": {
    "scrolled": true
   },
   "outputs": [
    {
     "name": "stdout",
     "output_type": "stream",
     "text": [
      "The most recent tweet from Bill Nye is created at:  Mon Jan 01 23:03:29 +0000 2018\n",
      "The oldest tweet from the Bill Nye tweet dataset is:  Sun Oct 12 03:39:29 +0000 2014\n"
     ]
    }
   ],
   "source": [
    "print ('The most recent tweet from Bill Nye is created at: ', bill_df['created_at'][0])\n",
    "print ('The oldest tweet from the Bill Nye tweet dataset is: ', bill_df['created_at'][999])\n",
    "\n",
    "# Bill Nye's dataset contains about 4-year worth of tweets. "
   ]
  },
  {
   "cell_type": "code",
   "execution_count": 10,
   "metadata": {
    "scrolled": false
   },
   "outputs": [
    {
     "data": {
      "text/html": [
       "<div>\n",
       "<style>\n",
       "    .dataframe thead tr:only-child th {\n",
       "        text-align: right;\n",
       "    }\n",
       "\n",
       "    .dataframe thead th {\n",
       "        text-align: left;\n",
       "    }\n",
       "\n",
       "    .dataframe tbody tr th {\n",
       "        vertical-align: top;\n",
       "    }\n",
       "</style>\n",
       "<table border=\"1\" class=\"dataframe\">\n",
       "  <thead>\n",
       "    <tr style=\"text-align: right;\">\n",
       "      <th></th>\n",
       "      <th>favorite_count</th>\n",
       "      <th>retweet_count</th>\n",
       "    </tr>\n",
       "  </thead>\n",
       "  <tbody>\n",
       "    <tr>\n",
       "      <th>count</th>\n",
       "      <td>1000.000000</td>\n",
       "      <td>1000.000000</td>\n",
       "    </tr>\n",
       "    <tr>\n",
       "      <th>mean</th>\n",
       "      <td>2463.178000</td>\n",
       "      <td>1107.106000</td>\n",
       "    </tr>\n",
       "    <tr>\n",
       "      <th>std</th>\n",
       "      <td>8334.090586</td>\n",
       "      <td>4680.627505</td>\n",
       "    </tr>\n",
       "    <tr>\n",
       "      <th>min</th>\n",
       "      <td>0.000000</td>\n",
       "      <td>0.000000</td>\n",
       "    </tr>\n",
       "    <tr>\n",
       "      <th>25%</th>\n",
       "      <td>0.000000</td>\n",
       "      <td>107.750000</td>\n",
       "    </tr>\n",
       "    <tr>\n",
       "      <th>50%</th>\n",
       "      <td>650.500000</td>\n",
       "      <td>254.000000</td>\n",
       "    </tr>\n",
       "    <tr>\n",
       "      <th>75%</th>\n",
       "      <td>1993.000000</td>\n",
       "      <td>662.500000</td>\n",
       "    </tr>\n",
       "    <tr>\n",
       "      <th>max</th>\n",
       "      <td>143083.000000</td>\n",
       "      <td>91105.000000</td>\n",
       "    </tr>\n",
       "  </tbody>\n",
       "</table>\n",
       "</div>"
      ],
      "text/plain": [
       "       favorite_count  retweet_count\n",
       "count     1000.000000    1000.000000\n",
       "mean      2463.178000    1107.106000\n",
       "std       8334.090586    4680.627505\n",
       "min          0.000000       0.000000\n",
       "25%          0.000000     107.750000\n",
       "50%        650.500000     254.000000\n",
       "75%       1993.000000     662.500000\n",
       "max     143083.000000   91105.000000"
      ]
     },
     "execution_count": 10,
     "metadata": {},
     "output_type": "execute_result"
    }
   ],
   "source": [
    "bill_df.describe()\n",
    "\n",
    "# Wow, there is a 143083 likes on a tweet. The most retweet is 91105. \n",
    "# In average, Bill has 2400 likes with standard deviationof 8334. This still more than a thousand likes. "
   ]
  },
  {
   "cell_type": "code",
   "execution_count": 11,
   "metadata": {
    "scrolled": true
   },
   "outputs": [
    {
     "data": {
      "image/png": "[encoded data removed]",
      "text/plain": [
       "<matplotlib.figure.Figure at 0x1147e49e8>"
      ]
     },
     "metadata": {
      "image/png": {
       "height": 291,
       "width": 635
      }
     },
     "output_type": "display_data"
    }
   ],
   "source": [
    "# Look at Bill 5 most liked tweet\n",
    "\n",
    "bill_df['favorite_count'].sort_values(ascending = False)[:5].plot(kind = 'bar',\n",
    "                                                                   figsize = (10, 4),\n",
    "                                                                  color = 'c')\n",
    "plt.title('Bill Nye Five Most Favorite Tweets', fontsize = 16)\n",
    "plt.xlabel('Tweet ID', fontsize = 12)\n",
    "plt.ylabel('Favorite Count', fontsize = 12)\n",
    "plt.show()\n"
   ]
  },
  {
   "cell_type": "code",
   "execution_count": 12,
   "metadata": {
    "scrolled": true
   },
   "outputs": [
    {
     "name": "stdout",
     "output_type": "stream",
     "text": [
      "My lab coat is in the Smithsonian. Hope you’ll visit. https://t.co/934WsvaHkx\n",
      "\"They\" don't want you to be concerned about climate change, but @djkhaled &amp; I want you to be. Major 🔑/ Major 🔬 https://t.co/gKtI2TZLnC\n",
      "Ordering the EPA or NASA not to talk about climate change isn’t going to cool things off. Don't double down on deni… https://t.co/p8J7MRxjwc\n",
      "Happy Thanksgiving to all! https://t.co/FA12naYawU\n",
      "Don't ever let them tell you science isn't cool. @neiltyson https://t.co/OjDI51e8HM\n"
     ]
    }
   ],
   "source": [
    "# Bill tweets receive a lot of likes, especially the tweet line item 11, 397, 215, 259, and 361. \n",
    "# Let's see what these tweets were talking about. \n",
    "\n",
    "print (bill_df.iloc[11,6])\n",
    "print (bill_df.iloc[397,6])\n",
    "print (bill_df.iloc[215,6])\n",
    "print (bill_df.iloc[259,6])\n",
    "print (bill_df.iloc[361,6])\n"
   ]
  },
  {
   "cell_type": "markdown",
   "metadata": {},
   "source": [
    "The most favorite tweet from Bill Nye is about his lab coat being conserved in Smithsonian. It captured more than 140000 likes. Awwww. He deserves it!\n",
    "\n",
    "The next favorite likes from Bill relates to climate change, encourge science and discovery. Don't you love the latest 'Bill Nye Saves The World' Netflix series?\n",
    "\n",
    "Yes science is COOL!!!! \n",
    "\n",
    "He is my guy! \n",
    "\n",
    "Let's check Neil."
   ]
  },
  {
   "cell_type": "code",
   "execution_count": 14,
   "metadata": {
    "scrolled": true
   },
   "outputs": [
    {
     "name": "stdout",
     "output_type": "stream",
     "text": [
      "The most recent tweet from Neil Tyson is created at:  Mon Jan 08 16:46:31 +0000 2018\n",
      "The oldest tweet of the Neil Tyson tweet dataset is:  Fri Nov 13 17:32:34 +0000 2015\n"
     ]
    }
   ],
   "source": [
    "print ('The most recent tweet from Neil Tyson is created at: ', neil_df['created_at'][0])\n",
    "print ('The oldest tweet of the Neil Tyson tweet dataset is: ', neil_df['created_at'][999])\n"
   ]
  },
  {
   "cell_type": "markdown",
   "metadata": {},
   "source": [
    "**Neil's twitter dataset is about 2 years worth of tweets. He seems to tweet more than Bill.**\n",
    "\n",
    "** Let's check which tweets from Neil get the most likes.**"
   ]
  },
  {
   "cell_type": "code",
   "execution_count": 15,
   "metadata": {},
   "outputs": [
    {
     "data": {
      "text/html": [
       "<div>\n",
       "<style>\n",
       "    .dataframe thead tr:only-child th {\n",
       "        text-align: right;\n",
       "    }\n",
       "\n",
       "    .dataframe thead th {\n",
       "        text-align: left;\n",
       "    }\n",
       "\n",
       "    .dataframe tbody tr th {\n",
       "        vertical-align: top;\n",
       "    }\n",
       "</style>\n",
       "<table border=\"1\" class=\"dataframe\">\n",
       "  <thead>\n",
       "    <tr style=\"text-align: right;\">\n",
       "      <th></th>\n",
       "      <th>favorite_count</th>\n",
       "      <th>retweet_count</th>\n",
       "    </tr>\n",
       "  </thead>\n",
       "  <tbody>\n",
       "    <tr>\n",
       "      <th>count</th>\n",
       "      <td>1000.000000</td>\n",
       "      <td>1000.000000</td>\n",
       "    </tr>\n",
       "    <tr>\n",
       "      <th>mean</th>\n",
       "      <td>15789.630000</td>\n",
       "      <td>5427.304000</td>\n",
       "    </tr>\n",
       "    <tr>\n",
       "      <th>std</th>\n",
       "      <td>32507.746589</td>\n",
       "      <td>12702.757881</td>\n",
       "    </tr>\n",
       "    <tr>\n",
       "      <th>min</th>\n",
       "      <td>0.000000</td>\n",
       "      <td>0.000000</td>\n",
       "    </tr>\n",
       "    <tr>\n",
       "      <th>25%</th>\n",
       "      <td>508.500000</td>\n",
       "      <td>67.250000</td>\n",
       "    </tr>\n",
       "    <tr>\n",
       "      <th>50%</th>\n",
       "      <td>4601.500000</td>\n",
       "      <td>1007.500000</td>\n",
       "    </tr>\n",
       "    <tr>\n",
       "      <th>75%</th>\n",
       "      <td>17424.000000</td>\n",
       "      <td>5185.750000</td>\n",
       "    </tr>\n",
       "    <tr>\n",
       "      <th>max</th>\n",
       "      <td>355776.000000</td>\n",
       "      <td>142330.000000</td>\n",
       "    </tr>\n",
       "  </tbody>\n",
       "</table>\n",
       "</div>"
      ],
      "text/plain": [
       "       favorite_count  retweet_count\n",
       "count     1000.000000    1000.000000\n",
       "mean     15789.630000    5427.304000\n",
       "std      32507.746589   12702.757881\n",
       "min          0.000000       0.000000\n",
       "25%        508.500000      67.250000\n",
       "50%       4601.500000    1007.500000\n",
       "75%      17424.000000    5185.750000\n",
       "max     355776.000000  142330.000000"
      ]
     },
     "execution_count": 15,
     "metadata": {},
     "output_type": "execute_result"
    }
   ],
   "source": [
    "neil_df.describe()"
   ]
  },
  {
   "cell_type": "markdown",
   "metadata": {},
   "source": [
    "Oh wow!!!! 355836 likes with 142330 retweet. Let's check it out. "
   ]
  },
  {
   "cell_type": "code",
   "execution_count": 16,
   "metadata": {},
   "outputs": [
    {
     "data": {
      "image/png": "[encoded data removed]",
      "text/plain": [
       "<matplotlib.figure.Figure at 0x1147e4828>"
      ]
     },
     "metadata": {
      "image/png": {
       "height": 291,
       "width": 635
      }
     },
     "output_type": "display_data"
    }
   ],
   "source": [
    "# Look at Bill most favorite tweet\n",
    "\n",
    "neil_df['favorite_count'].sort_values(ascending = False)[:5].plot(kind = 'bar',\n",
    "                                                                   figsize = (10, 4),\n",
    "                                                                  color = 'b')\n",
    "plt.title('Neil Tyson 5 Most Favorite Tweets', fontsize = 16)\n",
    "plt.xlabel('Tweet ID', fontsize = 12)\n",
    "plt.ylabel('Favorite Count', fontsize = 12)\n",
    "plt.show()"
   ]
  },
  {
   "cell_type": "code",
   "execution_count": 17,
   "metadata": {},
   "outputs": [
    {
     "name": "stdout",
     "output_type": "stream",
     "text": [
      "In school, students cheat because the system values high grades more than students value learning.\n",
      "Let’s Make America Smart Again.\n",
      "Merry Christmas to the world’s 2.5 billion Christians. And to the remaining 5 billion people, including Muslims Ath… https://t.co/ovBFBiOsgU\n",
      "Odd. No one is in denial of America’s Aug 21 total solar eclipse. Like Climate Change, methods &amp; tools of science predict it.\n",
      "I dream of a world where the truth is what shapes people's politics, rather than politics shaping what people think is true.\n"
     ]
    }
   ],
   "source": [
    "# Let's see what these tweets were talking about from Neil. \n",
    "\n",
    "print (neil_df.iloc[141,6])\n",
    "print (neil_df.iloc[89,6])\n",
    "print (neil_df.iloc[20,6])\n",
    "print (neil_df.iloc[182,6])\n",
    "print (neil_df.iloc[471,6])"
   ]
  },
  {
   "cell_type": "markdown",
   "metadata": {},
   "source": [
    "I totally agree education system emphasizes too much on grades instead of learning.\n",
    "\n",
    "Overwhelmingly agreed by people, but still, there isn't an alternative or should I say, another popular system to measure level of student competency except throwing them into a test pit. \n"
   ]
  },
  {
   "cell_type": "markdown",
   "metadata": {},
   "source": [
    "## Word Frequency"
   ]
  },
  {
   "cell_type": "markdown",
   "metadata": {},
   "source": [
    "One of the ways to analyze user tweeting style and what they commonly talk about is word frequency. \n",
    "\n",
    "Every user has their favorite words to use. Let's break down the two users' tweets and find out what words they like to use. "
   ]
  },
  {
   "cell_type": "code",
   "execution_count": 18,
   "metadata": {
    "scrolled": true
   },
   "outputs": [
    {
     "name": "stdout",
     "output_type": "stream",
     "text": [
      "Original_test_tweet -->  RT @BillNyeSaves: Woah, dude. Season 2 starts off with a bong...we mean, bang. #BNSTW https://t.co/PKRWKfT1rt\n",
      "-------\n",
      "Tokenize_test_tweet -->   ['RT', '@', 'BillNyeSaves', ':', 'Woah', ',', 'dude', '.', 'Season', '2', 'starts', 'off', 'with', 'a', 'bong', '...', 'we', 'mean', ',', 'bang', '.', '#', 'BNSTW', 'https', ':', '//t.co/PKRWKfT1rt']\n"
     ]
    }
   ],
   "source": [
    "# nltk has a word tokenizer that would break down the words. \n",
    "\n",
    "#import nltk library\n",
    "import nltk\n",
    "from nltk.tokenize import word_tokenize\n",
    "\n",
    "# test how a tweet being tokenized using nltk tokenizer\n",
    "test_tweet = bill_df['text'][7]\n",
    "print ('Original_test_tweet --> ', test_tweet)\n",
    "\n",
    "print ('-------')\n",
    "\n",
    "tokenize_test_tweet = word_tokenize(test_tweet)\n",
    "print('Tokenize_test_tweet -->  ', tokenize_test_tweet)"
   ]
  },
  {
   "cell_type": "markdown",
   "metadata": {},
   "source": [
    "**The nltk word tokenizer breaks down words using standard English words.**\n",
    "\n",
    "\n",
    "**But social media chats are different, especially tweets. Tweets have a lot of**\n",
    "* hashtags begin with #, \n",
    "* mentions begin with @, \n",
    "* urls begin with http(s), and \n",
    "* emojis\n",
    "\n",
    "** These should be treated as one string of word. For example, https://t.co/PKRWKfT1rt should be treated as an url. But nltk tokenizer breaks the url into three parts:**\n",
    "\n",
    "    1) https\n",
    "    2) :\n",
    "    3) //t.co/PKRWKfT1rt\n",
    "    "
   ]
  },
  {
   "cell_type": "markdown",
   "metadata": {},
   "source": [
    "Some words such as 'i', 'me', 'my' etc. are very common and used on all types of writings. But these words do not help on distinguishing user writing style, pattern analysis, and predictions.\n",
    "\n",
    "These words are called stop words.\n",
    "\n",
    "nltk has a ‘stopword’ library that can remove these stop words.\n",
    "\n",
    "Punctuations also have are irrelevent when it comes to sentiment analysis except they come with the #hashtags, @mentions, and http(s)//:url. We need to eliminate these punctuations. String library has the list of punctuations. \n"
   ]
  },
  {
   "cell_type": "code",
   "execution_count": 19,
   "metadata": {},
   "outputs": [
    {
     "name": "stdout",
     "output_type": "stream",
     "text": [
      "['i', 'me', 'my', 'myself', 'we', 'our', 'ours', 'ourselves', 'you', \"you're\", \"you've\", \"you'll\", \"you'd\", 'your', 'yours', 'yourself', 'yourselves', 'he', 'him', 'his', 'himself', 'she', \"she's\", 'her', 'hers', 'herself', 'it', \"it's\", 'its', 'itself', 'they', 'them', 'their', 'theirs', 'themselves', 'what', 'which', 'who', 'whom', 'this', 'that', \"that'll\", 'these', 'those', 'am', 'is', 'are', 'was', 'were', 'be', 'been', 'being', 'have', 'has', 'had', 'having', 'do', 'does', 'did', 'doing', 'a', 'an', 'the', 'and', 'but', 'if', 'or', 'because', 'as', 'until', 'while', 'of', 'at', 'by', 'for', 'with', 'about', 'against', 'between', 'into', 'through', 'during', 'before', 'after', 'above', 'below', 'to', 'from', 'up', 'down', 'in', 'out', 'on', 'off', 'over', 'under', 'again', 'further', 'then', 'once', 'here', 'there', 'when', 'where', 'why', 'how', 'all', 'any', 'both', 'each', 'few', 'more', 'most', 'other', 'some', 'such', 'no', 'nor', 'not', 'only', 'own', 'same', 'so', 'than', 'too', 'very', 's', 't', 'can', 'will', 'just', 'don', \"don't\", 'should', \"should've\", 'now', 'd', 'll', 'm', 'o', 're', 've', 'y', 'ain', 'aren', \"aren't\", 'couldn', \"couldn't\", 'didn', \"didn't\", 'doesn', \"doesn't\", 'hadn', \"hadn't\", 'hasn', \"hasn't\", 'haven', \"haven't\", 'isn', \"isn't\", 'ma', 'mightn', \"mightn't\", 'mustn', \"mustn't\", 'needn', \"needn't\", 'shan', \"shan't\", 'shouldn', \"shouldn't\", 'wasn', \"wasn't\", 'weren', \"weren't\", 'won', \"won't\", 'wouldn', \"wouldn't\"]\n",
      "['!', '\"', '#', '$', '%', '&', \"'\", '(', ')', '*', '+', ',', '-', '.', '/', ':', ';', '<', '=', '>', '?', '@', '[', '\\\\', ']', '^', '_', '`', '{', '|', '}', '~']\n"
     ]
    }
   ],
   "source": [
    "# Import the stopwords library from nltk and punctuations from string. \n",
    "\n",
    "from nltk.corpus import stopwords\n",
    "import string\n",
    "\n",
    "stopwords = stopwords.words('english')\n",
    "\n",
    "punctuations = list(string.punctuation)\n",
    "\n",
    "# Take a look at the stopwords and punctuations for eliminations\n",
    "print(stopwords)\n",
    "\n",
    "print(punctuations)"
   ]
  },
  {
   "cell_type": "code",
   "execution_count": 21,
   "metadata": {
    "collapsed": true,
    "scrolled": false
   },
   "outputs": [],
   "source": [
    "# there may be some additional non-meaningful words we want to remove as well. \n",
    "# Let's create a list called do_not_want_list.\n",
    "# Words that have no impact on sentiment analysis can be added to this extended list. \n",
    "\n",
    "do_not_want_list = ['rt', 'amp', 'q', '1', '2', '3', '4', '5', \n",
    "                    '6', '7', '8', '9', '10', '11', '12', '13','14', '15', '16',\n",
    "                    '17', '18', '19', '20', '21', '22', '23', '24', '25', \n",
    "                    '26', '27', '28', '29', '30', '31',\"i'am\", \"it's\", \"don't\", \n",
    "                    'w', 'bill', '@billnye', \"let's\", 'https', 'us', 'fyi', 'would', 'one']\n",
    "                "
   ]
  },
  {
   "cell_type": "code",
   "execution_count": 22,
   "metadata": {},
   "outputs": [],
   "source": [
    "# Combine all the stop words, punctunation, and do_not_want_list for removal\n",
    "\n",
    "stop = stopwords + punctuations + do_not_want_list"
   ]
  },
  {
   "cell_type": "code",
   "execution_count": 23,
   "metadata": {
    "collapsed": true
   },
   "outputs": [],
   "source": [
    "# Since we want the emojis, the hashtags with #, the mention with @, \n",
    "# and the web addresses with http/https: tokenized as whole string, \n",
    "# we need to tokenize them differently.\n",
    "# I borrowed this code from Marco Bonazani and twist it a bit to accomodate my requirements. \n",
    "# Thank you Marco. \n",
    "\n",
    "# Keep the emojis\n",
    "emoticons_str = r\"\"\"\n",
    "    (?:\n",
    "        [:=;] # Eyes\n",
    "        [oO\\-]? # Nose (optional)\n",
    "        [D\\)\\]\\(\\]/\\\\OpP] # Mouth\n",
    "    )\"\"\"\n",
    "\n",
    "# Keep the special phases\n",
    "regex_str = [\n",
    "    emoticons_str,\n",
    "    r'<[^>]+>', # HTML tags\n",
    "    r'(?:@[\\w_]+)', # @-mentions\n",
    "    r\"(?:\\#+[\\w_]+[\\w\\'_\\-]*[\\w_]+)\", # hash-tags\n",
    "    r'http[s]?://(?:[a-z]|[0-9]|[$-_@.&amp;+]|[!*\\(\\),]|(?:%[0-9a-f][0-9a-f]))+', # URLs\n",
    "    r'(?:(?:\\d+,?)+(?:\\.?\\d+)?)', # numbers\n",
    "    r\"(?:[a-z][a-z'\\-_]+[a-z])\", # words with - and\n",
    "    r'(?:[\\w_]+)', # other words\n",
    "    r'(?:\\S)' # anything else\n",
    "    r'^\\d*'\n",
    "]\n",
    "    \n",
    "tokens_re = re.compile(r'('+'|'.join(regex_str)+')', re.VERBOSE | re.IGNORECASE)\n",
    "emoticon_re = re.compile(r'^'+emoticons_str+'$', re.VERBOSE | re.IGNORECASE)\n",
    " \n",
    "def tokenize(s):\n",
    "    return tokens_re.findall(s)\n",
    " \n",
    "def tweet_preprocess(s, lowercase=False):\n",
    "    tokens = tokenize(s)\n",
    "    tokens = [word for word in tokens if not word in stop]\n",
    "    if lowercase:\n",
    "        tokens = [token if emoticon_re.search(token) else token.lower() for token in tokens]\n",
    "    return tokens"
   ]
  },
  {
   "cell_type": "code",
   "execution_count": 24,
   "metadata": {
    "scrolled": true
   },
   "outputs": [
    {
     "name": "stdout",
     "output_type": "stream",
     "text": [
      "Original_test_tweet -->  RT @BillNyeSaves: Woah, dude. Season 2 starts off with a bong...we mean, bang. #BNSTW https://t.co/PKRWKfT1rt\n",
      "---------------------------------------\n",
      "Standard_tokenize_test_tweet -->   ['RT', '@', 'BillNyeSaves', ':', 'Woah', ',', 'dude', '.', 'Season', '2', 'starts', 'off', 'with', 'a', 'bong', '...', 'we', 'mean', ',', 'bang', '.', '#', 'BNSTW', 'https', ':', '//t.co/PKRWKfT1rt']\n",
      "---------------------------------------\n",
      "Customize_tokenize_test_tweet -->  ['RT', '@BillNyeSaves', 'Woah', 'dude', 'Season', 'starts', 'bong', 'mean', 'bang', '#BNSTW', 'https://t.co/PKRWKfT1rt']\n"
     ]
    }
   ],
   "source": [
    "# Compare how the tweet being tokenized now using customized tokenization.\n",
    "\n",
    "print ('Original_test_tweet --> ', test_tweet)\n",
    "\n",
    "print ('---------------------------------------')\n",
    "\n",
    "tokenize_test_tweet = word_tokenize(test_tweet)\n",
    "print('Standard_tokenize_test_tweet -->  ', tokenize_test_tweet)\n",
    "\n",
    "print ('---------------------------------------')\n",
    "\n",
    "print('Customize_tokenize_test_tweet --> ', tweet_preprocess(test_tweet))\n"
   ]
  },
  {
   "cell_type": "markdown",
   "metadata": {},
   "source": [
    "** The customized tokenization is not perfect. But the function keeps the hashtags, the mentions and the url intact. **\n",
    "\n",
    "** Punctuations such as individual ':', '&', ';' also removed.**\n",
    "\n",
    "** Stop words such as 'off' and 'with' are removed. The word 'As' is not removed because we have not make it a lowercase yet. If you notice, all stop words are in lowercase. **\n",
    "\n",
    "** There are some words such as 'RT', meaning retweet, 'amp', and the date break down will not have much meaningful on user and topic predictions. These will be added to the do_not_want_list for removal.**\n",
    "\n",
    "** What we are going to do next is to create a corpus using the customized tokenizer. **\n",
    "\n"
   ]
  },
  {
   "cell_type": "code",
   "execution_count": 25,
   "metadata": {
    "scrolled": false
   },
   "outputs": [
    {
     "name": "stdout",
     "output_type": "stream",
     "text": [
      "['@billnyesaves', 'happy', '2018', 'challenges', 'take', 'science-focused', 'resolutions', '#bnstw', 'https://t.co/mpdlotchpe', '@billnyesaves', '@okgo', 'teaming', 'science', 'could', 'better', '#bnstw', 'https://t.co/mfygd1n4g4', 'hmm', 'see', 'stranger']\n"
     ]
    }
   ],
   "source": [
    "# Now we create corpus for each scientist \n",
    "\n",
    "bill_corpus = []\n",
    "\n",
    "for word in bill_df['text']:\n",
    "    word = word.lower() # put all the words in lowercase\n",
    "    tweets = tweet_preprocess(word)\n",
    "    bill_corpus.extend(tweets)\n",
    "print(bill_corpus[:20])"
   ]
  },
  {
   "cell_type": "code",
   "execution_count": 26,
   "metadata": {},
   "outputs": [
    {
     "name": "stdout",
     "output_type": "stream",
     "text": [
      "['@andrelefrance', 'yup', 'comes', 'territory', '@bradprugar', 'found', 'black', 'hole', 'center', 'every', 'galaxy', 'equipment', 'sensitive', 'enough', 'https://t.co/5tw9ts3bse', 'studying', 'succeed', 'spite', 'broken', 'childhoods']\n"
     ]
    }
   ],
   "source": [
    "# Create a corpus for Neil\n",
    "\n",
    "neil_corpus=[]\n",
    "\n",
    "for word in neil_df['text']:\n",
    "    word = word.lower() # put all the words in lowercase\n",
    "    tweets = tweet_preprocess(word)\n",
    "    neil_corpus.extend(tweets)\n",
    "print(neil_corpus[:20])"
   ]
  },
  {
   "cell_type": "markdown",
   "metadata": {},
   "source": [
    "### Bill Nye's 20 Most Common Words"
   ]
  },
  {
   "cell_type": "code",
   "execution_count": 27,
   "metadata": {
    "collapsed": true
   },
   "outputs": [],
   "source": [
    "# Create a counter to count the words\n",
    "\n",
    "from collections import Counter\n",
    "bill_counter = Counter()"
   ]
  },
  {
   "cell_type": "code",
   "execution_count": 28,
   "metadata": {
    "scrolled": true
   },
   "outputs": [
    {
     "name": "stdout",
     "output_type": "stream",
     "text": [
      "[('science', 113), ('change', 85), ('world', 76), ('climate', 69), ('@exploreplanets', 68), ('day', 58), ('today', 53), ('get', 52), ('new', 39), ('tonight', 38), ('space', 37), ('happy', 33), ('time', 33), ('@billnyefilm', 33), ('join', 32), ('big', 32), ('#strictlyscience', 31), (\"we're\", 28), ('thank', 27), (\"i'm\", 27)]\n"
     ]
    }
   ],
   "source": [
    "# Loop through the Bill's corpus to count words\n",
    "\n",
    "for word in bill_corpus:\n",
    "    bill_counter[word] +=1\n",
    "    \n",
    "# Check the 20 most common words Bill uses   \n",
    "print(bill_counter.most_common(20))"
   ]
  },
  {
   "cell_type": "code",
   "execution_count": 29,
   "metadata": {
    "scrolled": false
   },
   "outputs": [
    {
     "data": {
      "image/png": "[encoded data removed]",
      "text/plain": [
       "<matplotlib.figure.Figure at 0x11464f908>"
      ]
     },
     "metadata": {
      "image/png": {
       "height": 463,
       "width": 733
      }
     },
     "output_type": "display_data"
    }
   ],
   "source": [
    "bill_common_words = pd.DataFrame(bill_counter.most_common(20), columns = ['word', 'count'])\n",
    "bill_common_words.plot(x = 'word', y = 'count', kind = 'bar', figsize = (12, 6), fontsize=12,\n",
    "                      colormap = 'coolwarm', rot = 45)\n",
    "\n",
    "plt.title('Bill Nye Common Words Use in Tweets', fontsize = 16)\n",
    "plt.xlabel('Word', fontsize = 14)\n",
    "plt.ylabel('Word Frequency', fontsize = 14)\n",
    "plt.show()\n"
   ]
  },
  {
   "cell_type": "markdown",
   "metadata": {},
   "source": [
    "** OK, we have Bill's most common word tally. **\n",
    "\n",
    "** Bill likes to talk about science (yes of course, he is a scientist). He uses the words change, world, and climate a lot. **\n",
    "\n",
    "** Bill also mentions exploring planets many times.**\n",
    "\n",
    "** Let's check Neil.**"
   ]
  },
  {
   "cell_type": "markdown",
   "metadata": {},
   "source": [
    "### Neil Tyson 20 Most Common Words"
   ]
  },
  {
   "cell_type": "code",
   "execution_count": 30,
   "metadata": {
    "scrolled": true
   },
   "outputs": [
    {
     "name": "stdout",
     "output_type": "stream",
     "text": [
      "[('earth', 84), ('@startalkradio', 74), ('posted', 69), ('people', 56), ('moon', 49), ('time', 48), ('day', 47), ('science', 47), ('cosmic', 44), ('like', 42), ('world', 41), ('@itunespodcasts', 38), ('years', 31), ('universe', 30), ('know', 30), ('good', 29), ('last', 28), ('sun', 27), ('space', 27), ('never', 27)]\n"
     ]
    }
   ],
   "source": [
    "# Loop through the Neil's corpus to count words\n",
    "neil_counter = Counter()\n",
    "\n",
    "for word in neil_corpus:\n",
    "    neil_counter[word] +=1\n",
    "# check the most common 20 words    \n",
    "print(neil_counter.most_common(20))"
   ]
  },
  {
   "cell_type": "code",
   "execution_count": 31,
   "metadata": {},
   "outputs": [
    {
     "data": {
      "image/png": "[encoded data removed]",
      "text/plain": [
       "<matplotlib.figure.Figure at 0x1a20418be0>"
      ]
     },
     "metadata": {
      "image/png": {
       "height": 464,
       "width": 726
      }
     },
     "output_type": "display_data"
    }
   ],
   "source": [
    "neil_common_words = pd.DataFrame(neil_counter.most_common(20), columns = ['word', 'count'])\n",
    "neil_common_words.plot(x = 'word', y = 'count', kind = 'bar', figsize = (12, 6), fontsize=12,\n",
    "                      colormap = 'summer', rot = 45)\n",
    "\n",
    "plt.title('Neil Tyson Common Words Use in Tweets', fontsize = 16)\n",
    "plt.xlabel('Word', fontsize = 14)\n",
    "plt.ylabel('Word Frequency', fontsize = 14)\n",
    "plt.show()"
   ]
  },
  {
   "cell_type": "markdown",
   "metadata": {},
   "source": [
    "** My perception is that Neil usually focus on other planets. But he cares about the ultimate home we live, the earth and the people.** \n"
   ]
  },
  {
   "cell_type": "code",
   "execution_count": 36,
   "metadata": {
    "scrolled": true
   },
   "outputs": [],
   "source": [
    "# Let's look at the word cloud\n",
    "\n",
    "more_stop_words = {'word', 'count'}\n",
    "from wordcloud import WordCloud, STOPWORDS\n",
    "stopwords = set(STOPWORDS.union(more_stop_words))"
   ]
  },
  {
   "cell_type": "code",
   "execution_count": 40,
   "metadata": {
    "scrolled": true
   },
   "outputs": [
    {
     "name": "stdout",
     "output_type": "stream",
     "text": [
      "<wordcloud.wordcloud.WordCloud object at 0x1a2152dd68>\n"
     ]
    },
    {
     "data": {
      "image/png": "[encoded data removed]",
      "text/plain": [
       "<matplotlib.figure.Figure at 0x1a22690fd0>"
      ]
     },
     "metadata": {
      "image/png": {
       "height": 424,
       "width": 600
      }
     },
     "output_type": "display_data"
    }
   ],
   "source": [
    "# Visualize Bill Nye's frequent word use with wordcloud\n",
    "\n",
    "wordcloud = WordCloud(background_color='black',\n",
    "                     stopwords = stopwords,\n",
    "                     width = 600,\n",
    "                     height = 400,\n",
    "                     ).generate(str(bill_common_words[:50]))\n",
    "\n",
    "\n",
    "print(wordcloud)\n",
    "fig = plt.figure(figsize=(10,10))\n",
    "plt.title(\"Bill Nye's Word Cloud\", fontsize = 20)\n",
    "plt.imshow(wordcloud)\n",
    "plt.axis('off')\n",
    "plt.show()\n",
    "\n",
    "                     "
   ]
  },
  {
   "cell_type": "markdown",
   "metadata": {},
   "source": [
    "Science, climate change, and world mostly talked about by Bill. "
   ]
  },
  {
   "cell_type": "code",
   "execution_count": 41,
   "metadata": {},
   "outputs": [
    {
     "name": "stdout",
     "output_type": "stream",
     "text": [
      "<wordcloud.wordcloud.WordCloud object at 0x1a20f96da0>\n"
     ]
    },
    {
     "data": {
      "image/png": "[encoded data removed]",
      "text/plain": [
       "<matplotlib.figure.Figure at 0x1a215626d8>"
      ]
     },
     "metadata": {
      "image/png": {
       "height": 424,
       "width": 600
      }
     },
     "output_type": "display_data"
    }
   ],
   "source": [
    "# Visualize Neil Tyson's frequent word use with wordcloud\n",
    "\n",
    "wordcloud = WordCloud(background_color='black',\n",
    "                      stopwords = stopwords, \n",
    "                     width = 600,\n",
    "                     height = 400, \n",
    "                     ).generate(str(neil_common_words[:50]))\n",
    "\n",
    "\n",
    "print(wordcloud)\n",
    "fig = plt.figure(figsize=(10,10))\n",
    "plt.title(\"Neil Tyson's Word Cloud\", fontsize = 20)\n",
    "plt.imshow(wordcloud)\n",
    "plt.axis('off')\n",
    "plt.show()\n"
   ]
  },
  {
   "cell_type": "markdown",
   "metadata": {},
   "source": [
    "Very surprising, Neil talks about the earth and people more than he talks about universe and cosmic. "
   ]
  },
  {
   "cell_type": "markdown",
   "metadata": {},
   "source": [
    "---"
   ]
  },
  {
   "cell_type": "markdown",
   "metadata": {},
   "source": [
    "## Bill or Neil?"
   ]
  },
  {
   "cell_type": "markdown",
   "metadata": {},
   "source": [
    "Now, do you think we can predict which tweet belong to who?"
   ]
  },
  {
   "cell_type": "code",
   "execution_count": 42,
   "metadata": {
    "scrolled": false
   },
   "outputs": [
    {
     "data": {
      "text/html": [
       "<div>\n",
       "<style>\n",
       "    .dataframe thead tr:only-child th {\n",
       "        text-align: right;\n",
       "    }\n",
       "\n",
       "    .dataframe thead th {\n",
       "        text-align: left;\n",
       "    }\n",
       "\n",
       "    .dataframe tbody tr th {\n",
       "        vertical-align: top;\n",
       "    }\n",
       "</style>\n",
       "<table border=\"1\" class=\"dataframe\">\n",
       "  <thead>\n",
       "    <tr style=\"text-align: right;\">\n",
       "      <th></th>\n",
       "      <th>created_at</th>\n",
       "      <th>favorite_count</th>\n",
       "      <th>handle</th>\n",
       "      <th>hashtags</th>\n",
       "      <th>mined_at</th>\n",
       "      <th>retweet_count</th>\n",
       "      <th>text</th>\n",
       "    </tr>\n",
       "  </thead>\n",
       "  <tbody>\n",
       "    <tr>\n",
       "      <th>877</th>\n",
       "      <td>Thu Feb 26 04:15:49 +0000 2015</td>\n",
       "      <td>1408</td>\n",
       "      <td>Bill Nye</td>\n",
       "      <td>[]</td>\n",
       "      <td>2018-01-09 08:47:19.738763</td>\n",
       "      <td>256</td>\n",
       "      <td>You go Jon @TheDailyShow! http://t.co/Mmx08X6uJ1</td>\n",
       "    </tr>\n",
       "    <tr>\n",
       "      <th>600</th>\n",
       "      <td>Wed Oct 05 22:36:51 +0000 2016</td>\n",
       "      <td>368</td>\n",
       "      <td>Neil deGrasse Tyson</td>\n",
       "      <td>[]</td>\n",
       "      <td>2018-01-09 08:47:21.573146</td>\n",
       "      <td>34</td>\n",
       "      <td>@ivychat Maybe I‘m floating in an atmospheric ...</td>\n",
       "    </tr>\n",
       "    <tr>\n",
       "      <th>801</th>\n",
       "      <td>Wed Mar 09 20:56:17 +0000 2016</td>\n",
       "      <td>14393</td>\n",
       "      <td>Neil deGrasse Tyson</td>\n",
       "      <td>[]</td>\n",
       "      <td>2018-01-09 08:47:22.187591</td>\n",
       "      <td>3848</td>\n",
       "      <td>I’m simultaneously flattered and disturbed whe...</td>\n",
       "    </tr>\n",
       "    <tr>\n",
       "      <th>106</th>\n",
       "      <td>Fri May 26 22:40:45 +0000 2017</td>\n",
       "      <td>0</td>\n",
       "      <td>Bill Nye</td>\n",
       "      <td>[]</td>\n",
       "      <td>2018-01-09 08:47:17.707786</td>\n",
       "      <td>44</td>\n",
       "      <td>RT @billnyefilm: We're two weeks out from our ...</td>\n",
       "    </tr>\n",
       "    <tr>\n",
       "      <th>235</th>\n",
       "      <td>Wed Jun 28 05:53:19 +0000 2017</td>\n",
       "      <td>77</td>\n",
       "      <td>Neil deGrasse Tyson</td>\n",
       "      <td>[]</td>\n",
       "      <td>2018-01-09 08:47:20.553628</td>\n",
       "      <td>23</td>\n",
       "      <td>@whoisjawsh @WombatGombac @dallasnews @joeroga...</td>\n",
       "    </tr>\n",
       "  </tbody>\n",
       "</table>\n",
       "</div>"
      ],
      "text/plain": [
       "                         created_at  favorite_count               handle  \\\n",
       "877  Thu Feb 26 04:15:49 +0000 2015            1408             Bill Nye   \n",
       "600  Wed Oct 05 22:36:51 +0000 2016             368  Neil deGrasse Tyson   \n",
       "801  Wed Mar 09 20:56:17 +0000 2016           14393  Neil deGrasse Tyson   \n",
       "106  Fri May 26 22:40:45 +0000 2017               0             Bill Nye   \n",
       "235  Wed Jun 28 05:53:19 +0000 2017              77  Neil deGrasse Tyson   \n",
       "\n",
       "    hashtags                   mined_at  retweet_count  \\\n",
       "877       [] 2018-01-09 08:47:19.738763            256   \n",
       "600       [] 2018-01-09 08:47:21.573146             34   \n",
       "801       [] 2018-01-09 08:47:22.187591           3848   \n",
       "106       [] 2018-01-09 08:47:17.707786             44   \n",
       "235       [] 2018-01-09 08:47:20.553628             23   \n",
       "\n",
       "                                                  text  \n",
       "877   You go Jon @TheDailyShow! http://t.co/Mmx08X6uJ1  \n",
       "600  @ivychat Maybe I‘m floating in an atmospheric ...  \n",
       "801  I’m simultaneously flattered and disturbed whe...  \n",
       "106  RT @billnyefilm: We're two weeks out from our ...  \n",
       "235  @whoisjawsh @WombatGombac @dallasnews @joeroga...  "
      ]
     },
     "execution_count": 42,
     "metadata": {},
     "output_type": "execute_result"
    }
   ],
   "source": [
    "# combine the two user twitter datasets together\n",
    "\n",
    "data = pd.concat([bill_df, neil_df])\n",
    "data.sample(5)"
   ]
  },
  {
   "cell_type": "code",
   "execution_count": 43,
   "metadata": {},
   "outputs": [
    {
     "data": {
      "text/html": [
       "<div>\n",
       "<style>\n",
       "    .dataframe thead tr:only-child th {\n",
       "        text-align: right;\n",
       "    }\n",
       "\n",
       "    .dataframe thead th {\n",
       "        text-align: left;\n",
       "    }\n",
       "\n",
       "    .dataframe tbody tr th {\n",
       "        vertical-align: top;\n",
       "    }\n",
       "</style>\n",
       "<table border=\"1\" class=\"dataframe\">\n",
       "  <thead>\n",
       "    <tr style=\"text-align: right;\">\n",
       "      <th></th>\n",
       "      <th>created_at</th>\n",
       "      <th>favorite_count</th>\n",
       "      <th>handle</th>\n",
       "      <th>hashtags</th>\n",
       "      <th>mined_at</th>\n",
       "      <th>retweet_count</th>\n",
       "      <th>text</th>\n",
       "      <th>user_label</th>\n",
       "    </tr>\n",
       "  </thead>\n",
       "  <tbody>\n",
       "    <tr>\n",
       "      <th>67</th>\n",
       "      <td>Sat Nov 04 15:03:39 +0000 2017</td>\n",
       "      <td>1780</td>\n",
       "      <td>Neil deGrasse Tyson</td>\n",
       "      <td>[]</td>\n",
       "      <td>2018-01-09 08:47:20.137651</td>\n",
       "      <td>261</td>\n",
       "      <td>Facts &amp;amp; Ethics of Human Augmentation w/ @d...</td>\n",
       "      <td>1</td>\n",
       "    </tr>\n",
       "    <tr>\n",
       "      <th>382</th>\n",
       "      <td>Thu May 19 15:19:54 +0000 2016</td>\n",
       "      <td>0</td>\n",
       "      <td>Bill Nye</td>\n",
       "      <td>[]</td>\n",
       "      <td>2018-01-09 08:47:18.116360</td>\n",
       "      <td>258</td>\n",
       "      <td>RT @RobertPicardo: Working a problem in univer...</td>\n",
       "      <td>0</td>\n",
       "    </tr>\n",
       "    <tr>\n",
       "      <th>653</th>\n",
       "      <td>Fri Aug 14 02:15:33 +0000 2015</td>\n",
       "      <td>1781</td>\n",
       "      <td>Bill Nye</td>\n",
       "      <td>[]</td>\n",
       "      <td>2018-01-09 08:47:19.167300</td>\n",
       "      <td>354</td>\n",
       "      <td>Wow. Just wow. Thank you to all who backed the...</td>\n",
       "      <td>0</td>\n",
       "    </tr>\n",
       "    <tr>\n",
       "      <th>837</th>\n",
       "      <td>Thu Feb 18 16:18:53 +0000 2016</td>\n",
       "      <td>11470</td>\n",
       "      <td>Neil deGrasse Tyson</td>\n",
       "      <td>[]</td>\n",
       "      <td>2018-01-09 08:47:22.187658</td>\n",
       "      <td>4334</td>\n",
       "      <td>I wonder if workplaces contain too many bosses...</td>\n",
       "      <td>1</td>\n",
       "    </tr>\n",
       "    <tr>\n",
       "      <th>64</th>\n",
       "      <td>Sat Nov 11 23:50:34 +0000 2017</td>\n",
       "      <td>20315</td>\n",
       "      <td>Neil deGrasse Tyson</td>\n",
       "      <td>[]</td>\n",
       "      <td>2018-01-09 08:47:20.137647</td>\n",
       "      <td>2440</td>\n",
       "      <td>Looks like a condensation-trail left by a plan...</td>\n",
       "      <td>1</td>\n",
       "    </tr>\n",
       "  </tbody>\n",
       "</table>\n",
       "</div>"
      ],
      "text/plain": [
       "                         created_at  favorite_count               handle  \\\n",
       "67   Sat Nov 04 15:03:39 +0000 2017            1780  Neil deGrasse Tyson   \n",
       "382  Thu May 19 15:19:54 +0000 2016               0             Bill Nye   \n",
       "653  Fri Aug 14 02:15:33 +0000 2015            1781             Bill Nye   \n",
       "837  Thu Feb 18 16:18:53 +0000 2016           11470  Neil deGrasse Tyson   \n",
       "64   Sat Nov 11 23:50:34 +0000 2017           20315  Neil deGrasse Tyson   \n",
       "\n",
       "    hashtags                   mined_at  retweet_count  \\\n",
       "67        [] 2018-01-09 08:47:20.137651            261   \n",
       "382       [] 2018-01-09 08:47:18.116360            258   \n",
       "653       [] 2018-01-09 08:47:19.167300            354   \n",
       "837       [] 2018-01-09 08:47:22.187658           4334   \n",
       "64        [] 2018-01-09 08:47:20.137647           2440   \n",
       "\n",
       "                                                  text  user_label  \n",
       "67   Facts &amp; Ethics of Human Augmentation w/ @d...           1  \n",
       "382  RT @RobertPicardo: Working a problem in univer...           0  \n",
       "653  Wow. Just wow. Thank you to all who backed the...           0  \n",
       "837  I wonder if workplaces contain too many bosses...           1  \n",
       "64   Looks like a condensation-trail left by a plan...           1  "
      ]
     },
     "execution_count": 43,
     "metadata": {},
     "output_type": "execute_result"
    }
   ],
   "source": [
    "#label the two users.\n",
    "\n",
    "data['user_label'] = data['handle'].map({'Bill Nye': 0, 'Neil deGrasse Tyson': 1})\n",
    "data.sample(5)\n"
   ]
  },
  {
   "cell_type": "code",
   "execution_count": 44,
   "metadata": {
    "collapsed": true
   },
   "outputs": [],
   "source": [
    "# Define independent & dependent variable.\n",
    "# In this case, the independent variable is the twitter text. The dependent variable would be the user_label.\n",
    "\n",
    "X = data['text']\n",
    "y = data['user_label'].values"
   ]
  },
  {
   "cell_type": "code",
   "execution_count": 45,
   "metadata": {
    "collapsed": true
   },
   "outputs": [],
   "source": [
    "# Splitting the dataset into the Training set and Test set.\n",
    "# Since the dataset has 2000 tweets, I use 90% for training and 10% for testing.\n",
    "\n",
    "from sklearn.model_selection import train_test_split\n",
    "X_train, X_test, y_train, y_test = train_test_split(X, y, test_size = 0.1)"
   ]
  },
  {
   "cell_type": "markdown",
   "metadata": {},
   "source": [
    "#### Since we are training a computer to learn words and computer only understands numbers, we must convert the tweets into numbers. This process is called vertorization or Bag of Words.\n",
    "#### scikit-learn has a few packges that can perform this task. The most commone ones are CountVectorizer,  HashingVectorizer, and TfidfVectorizer. \n",
    "#### In this case, I am using CountVectorizer to create Bag of Words. CountVectorizer turns a collection of words into numbers and counts the occurrence of each word appear in the twitter dataset.\n",
    "#### When the tweets are vectorized, they are being transformed into a document-term matrix, short for dtm. Each word (term) will be treated as an independent variable.\n",
    "\n"
   ]
  },
  {
   "cell_type": "code",
   "execution_count": 46,
   "metadata": {},
   "outputs": [
    {
     "data": {
      "text/plain": [
       "CountVectorizer(analyzer='word', binary=False, decode_error='strict',\n",
       "        dtype=<class 'numpy.int64'>, encoding='utf-8', input='content',\n",
       "        lowercase=True, max_df=1.0, max_features=1500, min_df=1,\n",
       "        ngram_range=(1, 1), preprocessor=None, stop_words=None,\n",
       "        strip_accents=None, token_pattern='(?u)\\\\b\\\\w\\\\w+\\\\b',\n",
       "        tokenizer=None, vocabulary=None)"
      ]
     },
     "execution_count": 46,
     "metadata": {},
     "output_type": "execute_result"
    }
   ],
   "source": [
    "# Create the Bag of Words model\n",
    "from sklearn.feature_extraction.text import CountVectorizer\n",
    "\n",
    "# Once the corpus is being vectorized and each individual word transfomred into a feature,\n",
    "# there will be thousands of features. We may just want to use the the most common 1500 words (features)\n",
    "\n",
    "vect = CountVectorizer(max_features = 1500)\n",
    "\n",
    "# First fit the corpus\n",
    "vect.fit(X_train)"
   ]
  },
  {
   "cell_type": "code",
   "execution_count": 47,
   "metadata": {
    "scrolled": false
   },
   "outputs": [
    {
     "name": "stdout",
     "output_type": "stream",
     "text": [
      "['00', '10', '10th', '12', '14', '16', '18', '1st', '2000', '2017', '21', '24', '27', '2m', '30', '30s', '3min', '3rd', '50', '71bdypsq1x', '9th', 'about', 'accurate', 'act', 'actonclimate']\n"
     ]
    }
   ],
   "source": [
    "print (vect.get_feature_names()[:50:2])"
   ]
  },
  {
   "cell_type": "code",
   "execution_count": 48,
   "metadata": {
    "scrolled": true
   },
   "outputs": [
    {
     "data": {
      "text/plain": [
       "<1800x1500 sparse matrix of type '<class 'numpy.int64'>'\n",
       "\twith 22003 stored elements in Compressed Sparse Row format>"
      ]
     },
     "execution_count": 48,
     "metadata": {},
     "output_type": "execute_result"
    }
   ],
   "source": [
    "# Then transform the training independent dataset into document term matrix. I called it X_train_dtm\n",
    "\n",
    "X_train_dtm = vect.transform(X_train)\n",
    "X_train_dtm"
   ]
  },
  {
   "cell_type": "code",
   "execution_count": 49,
   "metadata": {},
   "outputs": [
    {
     "data": {
      "text/plain": [
       "array([[0, 0, 0, ..., 0, 0, 0],\n",
       "       [0, 0, 0, ..., 0, 0, 0],\n",
       "       [0, 0, 0, ..., 0, 0, 0],\n",
       "       ..., \n",
       "       [0, 0, 0, ..., 0, 0, 0],\n",
       "       [0, 0, 0, ..., 0, 0, 0],\n",
       "       [0, 0, 0, ..., 0, 0, 0]])"
      ]
     },
     "execution_count": 49,
     "metadata": {},
     "output_type": "execute_result"
    }
   ],
   "source": [
    "X_train_dtm = X_train_dtm.toarray()\n",
    "X_train_dtm"
   ]
  },
  {
   "cell_type": "code",
   "execution_count": 50,
   "metadata": {
    "scrolled": true
   },
   "outputs": [
    {
     "data": {
      "text/html": [
       "<div>\n",
       "<style>\n",
       "    .dataframe thead tr:only-child th {\n",
       "        text-align: right;\n",
       "    }\n",
       "\n",
       "    .dataframe thead th {\n",
       "        text-align: left;\n",
       "    }\n",
       "\n",
       "    .dataframe tbody tr th {\n",
       "        vertical-align: top;\n",
       "    }\n",
       "</style>\n",
       "<table border=\"1\" class=\"dataframe\">\n",
       "  <thead>\n",
       "    <tr style=\"text-align: right;\">\n",
       "      <th></th>\n",
       "      <th>00</th>\n",
       "      <th>000</th>\n",
       "      <th>10</th>\n",
       "      <th>100</th>\n",
       "      <th>10th</th>\n",
       "      <th>11</th>\n",
       "      <th>12</th>\n",
       "      <th>13</th>\n",
       "      <th>14</th>\n",
       "      <th>15</th>\n",
       "      <th>...</th>\n",
       "      <th>you</th>\n",
       "      <th>young</th>\n",
       "      <th>your</th>\n",
       "      <th>yours</th>\n",
       "      <th>yourself</th>\n",
       "      <th>yrs</th>\n",
       "      <th>yup</th>\n",
       "      <th>yuuup</th>\n",
       "      <th>zeitgeistfilm</th>\n",
       "      <th>zero</th>\n",
       "    </tr>\n",
       "  </thead>\n",
       "  <tbody>\n",
       "    <tr>\n",
       "      <th>0</th>\n",
       "      <td>0</td>\n",
       "      <td>0</td>\n",
       "      <td>0</td>\n",
       "      <td>0</td>\n",
       "      <td>0</td>\n",
       "      <td>0</td>\n",
       "      <td>0</td>\n",
       "      <td>0</td>\n",
       "      <td>0</td>\n",
       "      <td>0</td>\n",
       "      <td>...</td>\n",
       "      <td>0</td>\n",
       "      <td>0</td>\n",
       "      <td>0</td>\n",
       "      <td>0</td>\n",
       "      <td>0</td>\n",
       "      <td>0</td>\n",
       "      <td>0</td>\n",
       "      <td>0</td>\n",
       "      <td>0</td>\n",
       "      <td>0</td>\n",
       "    </tr>\n",
       "    <tr>\n",
       "      <th>1</th>\n",
       "      <td>0</td>\n",
       "      <td>0</td>\n",
       "      <td>0</td>\n",
       "      <td>0</td>\n",
       "      <td>0</td>\n",
       "      <td>0</td>\n",
       "      <td>0</td>\n",
       "      <td>0</td>\n",
       "      <td>0</td>\n",
       "      <td>0</td>\n",
       "      <td>...</td>\n",
       "      <td>0</td>\n",
       "      <td>0</td>\n",
       "      <td>0</td>\n",
       "      <td>0</td>\n",
       "      <td>0</td>\n",
       "      <td>0</td>\n",
       "      <td>0</td>\n",
       "      <td>0</td>\n",
       "      <td>0</td>\n",
       "      <td>0</td>\n",
       "    </tr>\n",
       "    <tr>\n",
       "      <th>2</th>\n",
       "      <td>0</td>\n",
       "      <td>0</td>\n",
       "      <td>0</td>\n",
       "      <td>0</td>\n",
       "      <td>0</td>\n",
       "      <td>0</td>\n",
       "      <td>0</td>\n",
       "      <td>0</td>\n",
       "      <td>0</td>\n",
       "      <td>0</td>\n",
       "      <td>...</td>\n",
       "      <td>0</td>\n",
       "      <td>0</td>\n",
       "      <td>0</td>\n",
       "      <td>0</td>\n",
       "      <td>0</td>\n",
       "      <td>0</td>\n",
       "      <td>0</td>\n",
       "      <td>0</td>\n",
       "      <td>0</td>\n",
       "      <td>0</td>\n",
       "    </tr>\n",
       "    <tr>\n",
       "      <th>3</th>\n",
       "      <td>0</td>\n",
       "      <td>0</td>\n",
       "      <td>0</td>\n",
       "      <td>0</td>\n",
       "      <td>0</td>\n",
       "      <td>0</td>\n",
       "      <td>0</td>\n",
       "      <td>0</td>\n",
       "      <td>0</td>\n",
       "      <td>0</td>\n",
       "      <td>...</td>\n",
       "      <td>0</td>\n",
       "      <td>0</td>\n",
       "      <td>0</td>\n",
       "      <td>0</td>\n",
       "      <td>0</td>\n",
       "      <td>0</td>\n",
       "      <td>0</td>\n",
       "      <td>0</td>\n",
       "      <td>0</td>\n",
       "      <td>0</td>\n",
       "    </tr>\n",
       "    <tr>\n",
       "      <th>4</th>\n",
       "      <td>0</td>\n",
       "      <td>0</td>\n",
       "      <td>0</td>\n",
       "      <td>0</td>\n",
       "      <td>0</td>\n",
       "      <td>0</td>\n",
       "      <td>0</td>\n",
       "      <td>0</td>\n",
       "      <td>0</td>\n",
       "      <td>0</td>\n",
       "      <td>...</td>\n",
       "      <td>0</td>\n",
       "      <td>0</td>\n",
       "      <td>0</td>\n",
       "      <td>0</td>\n",
       "      <td>0</td>\n",
       "      <td>0</td>\n",
       "      <td>0</td>\n",
       "      <td>0</td>\n",
       "      <td>0</td>\n",
       "      <td>0</td>\n",
       "    </tr>\n",
       "  </tbody>\n",
       "</table>\n",
       "<p>5 rows × 1500 columns</p>\n",
       "</div>"
      ],
      "text/plain": [
       "   00  000  10  100  10th  11  12  13  14  15  ...   you  young  your  yours  \\\n",
       "0   0    0   0    0     0   0   0   0   0   0  ...     0      0     0      0   \n",
       "1   0    0   0    0     0   0   0   0   0   0  ...     0      0     0      0   \n",
       "2   0    0   0    0     0   0   0   0   0   0  ...     0      0     0      0   \n",
       "3   0    0   0    0     0   0   0   0   0   0  ...     0      0     0      0   \n",
       "4   0    0   0    0     0   0   0   0   0   0  ...     0      0     0      0   \n",
       "\n",
       "   yourself  yrs  yup  yuuup  zeitgeistfilm  zero  \n",
       "0         0    0    0      0              0     0  \n",
       "1         0    0    0      0              0     0  \n",
       "2         0    0    0      0              0     0  \n",
       "3         0    0    0      0              0     0  \n",
       "4         0    0    0      0              0     0  \n",
       "\n",
       "[5 rows x 1500 columns]"
      ]
     },
     "execution_count": 50,
     "metadata": {},
     "output_type": "execute_result"
    }
   ],
   "source": [
    "# Take a look at how the corpus being vectorized. \n",
    "\n",
    "pd.DataFrame(X_train_dtm, columns = vect.get_feature_names()).head()"
   ]
  },
  {
   "cell_type": "markdown",
   "metadata": {},
   "source": [
    "#### As you can see, the vectorization process turns each individual word into a feature. \n",
    "#### Most people typically use a very small subset of words frequently. This resulting matrix will have many feature values that are zeros (99% of them).\n",
    "#### For example, the collection of these 2000 tweets may contain 10,000 unique words in total. Each tweet usually use less than 20 unique words. Twitter only allows you to use only 140 characters anyway. \n",
    "#### Choosing 1500 words (features) should be sufficient.\n"
   ]
  },
  {
   "cell_type": "markdown",
   "metadata": {},
   "source": [
    "## Model Selection"
   ]
  },
  {
   "cell_type": "markdown",
   "metadata": {},
   "source": [
    "### 1) Gaussian Naive Bayes"
   ]
  },
  {
   "cell_type": "markdown",
   "metadata": {},
   "source": [
    "One of the most common algorithms for classifier prediction on Natural Language Processing is Gaussian Naive Bayes. This algorithm is based on Baynes Theorem, conditional probability. In this case, we are trying to find out the likelihood of a tweet from either Bill or Neil given the features(the words)."
   ]
  },
  {
   "cell_type": "code",
   "execution_count": 51,
   "metadata": {},
   "outputs": [
    {
     "data": {
      "text/plain": [
       "GaussianNB(priors=None)"
      ]
     },
     "execution_count": 51,
     "metadata": {},
     "output_type": "execute_result"
    }
   ],
   "source": [
    "from sklearn.naive_bayes import GaussianNB\n",
    "gaunb = GaussianNB()\n",
    "gaunb.fit(X_train_dtm, y_train )"
   ]
  },
  {
   "cell_type": "code",
   "execution_count": 52,
   "metadata": {},
   "outputs": [
    {
     "data": {
      "text/plain": [
       "array([[0, 0, 0, ..., 0, 0, 0],\n",
       "       [0, 0, 0, ..., 0, 0, 0],\n",
       "       [0, 0, 0, ..., 0, 0, 0],\n",
       "       ..., \n",
       "       [0, 0, 0, ..., 0, 0, 0],\n",
       "       [0, 0, 0, ..., 0, 0, 0],\n",
       "       [0, 0, 0, ..., 0, 0, 0]])"
      ]
     },
     "execution_count": 52,
     "metadata": {},
     "output_type": "execute_result"
    }
   ],
   "source": [
    "# In order to make a prediction, the test tweets must have the same features as \n",
    "# the training tweets, both in number and meaning. \n",
    "# Therefore, we also need to transform the X_test tweets into document-term matrix.\n",
    "\n",
    "X_test_dtm = vect.transform(X_test)\n",
    "X_test_dtm = X_test_dtm.toarray()\n",
    "X_test_dtm\n"
   ]
  },
  {
   "cell_type": "code",
   "execution_count": 53,
   "metadata": {
    "scrolled": true
   },
   "outputs": [
    {
     "data": {
      "text/html": [
       "<div>\n",
       "<style>\n",
       "    .dataframe thead tr:only-child th {\n",
       "        text-align: right;\n",
       "    }\n",
       "\n",
       "    .dataframe thead th {\n",
       "        text-align: left;\n",
       "    }\n",
       "\n",
       "    .dataframe tbody tr th {\n",
       "        vertical-align: top;\n",
       "    }\n",
       "</style>\n",
       "<table border=\"1\" class=\"dataframe\">\n",
       "  <thead>\n",
       "    <tr style=\"text-align: right;\">\n",
       "      <th></th>\n",
       "      <th>00</th>\n",
       "      <th>000</th>\n",
       "      <th>10</th>\n",
       "      <th>100</th>\n",
       "      <th>10th</th>\n",
       "      <th>11</th>\n",
       "      <th>12</th>\n",
       "      <th>13</th>\n",
       "      <th>14</th>\n",
       "      <th>15</th>\n",
       "      <th>...</th>\n",
       "      <th>you</th>\n",
       "      <th>young</th>\n",
       "      <th>your</th>\n",
       "      <th>yours</th>\n",
       "      <th>yourself</th>\n",
       "      <th>yrs</th>\n",
       "      <th>yup</th>\n",
       "      <th>yuuup</th>\n",
       "      <th>zeitgeistfilm</th>\n",
       "      <th>zero</th>\n",
       "    </tr>\n",
       "  </thead>\n",
       "  <tbody>\n",
       "    <tr>\n",
       "      <th>0</th>\n",
       "      <td>0</td>\n",
       "      <td>0</td>\n",
       "      <td>0</td>\n",
       "      <td>0</td>\n",
       "      <td>0</td>\n",
       "      <td>0</td>\n",
       "      <td>0</td>\n",
       "      <td>0</td>\n",
       "      <td>0</td>\n",
       "      <td>0</td>\n",
       "      <td>...</td>\n",
       "      <td>0</td>\n",
       "      <td>0</td>\n",
       "      <td>0</td>\n",
       "      <td>0</td>\n",
       "      <td>0</td>\n",
       "      <td>0</td>\n",
       "      <td>0</td>\n",
       "      <td>0</td>\n",
       "      <td>0</td>\n",
       "      <td>0</td>\n",
       "    </tr>\n",
       "    <tr>\n",
       "      <th>1</th>\n",
       "      <td>0</td>\n",
       "      <td>0</td>\n",
       "      <td>0</td>\n",
       "      <td>0</td>\n",
       "      <td>0</td>\n",
       "      <td>0</td>\n",
       "      <td>0</td>\n",
       "      <td>0</td>\n",
       "      <td>0</td>\n",
       "      <td>0</td>\n",
       "      <td>...</td>\n",
       "      <td>1</td>\n",
       "      <td>0</td>\n",
       "      <td>0</td>\n",
       "      <td>0</td>\n",
       "      <td>0</td>\n",
       "      <td>0</td>\n",
       "      <td>0</td>\n",
       "      <td>0</td>\n",
       "      <td>0</td>\n",
       "      <td>0</td>\n",
       "    </tr>\n",
       "    <tr>\n",
       "      <th>2</th>\n",
       "      <td>0</td>\n",
       "      <td>0</td>\n",
       "      <td>0</td>\n",
       "      <td>0</td>\n",
       "      <td>0</td>\n",
       "      <td>0</td>\n",
       "      <td>0</td>\n",
       "      <td>0</td>\n",
       "      <td>0</td>\n",
       "      <td>0</td>\n",
       "      <td>...</td>\n",
       "      <td>0</td>\n",
       "      <td>0</td>\n",
       "      <td>0</td>\n",
       "      <td>0</td>\n",
       "      <td>0</td>\n",
       "      <td>0</td>\n",
       "      <td>0</td>\n",
       "      <td>0</td>\n",
       "      <td>0</td>\n",
       "      <td>0</td>\n",
       "    </tr>\n",
       "    <tr>\n",
       "      <th>3</th>\n",
       "      <td>0</td>\n",
       "      <td>0</td>\n",
       "      <td>0</td>\n",
       "      <td>0</td>\n",
       "      <td>0</td>\n",
       "      <td>0</td>\n",
       "      <td>0</td>\n",
       "      <td>0</td>\n",
       "      <td>0</td>\n",
       "      <td>0</td>\n",
       "      <td>...</td>\n",
       "      <td>0</td>\n",
       "      <td>0</td>\n",
       "      <td>0</td>\n",
       "      <td>0</td>\n",
       "      <td>0</td>\n",
       "      <td>0</td>\n",
       "      <td>0</td>\n",
       "      <td>0</td>\n",
       "      <td>0</td>\n",
       "      <td>0</td>\n",
       "    </tr>\n",
       "    <tr>\n",
       "      <th>4</th>\n",
       "      <td>0</td>\n",
       "      <td>0</td>\n",
       "      <td>0</td>\n",
       "      <td>0</td>\n",
       "      <td>0</td>\n",
       "      <td>0</td>\n",
       "      <td>0</td>\n",
       "      <td>0</td>\n",
       "      <td>0</td>\n",
       "      <td>0</td>\n",
       "      <td>...</td>\n",
       "      <td>0</td>\n",
       "      <td>0</td>\n",
       "      <td>0</td>\n",
       "      <td>0</td>\n",
       "      <td>0</td>\n",
       "      <td>0</td>\n",
       "      <td>0</td>\n",
       "      <td>0</td>\n",
       "      <td>0</td>\n",
       "      <td>0</td>\n",
       "    </tr>\n",
       "  </tbody>\n",
       "</table>\n",
       "<p>5 rows × 1500 columns</p>\n",
       "</div>"
      ],
      "text/plain": [
       "   00  000  10  100  10th  11  12  13  14  15  ...   you  young  your  yours  \\\n",
       "0   0    0   0    0     0   0   0   0   0   0  ...     0      0     0      0   \n",
       "1   0    0   0    0     0   0   0   0   0   0  ...     1      0     0      0   \n",
       "2   0    0   0    0     0   0   0   0   0   0  ...     0      0     0      0   \n",
       "3   0    0   0    0     0   0   0   0   0   0  ...     0      0     0      0   \n",
       "4   0    0   0    0     0   0   0   0   0   0  ...     0      0     0      0   \n",
       "\n",
       "   yourself  yrs  yup  yuuup  zeitgeistfilm  zero  \n",
       "0         0    0    0      0              0     0  \n",
       "1         0    0    0      0              0     0  \n",
       "2         0    0    0      0              0     0  \n",
       "3         0    0    0      0              0     0  \n",
       "4         0    0    0      0              0     0  \n",
       "\n",
       "[5 rows x 1500 columns]"
      ]
     },
     "execution_count": 53,
     "metadata": {},
     "output_type": "execute_result"
    }
   ],
   "source": [
    "pd.DataFrame(X_test_dtm, columns = vect.get_feature_names()).head()"
   ]
  },
  {
   "cell_type": "code",
   "execution_count": 54,
   "metadata": {
    "collapsed": true
   },
   "outputs": [],
   "source": [
    "# make predictions using Gaussian Naive Bayes \n",
    "\n",
    "y_pred_gaunb = gaunb.predict(X_test_dtm)"
   ]
  },
  {
   "cell_type": "code",
   "execution_count": 55,
   "metadata": {},
   "outputs": [
    {
     "data": {
      "text/plain": [
       "0.76000000000000001"
      ]
     },
     "execution_count": 55,
     "metadata": {},
     "output_type": "execute_result"
    }
   ],
   "source": [
    "# OK, now let's see how accurate the predictions are\n",
    "\n",
    "from sklearn import metrics\n",
    "\n",
    "metrics.accuracy_score(y_test, y_pred_gaunb)"
   ]
  },
  {
   "cell_type": "markdown",
   "metadata": {},
   "source": [
    "### 76% accuracy.  That's not bad. \n",
    "#### Let's look at the confusion matrix to find out the actual and predictions"
   ]
  },
  {
   "cell_type": "code",
   "execution_count": 56,
   "metadata": {},
   "outputs": [
    {
     "data": {
      "text/html": [
       "<div>\n",
       "<style>\n",
       "    .dataframe thead tr:only-child th {\n",
       "        text-align: right;\n",
       "    }\n",
       "\n",
       "    .dataframe thead th {\n",
       "        text-align: left;\n",
       "    }\n",
       "\n",
       "    .dataframe tbody tr th {\n",
       "        vertical-align: top;\n",
       "    }\n",
       "</style>\n",
       "<table border=\"1\" class=\"dataframe\">\n",
       "  <thead>\n",
       "    <tr style=\"text-align: right;\">\n",
       "      <th></th>\n",
       "      <th>Predicted: Bill</th>\n",
       "      <th>Predicted: Neil</th>\n",
       "    </tr>\n",
       "  </thead>\n",
       "  <tbody>\n",
       "    <tr>\n",
       "      <th>Actual: Bill</th>\n",
       "      <td>90</td>\n",
       "      <td>6</td>\n",
       "    </tr>\n",
       "    <tr>\n",
       "      <th>Actual: Neil</th>\n",
       "      <td>42</td>\n",
       "      <td>62</td>\n",
       "    </tr>\n",
       "  </tbody>\n",
       "</table>\n",
       "</div>"
      ],
      "text/plain": [
       "              Predicted: Bill  Predicted: Neil\n",
       "Actual: Bill               90                6\n",
       "Actual: Neil               42               62"
      ]
     },
     "execution_count": 56,
     "metadata": {},
     "output_type": "execute_result"
    }
   ],
   "source": [
    "confusion_gaunb = metrics.confusion_matrix(y_test, y_pred_gaunb)\n",
    "confusion_matrix_gaunb = pd.DataFrame(confusion_gaunb, index = ['Actual: Bill', 'Actual: Neil'],\n",
    "                               columns = ['Predicted: Bill', 'Predicted: Neil'])\n",
    "confusion_matrix_gaunb"
   ]
  },
  {
   "cell_type": "code",
   "execution_count": 86,
   "metadata": {
    "scrolled": true
   },
   "outputs": [
    {
     "name": "stdout",
     "output_type": "stream",
     "text": [
      "Prediction accuracy is:  0.76\n",
      "Prediction precision for Bill using Gaussion Naive Bayes is:  0.6818181818181818\n",
      "Prediction precision for Neil using Gaussion Naive Bayes is:  0.9117647058823529\n",
      "Prediction recall/sensitivity for Bill using Gaussion Naive Bayes is: 0.9375\n",
      "Prediction recall/sensitivity for Neil using Gaussion Naive Bayes is: 0.5961538461538461\n"
     ]
    }
   ],
   "source": [
    "print ('Prediction accuracy is: ', (90 + 62)/ (90 + 6 + 42 + 62))\n",
    "print ('Prediction precision for Bill using Gaussion Naive Bayes is: ', 90/(90+42))\n",
    "print ('Prediction precision for Neil using Gaussion Naive Bayes is: ', 62/(62+6))\n",
    "print ('Prediction recall/sensitivity for Bill using Gaussion Naive Bayes is:', 90/(90+6))\n",
    "print ('Prediction recall/sensitivity for Neil using Gaussion Naive Bayes is:', 62/(62+42))\n"
   ]
  },
  {
   "cell_type": "code",
   "execution_count": 65,
   "metadata": {},
   "outputs": [
    {
     "name": "stdout",
     "output_type": "stream",
     "text": [
      "             precision    recall  f1-score   support\n",
      "\n",
      "          0       0.68      0.94      0.79        96\n",
      "          1       0.91      0.60      0.72       104\n",
      "\n",
      "avg / total       0.80      0.76      0.75       200\n",
      "\n"
     ]
    }
   ],
   "source": [
    "# Or we can print the classification report \n",
    "\n",
    "from sklearn.metrics import classification_report\n",
    "print(classification_report(y_test, y_pred_gaunb))"
   ]
  },
  {
   "cell_type": "code",
   "execution_count": 69,
   "metadata": {},
   "outputs": [
    {
     "data": {
      "text/html": [
       "<div>\n",
       "<style>\n",
       "    .dataframe thead tr:only-child th {\n",
       "        text-align: right;\n",
       "    }\n",
       "\n",
       "    .dataframe thead th {\n",
       "        text-align: left;\n",
       "    }\n",
       "\n",
       "    .dataframe tbody tr th {\n",
       "        vertical-align: top;\n",
       "    }\n",
       "</style>\n",
       "<table border=\"1\" class=\"dataframe\">\n",
       "  <thead>\n",
       "    <tr style=\"text-align: right;\">\n",
       "      <th></th>\n",
       "      <th>text</th>\n",
       "    </tr>\n",
       "  </thead>\n",
       "  <tbody>\n",
       "    <tr>\n",
       "      <th>247</th>\n",
       "      <td>My grandmother kept this paper. It was the day...</td>\n",
       "    </tr>\n",
       "    <tr>\n",
       "      <th>184</th>\n",
       "      <td>Analyzing space policy is part of my day job. ...</td>\n",
       "    </tr>\n",
       "    <tr>\n",
       "      <th>222</th>\n",
       "      <td>Solar panels &amp;amp; solar hot water system on r...</td>\n",
       "    </tr>\n",
       "    <tr>\n",
       "      <th>909</th>\n",
       "      <td>Wait there's more: Football + Blizzard (is it ...</td>\n",
       "    </tr>\n",
       "    <tr>\n",
       "      <th>611</th>\n",
       "      <td>I'm deeply sorry for those affected by today's...</td>\n",
       "    </tr>\n",
       "    <tr>\n",
       "      <th>6</th>\n",
       "      <td>Happy Solstice! Shortest day for us North hemi...</td>\n",
       "    </tr>\n",
       "  </tbody>\n",
       "</table>\n",
       "</div>"
      ],
      "text/plain": [
       "                                                  text\n",
       "247  My grandmother kept this paper. It was the day...\n",
       "184  Analyzing space policy is part of my day job. ...\n",
       "222  Solar panels &amp; solar hot water system on r...\n",
       "909  Wait there's more: Football + Blizzard (is it ...\n",
       "611  I'm deeply sorry for those affected by today's...\n",
       "6    Happy Solstice! Shortest day for us North hemi..."
      ]
     },
     "execution_count": 69,
     "metadata": {},
     "output_type": "execute_result"
    }
   ],
   "source": [
    "# Refer to the user label, 0 is Bill and 1 is Neil.\n",
    "# Check Bill's tweets incorrectly identified as Neil's\n",
    "# If the label in y_test is 0 and y_pred is 1, this means the Bill's tweets are incorrectly identified as Neil's. \n",
    "\n",
    "incorrect_bill_prediction = pd.DataFrame(X_test[y_test < y_pred_gaunb])\n",
    "incorrect_bill_prediction"
   ]
  },
  {
   "cell_type": "markdown",
   "metadata": {},
   "source": [
    "Both Bill and Neil tweet about climate change and cosmos a lot. These tweets here also sound like Neil's. "
   ]
  },
  {
   "cell_type": "code",
   "execution_count": 71,
   "metadata": {},
   "outputs": [
    {
     "data": {
      "text/html": [
       "<div>\n",
       "<style>\n",
       "    .dataframe thead tr:only-child th {\n",
       "        text-align: right;\n",
       "    }\n",
       "\n",
       "    .dataframe thead th {\n",
       "        text-align: left;\n",
       "    }\n",
       "\n",
       "    .dataframe tbody tr th {\n",
       "        vertical-align: top;\n",
       "    }\n",
       "</style>\n",
       "<table border=\"1\" class=\"dataframe\">\n",
       "  <thead>\n",
       "    <tr style=\"text-align: right;\">\n",
       "      <th></th>\n",
       "      <th>text</th>\n",
       "    </tr>\n",
       "  </thead>\n",
       "  <tbody>\n",
       "    <tr>\n",
       "      <th>836</th>\n",
       "      <td>A bit disappointed that the corrugated shippin...</td>\n",
       "    </tr>\n",
       "    <tr>\n",
       "      <th>922</th>\n",
       "      <td>@Roy_Wilhelm — Please send your best link of m...</td>\n",
       "    </tr>\n",
       "    <tr>\n",
       "      <th>702</th>\n",
       "      <td>A skeptic will question claims, then embrace t...</td>\n",
       "    </tr>\n",
       "    <tr>\n",
       "      <th>96</th>\n",
       "      <td>In the years that followed Sputnik’s 1957 laun...</td>\n",
       "    </tr>\n",
       "    <tr>\n",
       "      <th>5</th>\n",
       "      <td>Two @StarTalkRadio end-of-year mashups….</td>\n",
       "    </tr>\n",
       "    <tr>\n",
       "      <th>154</th>\n",
       "      <td>Hmm. Don’t see much denial of @NOAA climate sc...</td>\n",
       "    </tr>\n",
       "    <tr>\n",
       "      <th>409</th>\n",
       "      <td>We can all imagine a land that provides no sup...</td>\n",
       "    </tr>\n",
       "    <tr>\n",
       "      <th>24</th>\n",
       "      <td>Navigating stuff for sale:\\n\\nhttps://t.co/dA5...</td>\n",
       "    </tr>\n",
       "    <tr>\n",
       "      <th>42</th>\n",
       "      <td>@Johnn128 Thanks! Will alert the publisher.</td>\n",
       "    </tr>\n",
       "    <tr>\n",
       "      <th>124</th>\n",
       "      <td>@AvaSchiffer Key phrase “...as space reveals it…\"</td>\n",
       "    </tr>\n",
       "  </tbody>\n",
       "</table>\n",
       "</div>"
      ],
      "text/plain": [
       "                                                  text\n",
       "836  A bit disappointed that the corrugated shippin...\n",
       "922  @Roy_Wilhelm — Please send your best link of m...\n",
       "702  A skeptic will question claims, then embrace t...\n",
       "96   In the years that followed Sputnik’s 1957 laun...\n",
       "5             Two @StarTalkRadio end-of-year mashups….\n",
       "154  Hmm. Don’t see much denial of @NOAA climate sc...\n",
       "409  We can all imagine a land that provides no sup...\n",
       "24   Navigating stuff for sale:\\n\\nhttps://t.co/dA5...\n",
       "42         @Johnn128 Thanks! Will alert the publisher.\n",
       "124  @AvaSchiffer Key phrase “...as space reveals it…\""
      ]
     },
     "execution_count": 71,
     "metadata": {},
     "output_type": "execute_result"
    }
   ],
   "source": [
    "# Check Neil's tweets incorrectly identified as Bill's\n",
    "# Similary, iff the label in y_test is 1 and y_pred is 0, this means the Neil's tweets are incorrectly \n",
    "# identified as Bill's. \n",
    "\n",
    "incorrect_neil_prediction = pd.DataFrame(X_test[y_test > y_pred_gaunb])\n",
    "incorrect_neil_prediction.sample(10)"
   ]
  },
  {
   "cell_type": "markdown",
   "metadata": {},
   "source": [
    "On line item 154, Bill tweets about climate frequently. I wonder why the computer thinks this tweet actually belong to Bill instead of Neil. "
   ]
  },
  {
   "cell_type": "code",
   "execution_count": 78,
   "metadata": {},
   "outputs": [],
   "source": [
    "# Let's check prediction probability\n",
    "\n",
    "y_pred_prob_gaunb = gaunb.predict_proba(X_test_dtm)[:, 1]"
   ]
  },
  {
   "cell_type": "code",
   "execution_count": 79,
   "metadata": {
    "scrolled": true
   },
   "outputs": [
    {
     "data": {
      "text/plain": [
       "0.87720352564102555"
      ]
     },
     "execution_count": 79,
     "metadata": {},
     "output_type": "execute_result"
    }
   ],
   "source": [
    "metrics.roc_auc_score(y_test, y_pred_prob_gaunb)"
   ]
  },
  {
   "cell_type": "markdown",
   "metadata": {},
   "source": [
    "### 87.7%  That is quite good. "
   ]
  },
  {
   "cell_type": "markdown",
   "metadata": {},
   "source": [
    "### 2) Logistic Regression"
   ]
  },
  {
   "cell_type": "markdown",
   "metadata": {},
   "source": [
    "Another very effective algorithm on binary classifiction prediction is Logistic Regression. This is based on odd ratio. In this case, what is the odd of a tweet coming from Bill or Neil. \n",
    "\n",
    "Let's try if Logistic Regression can improve prediction accuracy."
   ]
  },
  {
   "cell_type": "code",
   "execution_count": 80,
   "metadata": {},
   "outputs": [
    {
     "data": {
      "text/plain": [
       "LogisticRegression(C=1.0, class_weight=None, dual=False, fit_intercept=True,\n",
       "          intercept_scaling=1, max_iter=100, multi_class='ovr', n_jobs=1,\n",
       "          penalty='l2', random_state=None, solver='liblinear', tol=0.0001,\n",
       "          verbose=0, warm_start=False)"
      ]
     },
     "execution_count": 80,
     "metadata": {},
     "output_type": "execute_result"
    }
   ],
   "source": [
    "from sklearn.linear_model import LogisticRegression\n",
    "logit = LogisticRegression()\n",
    "logit.fit(X_train_dtm, y_train )"
   ]
  },
  {
   "cell_type": "code",
   "execution_count": 81,
   "metadata": {
    "collapsed": true
   },
   "outputs": [],
   "source": [
    "# Make predictions using Logistic Regression model\n",
    "\n",
    "y_pred_logit = logit.predict(X_test_dtm)"
   ]
  },
  {
   "cell_type": "code",
   "execution_count": 82,
   "metadata": {
    "scrolled": true
   },
   "outputs": [
    {
     "data": {
      "text/plain": [
       "0.89000000000000001"
      ]
     },
     "execution_count": 82,
     "metadata": {},
     "output_type": "execute_result"
    }
   ],
   "source": [
    "# Check Logistic Regression prediction accuracy rate\n",
    "\n",
    "metrics.accuracy_score(y_test, y_pred_logit)"
   ]
  },
  {
   "cell_type": "markdown",
   "metadata": {},
   "source": [
    "**89% accuracy, not bad! There is a lot of improvement than the Guassian Naive Bayes predictions **"
   ]
  },
  {
   "cell_type": "code",
   "execution_count": 83,
   "metadata": {
    "scrolled": true
   },
   "outputs": [
    {
     "data": {
      "text/html": [
       "<div>\n",
       "<style>\n",
       "    .dataframe thead tr:only-child th {\n",
       "        text-align: right;\n",
       "    }\n",
       "\n",
       "    .dataframe thead th {\n",
       "        text-align: left;\n",
       "    }\n",
       "\n",
       "    .dataframe tbody tr th {\n",
       "        vertical-align: top;\n",
       "    }\n",
       "</style>\n",
       "<table border=\"1\" class=\"dataframe\">\n",
       "  <thead>\n",
       "    <tr style=\"text-align: right;\">\n",
       "      <th></th>\n",
       "      <th>Predicted: Bill</th>\n",
       "      <th>Predicted: Neil</th>\n",
       "    </tr>\n",
       "  </thead>\n",
       "  <tbody>\n",
       "    <tr>\n",
       "      <th>Actual: Bill</th>\n",
       "      <td>85</td>\n",
       "      <td>11</td>\n",
       "    </tr>\n",
       "    <tr>\n",
       "      <th>Actual: Neil</th>\n",
       "      <td>11</td>\n",
       "      <td>93</td>\n",
       "    </tr>\n",
       "  </tbody>\n",
       "</table>\n",
       "</div>"
      ],
      "text/plain": [
       "              Predicted: Bill  Predicted: Neil\n",
       "Actual: Bill               85               11\n",
       "Actual: Neil               11               93"
      ]
     },
     "execution_count": 83,
     "metadata": {},
     "output_type": "execute_result"
    }
   ],
   "source": [
    "confusion_logit = metrics.confusion_matrix(y_test, y_pred_logit)\n",
    "confusion_matrix_logit = pd.DataFrame(confusion_logit, index = ['Actual: Bill', 'Actual: Neil'],\n",
    "                               columns = ['Predicted: Bill', 'Predicted: Neil'])\n",
    "confusion_matrix_logit"
   ]
  },
  {
   "cell_type": "code",
   "execution_count": 85,
   "metadata": {
    "scrolled": true
   },
   "outputs": [
    {
     "name": "stdout",
     "output_type": "stream",
     "text": [
      "Prediction accuracy is:  0.89\n",
      "Prediction precision for Bill using Logistic Regression is:  0.8854166666666666\n",
      "Prediction precision for Neil using Logistic Regression is:  0.8942307692307693\n",
      "Prediction recall/sensitivity for Bill using Logistic Regression is: 0.8854166666666666\n",
      "Prediction recall/sensitivity for Neil using Gaussion Naive Bayes is: 0.8942307692307693\n"
     ]
    }
   ],
   "source": [
    "print ('Prediction accuracy is: ', (85 + 93)/ (85 + 11 + 11 + 93))\n",
    "print ('Prediction precision for Bill using Logistic Regression is: ', 85/(85+11))\n",
    "print ('Prediction precision for Neil using Logistic Regression is: ', 93/(93+11))\n",
    "print ('Prediction recall/sensitivity for Bill using Logistic Regression is:', 85/(85+11))\n",
    "print ('Prediction recall/sensitivity for Neil using Gaussion Naive Bayes is:', 93/(93+11))\n"
   ]
  },
  {
   "cell_type": "code",
   "execution_count": 87,
   "metadata": {},
   "outputs": [
    {
     "name": "stdout",
     "output_type": "stream",
     "text": [
      "             precision    recall  f1-score   support\n",
      "\n",
      "          0       0.89      0.89      0.89        96\n",
      "          1       0.89      0.89      0.89       104\n",
      "\n",
      "avg / total       0.89      0.89      0.89       200\n",
      "\n"
     ]
    }
   ],
   "source": [
    "print(classification_report(y_test, y_pred_logit))"
   ]
  },
  {
   "cell_type": "code",
   "execution_count": 88,
   "metadata": {},
   "outputs": [
    {
     "data": {
      "text/html": [
       "<div>\n",
       "<style>\n",
       "    .dataframe thead tr:only-child th {\n",
       "        text-align: right;\n",
       "    }\n",
       "\n",
       "    .dataframe thead th {\n",
       "        text-align: left;\n",
       "    }\n",
       "\n",
       "    .dataframe tbody tr th {\n",
       "        vertical-align: top;\n",
       "    }\n",
       "</style>\n",
       "<table border=\"1\" class=\"dataframe\">\n",
       "  <thead>\n",
       "    <tr style=\"text-align: right;\">\n",
       "      <th></th>\n",
       "      <th>text</th>\n",
       "    </tr>\n",
       "  </thead>\n",
       "  <tbody>\n",
       "    <tr>\n",
       "      <th>206</th>\n",
       "      <td>Congrats @PersilProClean Original- named best ...</td>\n",
       "    </tr>\n",
       "    <tr>\n",
       "      <th>247</th>\n",
       "      <td>My grandmother kept this paper. It was the day...</td>\n",
       "    </tr>\n",
       "    <tr>\n",
       "      <th>926</th>\n",
       "      <td>@JasonHughes7 Roger that!</td>\n",
       "    </tr>\n",
       "    <tr>\n",
       "      <th>366</th>\n",
       "      <td>Seems that @realDonaldTrump is unaware that ev...</td>\n",
       "    </tr>\n",
       "    <tr>\n",
       "      <th>347</th>\n",
       "      <td>What DOES it all mean? Find out with me and @h...</td>\n",
       "    </tr>\n",
       "    <tr>\n",
       "      <th>222</th>\n",
       "      <td>Solar panels &amp;amp; solar hot water system on r...</td>\n",
       "    </tr>\n",
       "    <tr>\n",
       "      <th>746</th>\n",
       "      <td>We're letting more than 25 of you youngsters i...</td>\n",
       "    </tr>\n",
       "    <tr>\n",
       "      <th>696</th>\n",
       "      <td>@SawyerFoyle that, my friend, is awesome.</td>\n",
       "    </tr>\n",
       "    <tr>\n",
       "      <th>263</th>\n",
       "      <td>Super Moon comes to North America tonight. 14%...</td>\n",
       "    </tr>\n",
       "    <tr>\n",
       "      <th>925</th>\n",
       "      <td>@watchinvacation Enjoy!</td>\n",
       "    </tr>\n",
       "    <tr>\n",
       "      <th>937</th>\n",
       "      <td>One day the anniversary of the attack on Pearl...</td>\n",
       "    </tr>\n",
       "  </tbody>\n",
       "</table>\n",
       "</div>"
      ],
      "text/plain": [
       "                                                  text\n",
       "206  Congrats @PersilProClean Original- named best ...\n",
       "247  My grandmother kept this paper. It was the day...\n",
       "926                          @JasonHughes7 Roger that!\n",
       "366  Seems that @realDonaldTrump is unaware that ev...\n",
       "347  What DOES it all mean? Find out with me and @h...\n",
       "222  Solar panels &amp; solar hot water system on r...\n",
       "746  We're letting more than 25 of you youngsters i...\n",
       "696          @SawyerFoyle that, my friend, is awesome.\n",
       "263  Super Moon comes to North America tonight. 14%...\n",
       "925                            @watchinvacation Enjoy!\n",
       "937  One day the anniversary of the attack on Pearl..."
      ]
     },
     "execution_count": 88,
     "metadata": {},
     "output_type": "execute_result"
    }
   ],
   "source": [
    "incorrect_logit_bill_prediction = pd.DataFrame(X_test[y_test < y_pred_logit])\n",
    "incorrect_logit_bill_prediction"
   ]
  },
  {
   "cell_type": "code",
   "execution_count": 89,
   "metadata": {},
   "outputs": [
    {
     "data": {
      "text/html": [
       "<div>\n",
       "<style>\n",
       "    .dataframe thead tr:only-child th {\n",
       "        text-align: right;\n",
       "    }\n",
       "\n",
       "    .dataframe thead th {\n",
       "        text-align: left;\n",
       "    }\n",
       "\n",
       "    .dataframe tbody tr th {\n",
       "        vertical-align: top;\n",
       "    }\n",
       "</style>\n",
       "<table border=\"1\" class=\"dataframe\">\n",
       "  <thead>\n",
       "    <tr style=\"text-align: right;\">\n",
       "      <th></th>\n",
       "      <th>text</th>\n",
       "    </tr>\n",
       "  </thead>\n",
       "  <tbody>\n",
       "    <tr>\n",
       "      <th>586</th>\n",
       "      <td>I like new ideas &amp;amp; old wines. New software...</td>\n",
       "    </tr>\n",
       "    <tr>\n",
       "      <th>253</th>\n",
       "      <td>Eratosthenes, of course. Third  century BC. Ca...</td>\n",
       "    </tr>\n",
       "    <tr>\n",
       "      <th>470</th>\n",
       "      <td>@seanmdav Of possible interest to your followe...</td>\n",
       "    </tr>\n",
       "    <tr>\n",
       "      <th>707</th>\n",
       "      <td>Nobody doesn’t love exoplanets. https://t.co/c...</td>\n",
       "    </tr>\n",
       "    <tr>\n",
       "      <th>27</th>\n",
       "      <td>Two scientists walk into a bar.\\n“I’ll have H2...</td>\n",
       "    </tr>\n",
       "    <tr>\n",
       "      <th>214</th>\n",
       "      <td>@kerberos858 @IAmSteveHarvey https://t.co/Arkz...</td>\n",
       "    </tr>\n",
       "    <tr>\n",
       "      <th>357</th>\n",
       "      <td>The only time I ever mentioned Bill O’Reilly: ...</td>\n",
       "    </tr>\n",
       "    <tr>\n",
       "      <th>333</th>\n",
       "      <td>No. I have pretty good balance for my body siz...</td>\n",
       "    </tr>\n",
       "    <tr>\n",
       "      <th>504</th>\n",
       "      <td>Athlete, Educator, Civil Rights Activist, Publ...</td>\n",
       "    </tr>\n",
       "    <tr>\n",
       "      <th>411</th>\n",
       "      <td>The fastest way to thwart Earth's life-support...</td>\n",
       "    </tr>\n",
       "    <tr>\n",
       "      <th>24</th>\n",
       "      <td>Navigating stuff for sale:\\n\\nhttps://t.co/dA5...</td>\n",
       "    </tr>\n",
       "  </tbody>\n",
       "</table>\n",
       "</div>"
      ],
      "text/plain": [
       "                                                  text\n",
       "586  I like new ideas &amp; old wines. New software...\n",
       "253  Eratosthenes, of course. Third  century BC. Ca...\n",
       "470  @seanmdav Of possible interest to your followe...\n",
       "707  Nobody doesn’t love exoplanets. https://t.co/c...\n",
       "27   Two scientists walk into a bar.\\n“I’ll have H2...\n",
       "214  @kerberos858 @IAmSteveHarvey https://t.co/Arkz...\n",
       "357  The only time I ever mentioned Bill O’Reilly: ...\n",
       "333  No. I have pretty good balance for my body siz...\n",
       "504  Athlete, Educator, Civil Rights Activist, Publ...\n",
       "411  The fastest way to thwart Earth's life-support...\n",
       "24   Navigating stuff for sale:\\n\\nhttps://t.co/dA5..."
      ]
     },
     "execution_count": 89,
     "metadata": {},
     "output_type": "execute_result"
    }
   ],
   "source": [
    "incorrect_logit_neil_prediction = pd.DataFrame(X_test[y_test > y_pred_logit])\n",
    "incorrect_logit_neil_prediction"
   ]
  },
  {
   "cell_type": "code",
   "execution_count": 92,
   "metadata": {},
   "outputs": [
    {
     "data": {
      "text/plain": [
       "0.9547275641025641"
      ]
     },
     "execution_count": 92,
     "metadata": {},
     "output_type": "execute_result"
    }
   ],
   "source": [
    "# Let's check prediction probability\n",
    "\n",
    "y_pred_prob_logit = logit.predict_proba(X_test_dtm)[:, 1]\n",
    "\n",
    "metrics.roc_auc_score(y_test, y_pred_prob_logit)"
   ]
  },
  {
   "cell_type": "markdown",
   "metadata": {},
   "source": [
    "### 95% Accuracy Under the Curve (AUC). This is a very good result!"
   ]
  },
  {
   "cell_type": "markdown",
   "metadata": {},
   "source": [
    "---"
   ]
  },
  {
   "cell_type": "markdown",
   "metadata": {},
   "source": [
    "## Model Evaluation - K-fold Cross Validation\n",
    "\n",
    "So often, predictions on training set does not perform as well on the unseen observations, especially if a model is over fitted. Cross validation finds the bias and variance trade-off and usually give us a pretty good idea how the model performs on unseen observations.\n",
    "\n",
    "This is because k-fold cross validation randomly splits the dataset into equal k folds, using one fold for validation and k-1 for training. The validation fold being treats as unseen data. This process repeats for k times. Historically proven, when dataset split into 5 or 10 folds yields the best results. Let's validate the Naive Bayes and the Logistic Regression models. "
   ]
  },
  {
   "cell_type": "code",
   "execution_count": 97,
   "metadata": {},
   "outputs": [
    {
     "name": "stdout",
     "output_type": "stream",
     "text": [
      "Gaussian Naive Bayes model cross validation score is:  0.843329355158\n"
     ]
    }
   ],
   "source": [
    "from sklearn.model_selection import cross_val_score\n",
    "\n",
    "print('Gaussian Naive Bayes model cross validation score is: ', np.mean(cross_val_score(gaunb, X_train_dtm, y_train, \\\n",
    "                                                                                        cv = 10, scoring = 'accuracy')))"
   ]
  },
  {
   "cell_type": "code",
   "execution_count": 98,
   "metadata": {},
   "outputs": [
    {
     "name": "stdout",
     "output_type": "stream",
     "text": [
      "Logistic Regression model cross validation score is:  0.899454321292\n"
     ]
    }
   ],
   "source": [
    "print('Logistic Regression model cross validation score is: ', np.mean(cross_val_score(logit, X_train_dtm, y_train, \\\n",
    "                                                                                       cv = 10, scoring = 'accuracy')))"
   ]
  },
  {
   "cell_type": "markdown",
   "metadata": {},
   "source": [
    "### Both Naive Bayes and Logistic Regression models yields cross validation accuracy scores of 84% and 90% respectively. Not a bad result. Logistic Regression performs much better than Naive Bayes. "
   ]
  }
 ],
 "metadata": {
  "kernelspec": {
   "display_name": "Python 3",
   "language": "python",
   "name": "python3"
  },
  "language_info": {
   "codemirror_mode": {
    "name": "ipython",
    "version": 3
   },
   "file_extension": ".py",
   "mimetype": "text/x-python",
   "name": "python",
   "nbconvert_exporter": "python",
   "pygments_lexer": "ipython3",
   "version": "3.6.3"
  }
 },
 "nbformat": 4,
 "nbformat_minor": 2
}
