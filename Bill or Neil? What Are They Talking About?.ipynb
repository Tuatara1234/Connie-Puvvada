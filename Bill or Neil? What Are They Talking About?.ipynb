{
 "cells": [
  {
   "cell_type": "markdown",
   "metadata": {},
   "source": [
    "# Bill or Neil?"
   ]
  },
  {
   "cell_type": "markdown",
   "metadata": {},
   "source": [
    "#### When my girls were little, I watched Bill Nye The Science Guy with them a lot. Bill Nye is one of my most admired modern scientists. \n",
    "#### Another scientist that I admire the most is Neil Degrasse Tyson. I can bing watch  Neil's cosmic series on Netflix all day long.\n",
    "\n",
    "#### I wonder what these two great scientists often tweet about. \n",
    "\n",
    "#### In this project, I scrap their tweets and try to find out what these two great scientists talk about, how many people like what they say, and how many times their tweets being retweeted.  \n",
    "\n",
    "#### I also want to use machine learning on user prediction. \n"
   ]
  },
  {
   "cell_type": "code",
   "execution_count": 1,
   "metadata": {
    "collapsed": false
   },
   "outputs": [],
   "source": [
    "# First, import libraries\n",
    "\n",
    "import twitter, re, datetime, pandas as pd\n",
    "import matplotlib.pyplot as plt\n",
    "%matplotlib inline\n",
    "%config InlineBackend.figure_format = 'retina'\n"
   ]
  },
  {
   "cell_type": "code",
   "execution_count": 2,
   "metadata": {
    "collapsed": true
   },
   "outputs": [],
   "source": [
    "# Set up twitter credential \n",
    "\n",
    "\n",
    "# your keys go here:\n",
    "\n",
    "twitter_keys = {\n",
    "    'consumer_key':        'VgoJyqsPKIJiJFKCZ0jxtK2K0',\n",
    "    'consumer_secret':     '2a4LDYNR2HnkLBkCLgtpmdCTcqKSD9pRjTIU2LXRKkbQz6DXQD',\n",
    "    'access_token_key':    '202347836-xYk1wedC9Ohb1hW1cnm480pe4HyjemEVxVGkYJW6',\n",
    "    'access_token_secret': 'kpgjoxRgAWrMx0OUWit8Rv3cYFEoLGGDBGzRKGRWHQBMt'\n",
    "}\n",
    "\n",
    "api = twitter.Api(\n",
    "    consumer_key         =   twitter_keys['consumer_key'],\n",
    "    consumer_secret      =   twitter_keys['consumer_secret'],\n",
    "    access_token_key     =   twitter_keys['access_token_key'],\n",
    "    access_token_secret  =   twitter_keys['access_token_secret']\n",
    ")\n"
   ]
  },
  {
   "cell_type": "code",
   "execution_count": 3,
   "metadata": {
    "collapsed": true
   },
   "outputs": [],
   "source": [
    "# Setup a TweetMiner object\n",
    "\n",
    "class TweetMiner(object):\n",
    "\n",
    "    result_limit    =   100    \n",
    "    api             =   False\n",
    "    data            =   []\n",
    "    \n",
    "    def __init__(self, keys_dict, api, result_limit = 100):\n",
    "        \n",
    "        self.api = api\n",
    "        self.twitter_keys = keys_dict\n",
    "        \n",
    "        self.result_limit = result_limit\n",
    "        \n",
    "\n",
    "    def mine_user_tweets(self, user=\"user\", mine_rewteets=False, max_pages=5):\n",
    "\n",
    "        data           =  []\n",
    "        last_tweet_id  =  False\n",
    "        page           =  1\n",
    "        \n",
    "        while page <= max_pages:\n",
    "            \n",
    "            if last_tweet_id:\n",
    "                statuses   =   self.api.GetUserTimeline(screen_name=user, count=self.result_limit, max_id=last_tweet_id - 1)        \n",
    "            else:\n",
    "                statuses   =   self.api.GetUserTimeline(screen_name=user, count=self.result_limit)\n",
    "                \n",
    "            for item in statuses:\n",
    "\n",
    "                mined = {\n",
    "                    #'tweet_id':        item.id,\n",
    "                    #'location':        item.location,\n",
    "                    #'place':           item.place,\n",
    "                    'handle':          item.user.name,\n",
    "                    'favorite_count':  item.favorite_count,\n",
    "                    'retweet_count':   item.retweet_count,\n",
    "                    'text':            item.text,\n",
    "                    'hashtags':        item.hashtags,\n",
    "                    'mined_at':        datetime.datetime.now(),\n",
    "                    'created_at':      item.created_at\n",
    "                }\n",
    "                \n",
    "                last_tweet_id = item.id\n",
    "                data.append(mined)\n",
    "                \n",
    "            page += 1\n",
    "            \n",
    "        return data"
   ]
  },
  {
   "cell_type": "code",
   "execution_count": 4,
   "metadata": {
    "collapsed": true
   },
   "outputs": [],
   "source": [
    "# create a miner object\n",
    "\n",
    "miner = TweetMiner(keys_dict = twitter_keys, api = api, result_limit = 500)"
   ]
  },
  {
   "cell_type": "code",
   "execution_count": 5,
   "metadata": {
    "collapsed": false,
    "scrolled": true
   },
   "outputs": [
    {
     "data": {
      "text/plain": [
       "[{'created_at': u'Mon Oct 30 14:45:02 +0000 2017',\n",
       "  'favorite_count': 140756,\n",
       "  'handle': u'Neil deGrasse Tyson',\n",
       "  'hashtags': [],\n",
       "  'mined_at': datetime.datetime(2017, 11, 1, 16, 56, 30, 982398),\n",
       "  'retweet_count': 35237,\n",
       "  'text': u'If the world were really going to end, cosmically, I\\u2019d let y\\u2019all know, and with plenty of time to do nothing about it.'},\n",
       " {'created_at': u'Sat Oct 28 15:09:17 +0000 2017',\n",
       "  'favorite_count': 2267,\n",
       "  'handle': u'Neil deGrasse Tyson',\n",
       "  'hashtags': [],\n",
       "  'mined_at': datetime.datetime(2017, 11, 1, 16, 56, 30, 982410),\n",
       "  'retweet_count': 392,\n",
       "  'text': u'JUST POSTED: @StarTalkRadio\\u2019s \\u201cThe Power of Political Satire\" with @billmaher. On @ApplePodcasts &amp;\\u2026 https://t.co/vN9Q1591hL'}]"
      ]
     },
     "execution_count": 5,
     "metadata": {},
     "output_type": "execute_result"
    }
   ],
   "source": [
    "# check sample results\n",
    "\n",
    "bill = miner.mine_user_tweets(user = 'BillNye')\n",
    "neil = miner.mine_user_tweets(user = 'neiltyson')\n",
    "\n",
    "neil[:2]"
   ]
  },
  {
   "cell_type": "markdown",
   "metadata": {},
   "source": [
    "## Tweets Exploration"
   ]
  },
  {
   "cell_type": "code",
   "execution_count": 60,
   "metadata": {
    "collapsed": false,
    "scrolled": true
   },
   "outputs": [
    {
     "data": {
      "text/html": [
       "<div>\n",
       "<style>\n",
       "    .dataframe thead tr:only-child th {\n",
       "        text-align: right;\n",
       "    }\n",
       "\n",
       "    .dataframe thead th {\n",
       "        text-align: left;\n",
       "    }\n",
       "\n",
       "    .dataframe tbody tr th {\n",
       "        vertical-align: top;\n",
       "    }\n",
       "</style>\n",
       "<table border=\"1\" class=\"dataframe\">\n",
       "  <thead>\n",
       "    <tr style=\"text-align: right;\">\n",
       "      <th></th>\n",
       "      <th>created_at</th>\n",
       "      <th>favorite_count</th>\n",
       "      <th>handle</th>\n",
       "      <th>hashtags</th>\n",
       "      <th>mined_at</th>\n",
       "      <th>retweet_count</th>\n",
       "      <th>text</th>\n",
       "    </tr>\n",
       "  </thead>\n",
       "  <tbody>\n",
       "    <tr>\n",
       "      <th>0</th>\n",
       "      <td>Wed Nov 01 18:09:04 +0000 2017</td>\n",
       "      <td>346</td>\n",
       "      <td>Bill Nye</td>\n",
       "      <td>[]</td>\n",
       "      <td>2017-11-01 16:56:28.123424</td>\n",
       "      <td>43</td>\n",
       "      <td>Soothe your post-Halloween sugar hangover with...</td>\n",
       "    </tr>\n",
       "    <tr>\n",
       "      <th>1</th>\n",
       "      <td>Wed Nov 01 03:15:03 +0000 2017</td>\n",
       "      <td>8406</td>\n",
       "      <td>Bill Nye</td>\n",
       "      <td>[]</td>\n",
       "      <td>2017-11-01 16:56:28.123433</td>\n",
       "      <td>684</td>\n",
       "      <td>Happy Halloween from Nye Labs 🎃 https://t.co/...</td>\n",
       "    </tr>\n",
       "    <tr>\n",
       "      <th>2</th>\n",
       "      <td>Fri Oct 27 17:01:24 +0000 2017</td>\n",
       "      <td>0</td>\n",
       "      <td>Bill Nye</td>\n",
       "      <td>[]</td>\n",
       "      <td>2017-11-01 16:56:28.123437</td>\n",
       "      <td>41</td>\n",
       "      <td>RT @billnyefilm: Get ghouled up, snap a selfie...</td>\n",
       "    </tr>\n",
       "    <tr>\n",
       "      <th>3</th>\n",
       "      <td>Thu Oct 26 20:18:36 +0000 2017</td>\n",
       "      <td>0</td>\n",
       "      <td>Bill Nye</td>\n",
       "      <td>[{\"text\": \"NYC\"}]</td>\n",
       "      <td>2017-11-01 16:56:28.123441</td>\n",
       "      <td>42</td>\n",
       "      <td>RT @billnyefilm: #NYC peeps! @BillNye IN-PERSO...</td>\n",
       "    </tr>\n",
       "    <tr>\n",
       "      <th>4</th>\n",
       "      <td>Wed Oct 25 20:03:42 +0000 2017</td>\n",
       "      <td>522</td>\n",
       "      <td>Bill Nye</td>\n",
       "      <td>[{\"text\": \"NYC\"}]</td>\n",
       "      <td>2017-11-01 16:56:28.123444</td>\n",
       "      <td>86</td>\n",
       "      <td>#NYC: Join me + the filmmakers for Q&amp;amp;A scr...</td>\n",
       "    </tr>\n",
       "    <tr>\n",
       "      <th>5</th>\n",
       "      <td>Wed Oct 25 02:04:20 +0000 2017</td>\n",
       "      <td>0</td>\n",
       "      <td>Bill Nye</td>\n",
       "      <td>[{\"text\": \"TheOpposition\"}]</td>\n",
       "      <td>2017-11-01 16:56:28.123447</td>\n",
       "      <td>99</td>\n",
       "      <td>RT @TheOpposition: Tonight on #TheOpposition, ...</td>\n",
       "    </tr>\n",
       "    <tr>\n",
       "      <th>6</th>\n",
       "      <td>Tue Oct 24 22:32:01 +0000 2017</td>\n",
       "      <td>28662</td>\n",
       "      <td>Bill Nye</td>\n",
       "      <td>[{\"text\": \"worldpolioday\"}]</td>\n",
       "      <td>2017-11-01 16:56:28.123450</td>\n",
       "      <td>9724</td>\n",
       "      <td>It’s #worldpolioday. Vaccines work. It’s science.</td>\n",
       "    </tr>\n",
       "    <tr>\n",
       "      <th>7</th>\n",
       "      <td>Fri Oct 20 20:03:24 +0000 2017</td>\n",
       "      <td>0</td>\n",
       "      <td>Bill Nye</td>\n",
       "      <td>[{\"text\": \"NewYork\"}]</td>\n",
       "      <td>2017-11-01 16:56:28.123454</td>\n",
       "      <td>78</td>\n",
       "      <td>RT @billnyefilm: Get ready, #NewYork.\\n@BillNy...</td>\n",
       "    </tr>\n",
       "    <tr>\n",
       "      <th>8</th>\n",
       "      <td>Thu Oct 19 22:41:19 +0000 2017</td>\n",
       "      <td>1127</td>\n",
       "      <td>Bill Nye</td>\n",
       "      <td>[]</td>\n",
       "      <td>2017-11-01 16:56:28.123457</td>\n",
       "      <td>123</td>\n",
       "      <td>It’s your final chance to join me for the laun...</td>\n",
       "    </tr>\n",
       "    <tr>\n",
       "      <th>9</th>\n",
       "      <td>Fri Oct 13 00:48:09 +0000 2017</td>\n",
       "      <td>904</td>\n",
       "      <td>Bill Nye</td>\n",
       "      <td>[]</td>\n",
       "      <td>2017-11-01 16:56:28.123460</td>\n",
       "      <td>173</td>\n",
       "      <td>The countdown is on and it’s your LAST CHANCE ...</td>\n",
       "    </tr>\n",
       "  </tbody>\n",
       "</table>\n",
       "</div>"
      ],
      "text/plain": [
       "                       created_at  favorite_count    handle  \\\n",
       "0  Wed Nov 01 18:09:04 +0000 2017             346  Bill Nye   \n",
       "1  Wed Nov 01 03:15:03 +0000 2017            8406  Bill Nye   \n",
       "2  Fri Oct 27 17:01:24 +0000 2017               0  Bill Nye   \n",
       "3  Thu Oct 26 20:18:36 +0000 2017               0  Bill Nye   \n",
       "4  Wed Oct 25 20:03:42 +0000 2017             522  Bill Nye   \n",
       "5  Wed Oct 25 02:04:20 +0000 2017               0  Bill Nye   \n",
       "6  Tue Oct 24 22:32:01 +0000 2017           28662  Bill Nye   \n",
       "7  Fri Oct 20 20:03:24 +0000 2017               0  Bill Nye   \n",
       "8  Thu Oct 19 22:41:19 +0000 2017            1127  Bill Nye   \n",
       "9  Fri Oct 13 00:48:09 +0000 2017             904  Bill Nye   \n",
       "\n",
       "                      hashtags                   mined_at  retweet_count  \\\n",
       "0                           [] 2017-11-01 16:56:28.123424             43   \n",
       "1                           [] 2017-11-01 16:56:28.123433            684   \n",
       "2                           [] 2017-11-01 16:56:28.123437             41   \n",
       "3            [{\"text\": \"NYC\"}] 2017-11-01 16:56:28.123441             42   \n",
       "4            [{\"text\": \"NYC\"}] 2017-11-01 16:56:28.123444             86   \n",
       "5  [{\"text\": \"TheOpposition\"}] 2017-11-01 16:56:28.123447             99   \n",
       "6  [{\"text\": \"worldpolioday\"}] 2017-11-01 16:56:28.123450           9724   \n",
       "7        [{\"text\": \"NewYork\"}] 2017-11-01 16:56:28.123454             78   \n",
       "8                           [] 2017-11-01 16:56:28.123457            123   \n",
       "9                           [] 2017-11-01 16:56:28.123460            173   \n",
       "\n",
       "                                                text  \n",
       "0  Soothe your post-Halloween sugar hangover with...  \n",
       "1  Happy Halloween from Nye Labs 🎃 https://t.co/...  \n",
       "2  RT @billnyefilm: Get ghouled up, snap a selfie...  \n",
       "3  RT @billnyefilm: #NYC peeps! @BillNye IN-PERSO...  \n",
       "4  #NYC: Join me + the filmmakers for Q&amp;A scr...  \n",
       "5  RT @TheOpposition: Tonight on #TheOpposition, ...  \n",
       "6  It’s #worldpolioday. Vaccines work. It’s science.  \n",
       "7  RT @billnyefilm: Get ready, #NewYork.\\n@BillNy...  \n",
       "8  It’s your final chance to join me for the laun...  \n",
       "9  The countdown is on and it’s your LAST CHANCE ...  "
      ]
     },
     "execution_count": 60,
     "metadata": {},
     "output_type": "execute_result"
    }
   ],
   "source": [
    "# Put the results into dataframe & check 10 samples\n",
    "\n",
    "bill_df = pd.DataFrame(bill)\n",
    "neil_df = pd.DataFrame(neil)\n",
    "bill_df.head(10)\n",
    "\n",
    "# Love that pumkin emoji :-)"
   ]
  },
  {
   "cell_type": "code",
   "execution_count": 7,
   "metadata": {
    "collapsed": false
   },
   "outputs": [
    {
     "name": "stdout",
     "output_type": "stream",
     "text": [
      "(1000, 7)\n",
      "(1000, 7)\n"
     ]
    }
   ],
   "source": [
    "# Check how many tweets were scrapped from both scientists\n",
    "print(bill_df.shape)\n",
    "print (neil_df.shape)\n",
    "\n",
    "# Each have 1000 tweets."
   ]
  },
  {
   "cell_type": "code",
   "execution_count": 61,
   "metadata": {
    "collapsed": false,
    "scrolled": true
   },
   "outputs": [
    {
     "name": "stdout",
     "output_type": "stream",
     "text": [
      "The most recent tweet from Bill Nye is created at:  Wed Nov 01 18:09:04 +0000 2017\n",
      "The oldest tweet from the Bill Nye tweet dataset is:  Wed Sep 17 02:35:12 +0000 2014\n"
     ]
    }
   ],
   "source": [
    "print 'The most recent tweet from Bill Nye is created at: ', bill_df['created_at'][0]\n",
    "print 'The oldest tweet from the Bill Nye tweet dataset is: ', bill_df['created_at'][999]\n",
    "\n",
    "# Bill Nye's dataset contains about 3-year worth of tweets. "
   ]
  },
  {
   "cell_type": "code",
   "execution_count": 9,
   "metadata": {
    "collapsed": false,
    "scrolled": true
   },
   "outputs": [
    {
     "data": {
      "text/html": [
       "<div>\n",
       "<style>\n",
       "    .dataframe thead tr:only-child th {\n",
       "        text-align: right;\n",
       "    }\n",
       "\n",
       "    .dataframe thead th {\n",
       "        text-align: left;\n",
       "    }\n",
       "\n",
       "    .dataframe tbody tr th {\n",
       "        vertical-align: top;\n",
       "    }\n",
       "</style>\n",
       "<table border=\"1\" class=\"dataframe\">\n",
       "  <thead>\n",
       "    <tr style=\"text-align: right;\">\n",
       "      <th></th>\n",
       "      <th>favorite_count</th>\n",
       "      <th>retweet_count</th>\n",
       "    </tr>\n",
       "  </thead>\n",
       "  <tbody>\n",
       "    <tr>\n",
       "      <th>count</th>\n",
       "      <td>1000.00000</td>\n",
       "      <td>1000.000000</td>\n",
       "    </tr>\n",
       "    <tr>\n",
       "      <th>mean</th>\n",
       "      <td>2270.91900</td>\n",
       "      <td>1073.024000</td>\n",
       "    </tr>\n",
       "    <tr>\n",
       "      <th>std</th>\n",
       "      <td>7038.89279</td>\n",
       "      <td>4621.723826</td>\n",
       "    </tr>\n",
       "    <tr>\n",
       "      <th>min</th>\n",
       "      <td>0.00000</td>\n",
       "      <td>0.000000</td>\n",
       "    </tr>\n",
       "    <tr>\n",
       "      <th>25%</th>\n",
       "      <td>14.25000</td>\n",
       "      <td>107.750000</td>\n",
       "    </tr>\n",
       "    <tr>\n",
       "      <th>50%</th>\n",
       "      <td>649.00000</td>\n",
       "      <td>252.500000</td>\n",
       "    </tr>\n",
       "    <tr>\n",
       "      <th>75%</th>\n",
       "      <td>1964.25000</td>\n",
       "      <td>654.000000</td>\n",
       "    </tr>\n",
       "    <tr>\n",
       "      <th>max</th>\n",
       "      <td>115272.00000</td>\n",
       "      <td>91718.000000</td>\n",
       "    </tr>\n",
       "  </tbody>\n",
       "</table>\n",
       "</div>"
      ],
      "text/plain": [
       "       favorite_count  retweet_count\n",
       "count      1000.00000    1000.000000\n",
       "mean       2270.91900    1073.024000\n",
       "std        7038.89279    4621.723826\n",
       "min           0.00000       0.000000\n",
       "25%          14.25000     107.750000\n",
       "50%         649.00000     252.500000\n",
       "75%        1964.25000     654.000000\n",
       "max      115272.00000   91718.000000"
      ]
     },
     "execution_count": 9,
     "metadata": {},
     "output_type": "execute_result"
    }
   ],
   "source": [
    "bill_df.describe()\n",
    "\n",
    "# Wow, there is a 115280 likes on a tweet. The most retweet is 91724. "
   ]
  },
  {
   "cell_type": "code",
   "execution_count": 62,
   "metadata": {
    "collapsed": false,
    "scrolled": true
   },
   "outputs": [
    {
     "data": {
      "image/png": "[encoded data removed]",
      "text/plain": [
       "<matplotlib.figure.Figure at 0x117e4fb10>"
      ]
     },
     "metadata": {
      "image/png": {
       "height": 291,
       "width": 635
      }
     },
     "output_type": "display_data"
    }
   ],
   "source": [
    "# Look at Bill 5 most liked tweet\n",
    "\n",
    "bill_df['favorite_count'].sort_values(ascending = False)[:5].plot(kind = 'bar',\n",
    "                                                                   figsize = (10, 4),\n",
    "                                                                  color = 'c')\n",
    "plt.title('Bill Nye Five Most Favorite Tweets', fontsize = 16)\n",
    "plt.xlabel('Tweet ID', fontsize = 12)\n",
    "plt.ylabel('Favorite Count', fontsize = 12)\n",
    "plt.show()\n"
   ]
  },
  {
   "cell_type": "code",
   "execution_count": 63,
   "metadata": {
    "collapsed": false,
    "scrolled": true
   },
   "outputs": [
    {
     "name": "stdout",
     "output_type": "stream",
     "text": [
      "\"They\" don't want you to be concerned about climate change, but @djkhaled &amp; I want you to be. Major 🔑/ Major 🔬 https://t.co/gKtI2TZLnC\n",
      "Ordering the EPA or NASA not to talk about climate change isn’t going to cool things off. Don't double down on deni… https://t.co/p8J7MRxjwc\n",
      "Happy Thanksgiving to all! https://t.co/FA12naYawU\n",
      "Don't ever let them tell you science isn't cool. @neiltyson https://t.co/OjDI51e8HM\n",
      "The joy of discovery is ever so sweet. https://t.co/2aT2TbTkZr\n"
     ]
    }
   ],
   "source": [
    "# Bill tweets receive a lot of likes, especially the tweet line item 370, 188, 232, 334, and 171. \n",
    "# Let's see what these tweets were talking about. \n",
    "\n",
    "print (bill_df.iloc[372,6])\n",
    "print (bill_df.iloc[190,6])\n",
    "print (bill_df.iloc[234,6])\n",
    "print (bill_df.iloc[336,6])\n",
    "print (bill_df.iloc[173,6])\n"
   ]
  },
  {
   "cell_type": "markdown",
   "metadata": {},
   "source": [
    "The most favorite tweets from Bill Nye are related climate change, encourge science and discovery. \n",
    "\n",
    "Yes science is COOL!!!! \n",
    "\n",
    "He is my guy! \n",
    "\n",
    "Let's check Neil."
   ]
  },
  {
   "cell_type": "code",
   "execution_count": 64,
   "metadata": {
    "collapsed": false,
    "scrolled": true
   },
   "outputs": [
    {
     "name": "stdout",
     "output_type": "stream",
     "text": [
      "The most recent tweet from Neil Tyson is created at:  Mon Oct 30 14:45:02 +0000 2017\n",
      "The oldest tweet of the Neil Tyson tweet dataset is:  Tue Oct 06 00:08:03 +0000 2015\n"
     ]
    }
   ],
   "source": [
    "print 'The most recent tweet from Neil Tyson is created at: ', neil_df['created_at'][0]\n",
    "print 'The oldest tweet of the Neil Tyson tweet dataset is: ', neil_df['created_at'][999]"
   ]
  },
  {
   "cell_type": "markdown",
   "metadata": {},
   "source": [
    "**Neil's twitter dataset is about 2 years worth of tweets. He seems to tweet more than Bill.**\n",
    "\n",
    "** Let's check which tweets from Neil get the most likes.**"
   ]
  },
  {
   "cell_type": "code",
   "execution_count": 66,
   "metadata": {
    "collapsed": false
   },
   "outputs": [
    {
     "data": {
      "text/html": [
       "<div>\n",
       "<style>\n",
       "    .dataframe thead tr:only-child th {\n",
       "        text-align: right;\n",
       "    }\n",
       "\n",
       "    .dataframe thead th {\n",
       "        text-align: left;\n",
       "    }\n",
       "\n",
       "    .dataframe tbody tr th {\n",
       "        vertical-align: top;\n",
       "    }\n",
       "</style>\n",
       "<table border=\"1\" class=\"dataframe\">\n",
       "  <thead>\n",
       "    <tr style=\"text-align: right;\">\n",
       "      <th></th>\n",
       "      <th>favorite_count</th>\n",
       "      <th>retweet_count</th>\n",
       "    </tr>\n",
       "  </thead>\n",
       "  <tbody>\n",
       "    <tr>\n",
       "      <th>count</th>\n",
       "      <td>1000.000000</td>\n",
       "      <td>1000.000000</td>\n",
       "    </tr>\n",
       "    <tr>\n",
       "      <th>mean</th>\n",
       "      <td>14467.095000</td>\n",
       "      <td>5381.811000</td>\n",
       "    </tr>\n",
       "    <tr>\n",
       "      <th>std</th>\n",
       "      <td>30509.732525</td>\n",
       "      <td>12657.419334</td>\n",
       "    </tr>\n",
       "    <tr>\n",
       "      <th>min</th>\n",
       "      <td>0.000000</td>\n",
       "      <td>0.000000</td>\n",
       "    </tr>\n",
       "    <tr>\n",
       "      <th>25%</th>\n",
       "      <td>611.750000</td>\n",
       "      <td>98.250000</td>\n",
       "    </tr>\n",
       "    <tr>\n",
       "      <th>50%</th>\n",
       "      <td>4443.500000</td>\n",
       "      <td>1046.000000</td>\n",
       "    </tr>\n",
       "    <tr>\n",
       "      <th>75%</th>\n",
       "      <td>14835.750000</td>\n",
       "      <td>4892.000000</td>\n",
       "    </tr>\n",
       "    <tr>\n",
       "      <th>max</th>\n",
       "      <td>357836.000000</td>\n",
       "      <td>143441.000000</td>\n",
       "    </tr>\n",
       "  </tbody>\n",
       "</table>\n",
       "</div>"
      ],
      "text/plain": [
       "       favorite_count  retweet_count\n",
       "count     1000.000000    1000.000000\n",
       "mean     14467.095000    5381.811000\n",
       "std      30509.732525   12657.419334\n",
       "min          0.000000       0.000000\n",
       "25%        611.750000      98.250000\n",
       "50%       4443.500000    1046.000000\n",
       "75%      14835.750000    4892.000000\n",
       "max     357836.000000  143441.000000"
      ]
     },
     "execution_count": 66,
     "metadata": {},
     "output_type": "execute_result"
    }
   ],
   "source": [
    "neil_df.describe()"
   ]
  },
  {
   "cell_type": "markdown",
   "metadata": {},
   "source": [
    "Oh wow!!!! 357836 likes with 143441 retweet. Let's check it out. "
   ]
  },
  {
   "cell_type": "code",
   "execution_count": 65,
   "metadata": {
    "collapsed": false
   },
   "outputs": [
    {
     "data": {
      "image/png": "[encoded data removed]",
      "text/plain": [
       "<matplotlib.figure.Figure at 0x10f839690>"
      ]
     },
     "metadata": {
      "image/png": {
       "height": 291,
       "width": 635
      }
     },
     "output_type": "display_data"
    }
   ],
   "source": [
    "# Look at Bill most favorite tweet\n",
    "\n",
    "neil_df['favorite_count'].sort_values(ascending = False)[:5].plot(kind = 'bar',\n",
    "                                                                   figsize = (10, 4),\n",
    "                                                                  color = 'b')\n",
    "plt.title('Neil Tyson 5 Most Favorite Tweets', fontsize = 16)\n",
    "plt.xlabel('Tweet ID', fontsize = 12)\n",
    "plt.ylabel('Favorite Count', fontsize = 12)\n",
    "plt.show()"
   ]
  },
  {
   "cell_type": "code",
   "execution_count": 16,
   "metadata": {
    "collapsed": false
   },
   "outputs": [
    {
     "name": "stdout",
     "output_type": "stream",
     "text": [
      "In school, students cheat because the system values high grades more than students value learning.\n",
      "Let’s Make America Smart Again.\n",
      "Odd. No one is in denial of America’s Aug 21 total solar eclipse. Like Climate Change, methods &amp; tools of science predict it.\n",
      "I dream of a world where the truth is what shapes people's politics, rather than politics shaping what people think is true.\n",
      "The divided United States of America will unite today, sharing a cosmic event predicted by the methods and tools of… https://t.co/nPUwQK87Rr\n"
     ]
    }
   ],
   "source": [
    "# Let's see what these tweets were talking about from Neil. \n",
    "\n",
    "print (neil_df.iloc[72,6])\n",
    "print (neil_df.iloc[20,6])\n",
    "print (neil_df.iloc[113,6])\n",
    "print (neil_df.iloc[402,6])\n",
    "print (neil_df.iloc[91,6])"
   ]
  },
  {
   "cell_type": "markdown",
   "metadata": {},
   "source": [
    "I totally agree education system emphasizes too much on grades instead of learning. Sad!\n",
    "\n",
    "Overwhelmingly agreed by people, but still, there isn't an alternative or should I say, another popular system to measure level of student competency except throwing them into a test pit. \n"
   ]
  },
  {
   "cell_type": "markdown",
   "metadata": {},
   "source": [
    "## Word Frequency"
   ]
  },
  {
   "cell_type": "markdown",
   "metadata": {},
   "source": [
    "One of the ways to analyze user tweeting style and what they commonly talk about is word frequency. \n",
    "\n",
    "Every user has their favorite words to use. Let's break down the two users' tweets and find out what words they like to use. "
   ]
  },
  {
   "cell_type": "code",
   "execution_count": 69,
   "metadata": {
    "collapsed": false,
    "scrolled": true
   },
   "outputs": [
    {
     "name": "stdout",
     "output_type": "stream",
     "text": [
      "('Original_test_tweet --> ', u'RT @billnyefilm: Get ready, #NewYork.\\n@BillNye in-person Q&amp;As at @sunshine_cinema 10/27 &amp; 10/28 \\u2192 https://t.co/2jR9cqKyrU https://t.co/7Qlw\\u2026')\n",
      "-------\n",
      "('Tokenize_test_tweet -->  ', [u'RT', u'@', u'billnyefilm', u':', u'Get', u'ready', u',', u'#', u'NewYork', u'.', u'@', u'BillNye', u'in-person', u'Q', u'&', u'amp', u';', u'As', u'at', u'@', u'sunshine_cinema', u'10/27', u'&', u'amp', u';', u'10/28', u'\\u2192', u'https', u':', u'//t.co/2jR9cqKyrU', u'https', u':', u'//t.co/7Qlw\\u2026'])\n"
     ]
    }
   ],
   "source": [
    "# nltk has a word tokenizer that would break down the words. \n",
    "\n",
    "#import nltk library\n",
    "import nltk\n",
    "from nltk.tokenize import word_tokenize\n",
    "\n",
    "# test how a tweet being tokenized using nltk tokenizer\n",
    "test_tweet = bill_df['text'][7]\n",
    "print ('Original_test_tweet --> ', test_tweet)\n",
    "\n",
    "print ('-------')\n",
    "\n",
    "tokenize_test_tweet = word_tokenize(test_tweet)\n",
    "print('Tokenize_test_tweet -->  ', tokenize_test_tweet)"
   ]
  },
  {
   "cell_type": "markdown",
   "metadata": {},
   "source": [
    "**The nltk word tokenizer breaks down words using standard English words.**\n",
    "\n",
    "\n",
    "**But social media chats are different, especially tweets. Tweets have a lot of**\n",
    "* hashtags begin with #, \n",
    "* mentions begin with @, \n",
    "* urls begin with http(s), and \n",
    "* emojis\n",
    "\n",
    "** These should be treated as one string of word. For example, https://t.co/2jR9cqKyrU should be treated as an url. But nltk tokenizer breaks the url into three parts:**\n",
    "\n",
    "    1) https\n",
    "    2) :\n",
    "    3) //t.co/7Qlw\\u2026\n",
    "    "
   ]
  },
  {
   "cell_type": "markdown",
   "metadata": {},
   "source": [
    "Some words such as 'i', 'me', 'my' etc. are very common and used on all types of writings. But these words do not help on distinguishing user writing style, pattern analysis, and predictions.\n",
    "\n",
    "These words are called stop words.\n",
    "\n",
    "nltk has a ‘stopword’ library that can remove these stop words.\n",
    "\n",
    "Punctuations also have are irrelevent when it comes to sentiment analysis except they come with the #hashtags, @mentions, and http(s)//:url. We need to eliminate these punctuations. String library has the list of punctuations. \n"
   ]
  },
  {
   "cell_type": "code",
   "execution_count": 18,
   "metadata": {
    "collapsed": false
   },
   "outputs": [
    {
     "name": "stdout",
     "output_type": "stream",
     "text": [
      "[u'i', u'me', u'my', u'myself', u'we', u'our', u'ours', u'ourselves', u'you', u'your', u'yours', u'yourself', u'yourselves', u'he', u'him', u'his', u'himself', u'she', u'her', u'hers', u'herself', u'it', u'its', u'itself', u'they', u'them', u'their', u'theirs', u'themselves', u'what', u'which', u'who', u'whom', u'this', u'that', u'these', u'those', u'am', u'is', u'are', u'was', u'were', u'be', u'been', u'being', u'have', u'has', u'had', u'having', u'do', u'does', u'did', u'doing', u'a', u'an', u'the', u'and', u'but', u'if', u'or', u'because', u'as', u'until', u'while', u'of', u'at', u'by', u'for', u'with', u'about', u'against', u'between', u'into', u'through', u'during', u'before', u'after', u'above', u'below', u'to', u'from', u'up', u'down', u'in', u'out', u'on', u'off', u'over', u'under', u'again', u'further', u'then', u'once', u'here', u'there', u'when', u'where', u'why', u'how', u'all', u'any', u'both', u'each', u'few', u'more', u'most', u'other', u'some', u'such', u'no', u'nor', u'not', u'only', u'own', u'same', u'so', u'than', u'too', u'very', u's', u't', u'can', u'will', u'just', u'don', u'should', u'now', u'd', u'll', u'm', u'o', u're', u've', u'y', u'ain', u'aren', u'couldn', u'didn', u'doesn', u'hadn', u'hasn', u'haven', u'isn', u'ma', u'mightn', u'mustn', u'needn', u'shan', u'shouldn', u'wasn', u'weren', u'won', u'wouldn']\n",
      "['!', '\"', '#', '$', '%', '&', \"'\", '(', ')', '*', '+', ',', '-', '.', '/', ':', ';', '<', '=', '>', '?', '@', '[', '\\\\', ']', '^', '_', '`', '{', '|', '}', '~']\n"
     ]
    }
   ],
   "source": [
    "# Import the stopwords library from nltk and punctuations from string. \n",
    "\n",
    "from nltk.corpus import stopwords\n",
    "import string\n",
    "\n",
    "stopwords = stopwords.words('english')\n",
    "\n",
    "punctuations = list(string.punctuation)\n",
    "\n",
    "# Take a look at the stopwords and punctuations for eliminations\n",
    "print(stopwords)\n",
    "\n",
    "print(punctuations)"
   ]
  },
  {
   "cell_type": "code",
   "execution_count": 19,
   "metadata": {
    "collapsed": true,
    "scrolled": false
   },
   "outputs": [],
   "source": [
    "# there may be some additional non-meaningful words we want to remove as well. \n",
    "# Let's create a list called do_not_want_list.\n",
    "\n",
    "do_not_want_list = ['rt', 'amp', 'q', '1', '2', '3', '4', '5', \n",
    "                    '6', '7', '8', '9', '10', '11', '12', '13','14', '15', '16',\n",
    "                    '17', '18', '19', '20', '21', '22', '23', '24', '25', \n",
    "                    '26', '27', '28', '29', '30', '31',\"i'am\", \"it's\", \"don't\", \n",
    "                    'w', 'bill', '@billnye', \"let's\", 'https', 'us', 'fyi', 'would', 'one']\n",
    "                "
   ]
  },
  {
   "cell_type": "code",
   "execution_count": 20,
   "metadata": {
    "collapsed": false
   },
   "outputs": [],
   "source": [
    "# Combine all the stop words, punctunation, and do_not_want_list for removal\n",
    "\n",
    "stop = stopwords + punctuations + do_not_want_list"
   ]
  },
  {
   "cell_type": "code",
   "execution_count": 21,
   "metadata": {
    "collapsed": true
   },
   "outputs": [],
   "source": [
    "# Since we want the emojis, the hashtags with #, the mention with @, \n",
    "# and the web addresses with http/https: tokenized as whole string, \n",
    "# we need to tokenize them differently.\n",
    "# I borrowed this code from Marco Bonazani and twist it a bit to accomodate my requirements. \n",
    "# Thank you Marco. \n",
    "\n",
    "# Keep the emojis\n",
    "emoticons_str = r\"\"\"\n",
    "    (?:\n",
    "        [:=;] # Eyes\n",
    "        [oO\\-]? # Nose (optional)\n",
    "        [D\\)\\]\\(\\]/\\\\OpP] # Mouth\n",
    "    )\"\"\"\n",
    "\n",
    "# Keep the special phases\n",
    "regex_str = [\n",
    "    emoticons_str,\n",
    "    r'<[^>]+>', # HTML tags\n",
    "    r'(?:@[\\w_]+)', # @-mentions\n",
    "    r\"(?:\\#+[\\w_]+[\\w\\'_\\-]*[\\w_]+)\", # hash-tags\n",
    "    r'http[s]?://(?:[a-z]|[0-9]|[$-_@.&amp;+]|[!*\\(\\),]|(?:%[0-9a-f][0-9a-f]))+', # URLs\n",
    "    r'(?:(?:\\d+,?)+(?:\\.?\\d+)?)', # numbers\n",
    "    r\"(?:[a-z][a-z'\\-_]+[a-z])\", # words with - and\n",
    "    r'(?:[\\w_]+)', # other words\n",
    "    r'(?:\\S)' # anything else\n",
    "    r'^\\d*'\n",
    "]\n",
    "    \n",
    "tokens_re = re.compile(r'('+'|'.join(regex_str)+')', re.VERBOSE | re.IGNORECASE)\n",
    "emoticon_re = re.compile(r'^'+emoticons_str+'$', re.VERBOSE | re.IGNORECASE)\n",
    " \n",
    "def tokenize(s):\n",
    "    return tokens_re.findall(s)\n",
    " \n",
    "def tweet_preprocess(s, lowercase=False):\n",
    "    tokens = tokenize(s)\n",
    "    tokens = [word for word in tokens if not word in stop]\n",
    "    if lowercase:\n",
    "        tokens = [token if emoticon_re.search(token) else token.lower() for token in tokens]\n",
    "    return tokens"
   ]
  },
  {
   "cell_type": "code",
   "execution_count": 70,
   "metadata": {
    "collapsed": false,
    "scrolled": true
   },
   "outputs": [
    {
     "name": "stdout",
     "output_type": "stream",
     "text": [
      "('Original_test_tweet --> ', u'RT @billnyefilm: Get ready, #NewYork.\\n@BillNye in-person Q&amp;As at @sunshine_cinema 10/27 &amp; 10/28 \\u2192 https://t.co/2jR9cqKyrU https://t.co/7Qlw\\u2026')\n",
      "---------------------------------------\n",
      "('Standard_tokenize_test_tweet -->  ', [u'RT', u'@', u'billnyefilm', u':', u'Get', u'ready', u',', u'#', u'NewYork', u'.', u'@', u'BillNye', u'in-person', u'Q', u'&', u'amp', u';', u'As', u'at', u'@', u'sunshine_cinema', u'10/27', u'&', u'amp', u';', u'10/28', u'\\u2192', u'https', u':', u'//t.co/2jR9cqKyrU', u'https', u':', u'//t.co/7Qlw\\u2026'])\n",
      "---------------------------------------\n",
      "('Customize_tokenize_test_tweet --> ', [u'RT', u'@billnyefilm', u'Get', u'ready', u'#NewYork', u'@BillNye', u'in-person', u'Q', u'As', u'@sunshine_cinema', u'https://t.co/2jR9cqKyrU', u'https://t.co/7Qlw'])\n"
     ]
    }
   ],
   "source": [
    "# Compare how the tweet being tokenized now using customized tokenization.\n",
    "\n",
    "print ('Original_test_tweet --> ', test_tweet)\n",
    "\n",
    "print ('---------------------------------------')\n",
    "\n",
    "tokenize_test_tweet = word_tokenize(test_tweet)\n",
    "print('Standard_tokenize_test_tweet -->  ', tokenize_test_tweet)\n",
    "\n",
    "print ('---------------------------------------')\n",
    "\n",
    "print('Customize_tokenize_test_tweet --> ', tweet_preprocess(test_tweet))\n"
   ]
  },
  {
   "cell_type": "markdown",
   "metadata": {},
   "source": [
    "** The customized tokenization is not perfect. But the function keeps the hashtags, the mentions and the url intact. **\n",
    "\n",
    "** Punctuations such as individual ':', '&', ';' also removed.**\n",
    "\n",
    "** Stop words such as 'at' is removed. The word 'As' is not removed because we have not make it a lowercase yet. If you notice, all stop words are in lowercase. **\n",
    "\n",
    "** There are some words such as 'RT', meaning retweet, 'amp', and the date break down will not have much meaningful on user and topic predictions. These will be added to the do_not_want_list for removal.**\n",
    "\n",
    "** What we are going to do next is to create a corpus using the customized tokenizer. **\n",
    "\n"
   ]
  },
  {
   "cell_type": "code",
   "execution_count": 23,
   "metadata": {
    "collapsed": false,
    "scrolled": false
   },
   "outputs": [
    {
     "name": "stdout",
     "output_type": "stream",
     "text": [
      "[u'soothe', u'post-halloween', u'sugar', u'hangover', u'science', u'@billnyefilm', u'screens', u'nyc', u'@sunshine_cinema', u'thru', u'nov', u'https://t.co/9lwjhd2oxd', u'happy', u'halloween', u'nye', u'labs', u'https://t.co/qvdlqisigg', u'@billnyefilm', u'get', u'ghouled']\n"
     ]
    }
   ],
   "source": [
    "# Now we create corpus for each scientist \n",
    "\n",
    "bill_corpus = []\n",
    "\n",
    "for word in bill_df['text']:\n",
    "    word = word.lower() # put all the words in lowercase\n",
    "    tweets = tweet_preprocess(word)\n",
    "    bill_corpus.extend(tweets)\n",
    "print(bill_corpus[:20])"
   ]
  },
  {
   "cell_type": "code",
   "execution_count": 24,
   "metadata": {
    "collapsed": false
   },
   "outputs": [
    {
     "name": "stdout",
     "output_type": "stream",
     "text": [
      "[u'world', u'really', u'going', u'end', u'cosmically', u'let', u'know', u'plenty', u'time', u'nothing', u'posted', u'@startalkradio', u'power', u'political', u'satire', u'@billmaher', u'@applepodcasts', u'https://t.co/vn9q1591hl', u'know', u'mars']\n"
     ]
    }
   ],
   "source": [
    "# Create a corpus for Neil\n",
    "\n",
    "neil_corpus=[]\n",
    "\n",
    "for word in neil_df['text']:\n",
    "    word = word.lower() # put all the words in lowercase\n",
    "    tweets = tweet_preprocess(word)\n",
    "    neil_corpus.extend(tweets)\n",
    "print(neil_corpus[:20])"
   ]
  },
  {
   "cell_type": "markdown",
   "metadata": {},
   "source": [
    "### Bill Nye's 20 Most Common Words"
   ]
  },
  {
   "cell_type": "code",
   "execution_count": 25,
   "metadata": {
    "collapsed": true
   },
   "outputs": [],
   "source": [
    "# Create a counter to count the words\n",
    "\n",
    "from collections import Counter\n",
    "bill_counter = Counter()"
   ]
  },
  {
   "cell_type": "code",
   "execution_count": 26,
   "metadata": {
    "collapsed": false,
    "scrolled": true
   },
   "outputs": [
    {
     "name": "stdout",
     "output_type": "stream",
     "text": [
      "[(u'science', 115), (u'change', 90), (u'world', 77), (u'climate', 73), (u'@exploreplanets', 64), (u'day', 57), (u'get', 53), (u'today', 51), (u'tonight', 40), (u'new', 38), (u'space', 38), (u'big', 34), (u'time', 33), (u'#strictlyscience', 31), (u'join', 30), (u'@billnyefilm', 29), (u'happy', 29), (u'people', 28), (u'go', 28), (u'guy', 28)]\n"
     ]
    }
   ],
   "source": [
    "# Loop through the Bill's corpus to count words\n",
    "\n",
    "for word in bill_corpus:\n",
    "    bill_counter[word] +=1\n",
    "    \n",
    "# Check the 20 most common words Bill uses   \n",
    "print(bill_counter.most_common(20))"
   ]
  },
  {
   "cell_type": "code",
   "execution_count": 28,
   "metadata": {
    "collapsed": false,
    "scrolled": false
   },
   "outputs": [
    {
     "data": {
      "image/png": "[encoded data removed]",
      "text/plain": [
       "<matplotlib.figure.Figure at 0x116a3d890>"
      ]
     },
     "metadata": {
      "image/png": {
       "height": 463,
       "width": 733
      }
     },
     "output_type": "display_data"
    }
   ],
   "source": [
    "bill_common_words = pd.DataFrame(bill_counter.most_common(20), columns = ['word', 'count'])\n",
    "bill_common_words.plot(x = 'word', y = 'count', kind = 'bar', figsize = (12, 6), fontsize=12,\n",
    "                      colormap = 'coolwarm', rot = 45)\n",
    "\n",
    "plt.title('Bill Nye Common Words Use in Tweets', fontsize = 16)\n",
    "plt.xlabel('Word', fontsize = 14)\n",
    "plt.ylabel('Word Frequency', fontsize = 14)\n",
    "plt.show()\n"
   ]
  },
  {
   "cell_type": "markdown",
   "metadata": {},
   "source": [
    "** OK, we have Bill's most common word tally. **\n",
    "\n",
    "** Bill likes to talk about science (yes of course, he is a scientist). He uses the words change, world, and climate a lot. **\n",
    "\n",
    "** Bill also mention exploring planets many times.**\n",
    "\n",
    "** Let's check Neil.**"
   ]
  },
  {
   "cell_type": "markdown",
   "metadata": {},
   "source": [
    "### Neil Tyson 20 Most Common Words"
   ]
  },
  {
   "cell_type": "code",
   "execution_count": 27,
   "metadata": {
    "collapsed": false,
    "scrolled": true
   },
   "outputs": [
    {
     "name": "stdout",
     "output_type": "stream",
     "text": [
      "[(u'earth', 84), (u'@startalkradio', 70), (u'posted', 67), (u'people', 52), (u'science', 48), (u'time', 46), (u'day', 44), (u'world', 43), (u'cosmic', 42), (u'like', 42), (u'moon', 42), (u'@itunespodcasts', 40), (u'know', 30), (u'life', 29), (u'back', 29), (u'years', 28), (u'space', 27), (u'think', 27), (u'good', 27), (u'video', 27)]\n"
     ]
    }
   ],
   "source": [
    "# Loop through the Neil's corpus to count words\n",
    "neil_counter = Counter()\n",
    "\n",
    "for word in neil_corpus:\n",
    "    neil_counter[word] +=1\n",
    "# check the most common 20 words    \n",
    "print(neil_counter.most_common(20))"
   ]
  },
  {
   "cell_type": "code",
   "execution_count": 29,
   "metadata": {
    "collapsed": false
   },
   "outputs": [
    {
     "data": {
      "image/png": "[encoded data removed]",
      "text/plain": [
       "<matplotlib.figure.Figure at 0x116b27e90>"
      ]
     },
     "metadata": {
      "image/png": {
       "height": 464,
       "width": 726
      }
     },
     "output_type": "display_data"
    }
   ],
   "source": [
    "neil_common_words = pd.DataFrame(neil_counter.most_common(20), columns = ['word', 'count'])\n",
    "neil_common_words.plot(x = 'word', y = 'count', kind = 'bar', figsize = (12, 6), fontsize=12,\n",
    "                      colormap = 'summer', rot = 45)\n",
    "\n",
    "plt.title('Neil Tyson Common Words Use in Tweets', fontsize = 16)\n",
    "plt.xlabel('Word', fontsize = 14)\n",
    "plt.ylabel('Word Frequency', fontsize = 14)\n",
    "plt.show()"
   ]
  },
  {
   "cell_type": "markdown",
   "metadata": {},
   "source": [
    "** My perception is that Neil usually focus on other planets. But he actually cares about our home, the earth and people a lot. **\n"
   ]
  },
  {
   "cell_type": "code",
   "execution_count": 30,
   "metadata": {
    "collapsed": false,
    "scrolled": true
   },
   "outputs": [],
   "source": [
    "# Let's look at the word cloud\n",
    "\n",
    "more_stop_words = {'word', 'count'}\n",
    "from wordcloud import WordCloud, STOPWORDS\n",
    "stopwords = set(STOPWORDS.union(more_stop_words))"
   ]
  },
  {
   "cell_type": "code",
   "execution_count": 31,
   "metadata": {
    "collapsed": false
   },
   "outputs": [
    {
     "name": "stdout",
     "output_type": "stream",
     "text": [
      "<wordcloud.wordcloud.WordCloud object at 0x11787f390>\n"
     ]
    },
    {
     "data": {
      "image/png": "[encoded data removed]",
      "text/plain": [
       "<matplotlib.figure.Figure at 0x1102839d0>"
      ]
     },
     "metadata": {
      "image/png": {
       "height": 424,
       "width": 600
      }
     },
     "output_type": "display_data"
    }
   ],
   "source": [
    "wordcloud = WordCloud(background_color='grey',\n",
    "                     stopwords = stopwords,\n",
    "                     width = 600,\n",
    "                     height = 400,\n",
    "                     ).generate(str(bill_common_words[:50]))\n",
    "\n",
    "\n",
    "print(wordcloud)\n",
    "fig = plt.figure(figsize=(10,10))\n",
    "plt.title(\"Bill Nye's Word Cloud\", fontsize = 20)\n",
    "plt.imshow(wordcloud)\n",
    "plt.axis('off')\n",
    "plt.show()\n",
    "\n",
    "                     "
   ]
  },
  {
   "cell_type": "code",
   "execution_count": 32,
   "metadata": {
    "collapsed": false
   },
   "outputs": [
    {
     "name": "stdout",
     "output_type": "stream",
     "text": [
      "<wordcloud.wordcloud.WordCloud object at 0x113ba5150>\n"
     ]
    },
    {
     "data": {
      "image/png": "[encoded data removed]",
      "text/plain": [
       "<matplotlib.figure.Figure at 0x117e5a550>"
      ]
     },
     "metadata": {
      "image/png": {
       "height": 424,
       "width": 600
      }
     },
     "output_type": "display_data"
    }
   ],
   "source": [
    "wordcloud = WordCloud(background_color='grey',\n",
    "                      stopwords = stopwords, \n",
    "                     width = 600,\n",
    "                     height = 400, \n",
    "                     ).generate(str(neil_common_words[:50]))\n",
    "\n",
    "\n",
    "print(wordcloud)\n",
    "fig = plt.figure(figsize=(10,10))\n",
    "plt.title(\"Neil Tyson's Word Cloud\", fontsize = 20)\n",
    "plt.imshow(wordcloud)\n",
    "plt.axis('off')\n",
    "plt.show()\n"
   ]
  },
  {
   "cell_type": "code",
   "execution_count": null,
   "metadata": {
    "collapsed": false
   },
   "outputs": [],
   "source": [
    "#hastag_only_df = pd.DataFrame([hash for hash in corpus if hash.startswith('#')], columns = 'hashtags')\n",
    "# url_only = [url for url in corpus if url.startswith('http')]\n",
    "# mention_only = [mention for mention in corpus if mention.startswith('@')]\n",
    "# term_only = [term for term in corpus if term not in stop and \n",
    "#             not term.startswith(('#', '@', 'http', ',', '...'))]\n",
    "\n"
   ]
  },
  {
   "cell_type": "code",
   "execution_count": null,
   "metadata": {
    "collapsed": false,
    "scrolled": true
   },
   "outputs": [],
   "source": [
    "#hastag_only_df"
   ]
  },
  {
   "cell_type": "code",
   "execution_count": null,
   "metadata": {
    "collapsed": false,
    "scrolled": true
   },
   "outputs": [],
   "source": [
    "#print(url_only)[:10]"
   ]
  },
  {
   "cell_type": "code",
   "execution_count": null,
   "metadata": {
    "collapsed": false,
    "scrolled": true
   },
   "outputs": [],
   "source": [
    "#print(mention_only)[:10]"
   ]
  },
  {
   "cell_type": "code",
   "execution_count": null,
   "metadata": {
    "collapsed": false
   },
   "outputs": [],
   "source": [
    "#print(term_only)[:10]"
   ]
  },
  {
   "cell_type": "markdown",
   "metadata": {},
   "source": [
    "---"
   ]
  },
  {
   "cell_type": "markdown",
   "metadata": {},
   "source": [
    "## Bill or Neil?"
   ]
  },
  {
   "cell_type": "markdown",
   "metadata": {},
   "source": [
    "Now, do you think we can predict which tweet belong to who?"
   ]
  },
  {
   "cell_type": "code",
   "execution_count": 33,
   "metadata": {
    "collapsed": false,
    "scrolled": false
   },
   "outputs": [
    {
     "data": {
      "text/html": [
       "<div>\n",
       "<style>\n",
       "    .dataframe thead tr:only-child th {\n",
       "        text-align: right;\n",
       "    }\n",
       "\n",
       "    .dataframe thead th {\n",
       "        text-align: left;\n",
       "    }\n",
       "\n",
       "    .dataframe tbody tr th {\n",
       "        vertical-align: top;\n",
       "    }\n",
       "</style>\n",
       "<table border=\"1\" class=\"dataframe\">\n",
       "  <thead>\n",
       "    <tr style=\"text-align: right;\">\n",
       "      <th></th>\n",
       "      <th>created_at</th>\n",
       "      <th>favorite_count</th>\n",
       "      <th>handle</th>\n",
       "      <th>hashtags</th>\n",
       "      <th>mined_at</th>\n",
       "      <th>retweet_count</th>\n",
       "      <th>text</th>\n",
       "    </tr>\n",
       "  </thead>\n",
       "  <tbody>\n",
       "    <tr>\n",
       "      <th>558</th>\n",
       "      <td>Tue Oct 27 23:28:14 +0000 2015</td>\n",
       "      <td>485</td>\n",
       "      <td>Bill Nye</td>\n",
       "      <td>[]</td>\n",
       "      <td>2017-11-01 16:56:29.048337</td>\n",
       "      <td>71</td>\n",
       "      <td>Interviewing Lisa Randall tonight @92y Astroph...</td>\n",
       "    </tr>\n",
       "    <tr>\n",
       "      <th>587</th>\n",
       "      <td>Thu Oct 01 21:02:03 +0000 2015</td>\n",
       "      <td>0</td>\n",
       "      <td>Bill Nye</td>\n",
       "      <td>[{\"text\": \"ActOnClimate\"}]</td>\n",
       "      <td>2017-11-01 16:56:29.048412</td>\n",
       "      <td>834</td>\n",
       "      <td>RT @ClimateReality: It’s time to get to work. ...</td>\n",
       "    </tr>\n",
       "    <tr>\n",
       "      <th>163</th>\n",
       "      <td>Fri Jun 30 14:49:29 +0000 2017</td>\n",
       "      <td>264</td>\n",
       "      <td>Neil deGrasse Tyson</td>\n",
       "      <td>[]</td>\n",
       "      <td>2017-11-01 16:56:30.982824</td>\n",
       "      <td>18</td>\n",
       "      <td>@marctorrence Love Mitch Hedberg. (Who doesn’t...</td>\n",
       "    </tr>\n",
       "    <tr>\n",
       "      <th>165</th>\n",
       "      <td>Fri Jun 30 14:17:03 +0000 2017</td>\n",
       "      <td>574</td>\n",
       "      <td>Neil deGrasse Tyson</td>\n",
       "      <td>[]</td>\n",
       "      <td>2017-11-01 16:56:30.982828</td>\n",
       "      <td>30</td>\n",
       "      <td>@aafu123 Thanks for asking.  Coming shortly.  ...</td>\n",
       "    </tr>\n",
       "    <tr>\n",
       "      <th>82</th>\n",
       "      <td>Sat Aug 26 14:46:59 +0000 2017</td>\n",
       "      <td>5782</td>\n",
       "      <td>Neil deGrasse Tyson</td>\n",
       "      <td>[]</td>\n",
       "      <td>2017-11-01 16:56:30.982647</td>\n",
       "      <td>190</td>\n",
       "      <td>@croakey88 Cool. My voice might even do it fas...</td>\n",
       "    </tr>\n",
       "  </tbody>\n",
       "</table>\n",
       "</div>"
      ],
      "text/plain": [
       "                         created_at  favorite_count               handle  \\\n",
       "558  Tue Oct 27 23:28:14 +0000 2015             485             Bill Nye   \n",
       "587  Thu Oct 01 21:02:03 +0000 2015               0             Bill Nye   \n",
       "163  Fri Jun 30 14:49:29 +0000 2017             264  Neil deGrasse Tyson   \n",
       "165  Fri Jun 30 14:17:03 +0000 2017             574  Neil deGrasse Tyson   \n",
       "82   Sat Aug 26 14:46:59 +0000 2017            5782  Neil deGrasse Tyson   \n",
       "\n",
       "                       hashtags                   mined_at  retweet_count  \\\n",
       "558                          [] 2017-11-01 16:56:29.048337             71   \n",
       "587  [{\"text\": \"ActOnClimate\"}] 2017-11-01 16:56:29.048412            834   \n",
       "163                          [] 2017-11-01 16:56:30.982824             18   \n",
       "165                          [] 2017-11-01 16:56:30.982828             30   \n",
       "82                           [] 2017-11-01 16:56:30.982647            190   \n",
       "\n",
       "                                                  text  \n",
       "558  Interviewing Lisa Randall tonight @92y Astroph...  \n",
       "587  RT @ClimateReality: It’s time to get to work. ...  \n",
       "163  @marctorrence Love Mitch Hedberg. (Who doesn’t...  \n",
       "165  @aafu123 Thanks for asking.  Coming shortly.  ...  \n",
       "82   @croakey88 Cool. My voice might even do it fas...  "
      ]
     },
     "execution_count": 33,
     "metadata": {},
     "output_type": "execute_result"
    }
   ],
   "source": [
    "# combine the two user twitter datasets together\n",
    "\n",
    "data = pd.concat([bill_df, neil_df])\n",
    "data.sample(5)"
   ]
  },
  {
   "cell_type": "code",
   "execution_count": 34,
   "metadata": {
    "collapsed": false
   },
   "outputs": [
    {
     "data": {
      "text/html": [
       "<div>\n",
       "<style>\n",
       "    .dataframe thead tr:only-child th {\n",
       "        text-align: right;\n",
       "    }\n",
       "\n",
       "    .dataframe thead th {\n",
       "        text-align: left;\n",
       "    }\n",
       "\n",
       "    .dataframe tbody tr th {\n",
       "        vertical-align: top;\n",
       "    }\n",
       "</style>\n",
       "<table border=\"1\" class=\"dataframe\">\n",
       "  <thead>\n",
       "    <tr style=\"text-align: right;\">\n",
       "      <th></th>\n",
       "      <th>created_at</th>\n",
       "      <th>favorite_count</th>\n",
       "      <th>handle</th>\n",
       "      <th>hashtags</th>\n",
       "      <th>mined_at</th>\n",
       "      <th>retweet_count</th>\n",
       "      <th>text</th>\n",
       "      <th>user_encoder</th>\n",
       "    </tr>\n",
       "  </thead>\n",
       "  <tbody>\n",
       "    <tr>\n",
       "      <th>835</th>\n",
       "      <td>Sun Mar 22 15:56:45 +0000 2015</td>\n",
       "      <td>2722</td>\n",
       "      <td>Bill Nye</td>\n",
       "      <td>[]</td>\n",
       "      <td>2017-11-01 16:56:30.353485</td>\n",
       "      <td>660</td>\n",
       "      <td>Good morning- coffee rocketeers http://t.co/0M...</td>\n",
       "      <td>0</td>\n",
       "    </tr>\n",
       "    <tr>\n",
       "      <th>756</th>\n",
       "      <td>Wed May 20 13:48:10 +0000 2015</td>\n",
       "      <td>506</td>\n",
       "      <td>Bill Nye</td>\n",
       "      <td>[{\"text\": \"LightSail\"}]</td>\n",
       "      <td>2017-11-01 16:56:29.757928</td>\n",
       "      <td>138</td>\n",
       "      <td>We are GO! Weather always the question. Stand ...</td>\n",
       "      <td>0</td>\n",
       "    </tr>\n",
       "    <tr>\n",
       "      <th>182</th>\n",
       "      <td>Thu Feb 02 20:56:11 +0000 2017</td>\n",
       "      <td>3129</td>\n",
       "      <td>Bill Nye</td>\n",
       "      <td>[]</td>\n",
       "      <td>2017-11-01 16:56:28.124050</td>\n",
       "      <td>380</td>\n",
       "      <td>Call me anytime! https://t.co/VrE8DC8ORs</td>\n",
       "      <td>0</td>\n",
       "    </tr>\n",
       "    <tr>\n",
       "      <th>96</th>\n",
       "      <td>Sun Aug 20 03:35:31 +0000 2017</td>\n",
       "      <td>1817</td>\n",
       "      <td>Neil deGrasse Tyson</td>\n",
       "      <td>[]</td>\n",
       "      <td>2017-11-01 16:56:30.982684</td>\n",
       "      <td>452</td>\n",
       "      <td>JUST POSTED: @StarTalkRadio CosmicQueries \"Gre...</td>\n",
       "      <td>1</td>\n",
       "    </tr>\n",
       "    <tr>\n",
       "      <th>43</th>\n",
       "      <td>Fri Sep 22 16:50:03 +0000 2017</td>\n",
       "      <td>154</td>\n",
       "      <td>Neil deGrasse Tyson</td>\n",
       "      <td>[]</td>\n",
       "      <td>2017-11-01 16:56:30.982534</td>\n",
       "      <td>2</td>\n",
       "      <td>@InspiraExspira Indeed. And as I understand it...</td>\n",
       "      <td>1</td>\n",
       "    </tr>\n",
       "  </tbody>\n",
       "</table>\n",
       "</div>"
      ],
      "text/plain": [
       "                         created_at  favorite_count               handle  \\\n",
       "835  Sun Mar 22 15:56:45 +0000 2015            2722             Bill Nye   \n",
       "756  Wed May 20 13:48:10 +0000 2015             506             Bill Nye   \n",
       "182  Thu Feb 02 20:56:11 +0000 2017            3129             Bill Nye   \n",
       "96   Sun Aug 20 03:35:31 +0000 2017            1817  Neil deGrasse Tyson   \n",
       "43   Fri Sep 22 16:50:03 +0000 2017             154  Neil deGrasse Tyson   \n",
       "\n",
       "                    hashtags                   mined_at  retweet_count  \\\n",
       "835                       [] 2017-11-01 16:56:30.353485            660   \n",
       "756  [{\"text\": \"LightSail\"}] 2017-11-01 16:56:29.757928            138   \n",
       "182                       [] 2017-11-01 16:56:28.124050            380   \n",
       "96                        [] 2017-11-01 16:56:30.982684            452   \n",
       "43                        [] 2017-11-01 16:56:30.982534              2   \n",
       "\n",
       "                                                  text  user_encoder  \n",
       "835  Good morning- coffee rocketeers http://t.co/0M...             0  \n",
       "756  We are GO! Weather always the question. Stand ...             0  \n",
       "182           Call me anytime! https://t.co/VrE8DC8ORs             0  \n",
       "96   JUST POSTED: @StarTalkRadio CosmicQueries \"Gre...             1  \n",
       "43   @InspiraExspira Indeed. And as I understand it...             1  "
      ]
     },
     "execution_count": 34,
     "metadata": {},
     "output_type": "execute_result"
    }
   ],
   "source": [
    "#label the two users.\n",
    "\n",
    "data['user_encoder'] = data['handle'].map({'Bill Nye': 0, 'Neil deGrasse Tyson': 1})\n",
    "data.sample(5)\n"
   ]
  },
  {
   "cell_type": "code",
   "execution_count": 35,
   "metadata": {
    "collapsed": true
   },
   "outputs": [],
   "source": [
    "# Define independent & dependent variable.\n",
    "# In this case, the independent variable is the twitter text. The dependent variable would be the user_label.\n",
    "\n",
    "X = data['text']\n",
    "y = data['user_label'].values"
   ]
  },
  {
   "cell_type": "code",
   "execution_count": 36,
   "metadata": {
    "collapsed": false
   },
   "outputs": [],
   "source": [
    "# Splitting the dataset into the Training set and Test set.\n",
    "# Since the dataset has 2000 tweets, I user 90% for training and 10% for testing.\n",
    "\n",
    "from sklearn.model_selection import train_test_split\n",
    "X_train, X_test, y_train, y_test = train_test_split(X, y, test_size = 0.1)"
   ]
  },
  {
   "cell_type": "markdown",
   "metadata": {},
   "source": [
    "#### Since we are training a computer to learn words and computer only understands numbers, we must convert the tweets into numbers. This process is called vertorization or Bag of Words.\n",
    "#### skit-learn has a few packges that can perform this task. The most commone ones are CountVectorizer,  HashingVectorizer, and TfidfVectorizer. \n",
    "#### In this case, I am using CountVectorizer to create Bag of Words. CountVectorizer turns a collection of words into numbers and counts the occurrence of each word appear in the twitter dataset.\n",
    "#### When the tweets are vectorized, they are being transformed into a document-term matrix, short for dtm. Each word (term) will be treated as an independent variable.\n",
    "\n"
   ]
  },
  {
   "cell_type": "code",
   "execution_count": 37,
   "metadata": {
    "collapsed": false
   },
   "outputs": [
    {
     "data": {
      "text/plain": [
       "CountVectorizer(analyzer=u'word', binary=False, decode_error=u'strict',\n",
       "        dtype=<type 'numpy.int64'>, encoding=u'utf-8', input=u'content',\n",
       "        lowercase=True, max_df=1.0, max_features=1500, min_df=1,\n",
       "        ngram_range=(1, 1), preprocessor=None, stop_words=None,\n",
       "        strip_accents=None, token_pattern=u'(?u)\\\\b\\\\w\\\\w+\\\\b',\n",
       "        tokenizer=None, vocabulary=None)"
      ]
     },
     "execution_count": 37,
     "metadata": {},
     "output_type": "execute_result"
    }
   ],
   "source": [
    "# Create the Bag of Words model\n",
    "from sklearn.feature_extraction.text import CountVectorizer\n",
    "\n",
    "# Once the corpus is being vectorized and each individual word transfomred into a feature,\n",
    "# there will be thousands of features. We may just want to use the the most common 1500 words (features)\n",
    "\n",
    "vect = CountVectorizer(max_features = 1500)\n",
    "\n",
    "# First fit the corpus\n",
    "vect.fit(X_train)"
   ]
  },
  {
   "cell_type": "code",
   "execution_count": 71,
   "metadata": {
    "collapsed": false,
    "scrolled": false
   },
   "outputs": [
    {
     "name": "stdout",
     "output_type": "stream",
     "text": [
      "[u'00', u'10', u'10th', u'12', u'14', u'16', u'19', u'1989', u'1st', u'2014', u'2016', u'21', u'24', u'26', u'28', u'2nd', u'30c', u'34', u'3pm', u'40', u'50', u'6bv5id4vqh', u'8clu8h6rri', u'able', u'above']\n"
     ]
    }
   ],
   "source": [
    "print (vect.get_feature_names()[:50:2])"
   ]
  },
  {
   "cell_type": "code",
   "execution_count": 39,
   "metadata": {
    "collapsed": false,
    "scrolled": true
   },
   "outputs": [
    {
     "data": {
      "text/plain": [
       "<1800x1500 sparse matrix of type '<type 'numpy.int64'>'\n",
       "\twith 21853 stored elements in Compressed Sparse Row format>"
      ]
     },
     "execution_count": 39,
     "metadata": {},
     "output_type": "execute_result"
    }
   ],
   "source": [
    "# Then transform the training independent dataset into document term matrix. I called it X_train_dtm\n",
    "\n",
    "X_train_dtm = vect.transform(X_train)\n",
    "X_train_dtm"
   ]
  },
  {
   "cell_type": "code",
   "execution_count": 40,
   "metadata": {
    "collapsed": false
   },
   "outputs": [
    {
     "data": {
      "text/plain": [
       "array([[0, 0, 0, ..., 0, 0, 0],\n",
       "       [0, 0, 0, ..., 0, 0, 0],\n",
       "       [0, 1, 0, ..., 0, 0, 0],\n",
       "       ..., \n",
       "       [0, 0, 0, ..., 0, 0, 0],\n",
       "       [0, 0, 0, ..., 0, 0, 0],\n",
       "       [0, 0, 0, ..., 0, 0, 0]])"
      ]
     },
     "execution_count": 40,
     "metadata": {},
     "output_type": "execute_result"
    }
   ],
   "source": [
    "X_train_dtm = X_train_dtm.toarray()\n",
    "X_train_dtm"
   ]
  },
  {
   "cell_type": "code",
   "execution_count": 41,
   "metadata": {
    "collapsed": false,
    "scrolled": true
   },
   "outputs": [
    {
     "data": {
      "text/html": [
       "<div>\n",
       "<style>\n",
       "    .dataframe thead tr:only-child th {\n",
       "        text-align: right;\n",
       "    }\n",
       "\n",
       "    .dataframe thead th {\n",
       "        text-align: left;\n",
       "    }\n",
       "\n",
       "    .dataframe tbody tr th {\n",
       "        vertical-align: top;\n",
       "    }\n",
       "</style>\n",
       "<table border=\"1\" class=\"dataframe\">\n",
       "  <thead>\n",
       "    <tr style=\"text-align: right;\">\n",
       "      <th></th>\n",
       "      <th>00</th>\n",
       "      <th>000</th>\n",
       "      <th>10</th>\n",
       "      <th>100</th>\n",
       "      <th>10th</th>\n",
       "      <th>11</th>\n",
       "      <th>12</th>\n",
       "      <th>13</th>\n",
       "      <th>14</th>\n",
       "      <th>15</th>\n",
       "      <th>...</th>\n",
       "      <th>you</th>\n",
       "      <th>young</th>\n",
       "      <th>your</th>\n",
       "      <th>yours</th>\n",
       "      <th>yourself</th>\n",
       "      <th>yrs</th>\n",
       "      <th>yup</th>\n",
       "      <th>yuuup</th>\n",
       "      <th>zeitgeistfilm</th>\n",
       "      <th>zero</th>\n",
       "    </tr>\n",
       "  </thead>\n",
       "  <tbody>\n",
       "    <tr>\n",
       "      <th>0</th>\n",
       "      <td>0</td>\n",
       "      <td>0</td>\n",
       "      <td>0</td>\n",
       "      <td>0</td>\n",
       "      <td>0</td>\n",
       "      <td>0</td>\n",
       "      <td>0</td>\n",
       "      <td>0</td>\n",
       "      <td>0</td>\n",
       "      <td>0</td>\n",
       "      <td>...</td>\n",
       "      <td>0</td>\n",
       "      <td>0</td>\n",
       "      <td>0</td>\n",
       "      <td>0</td>\n",
       "      <td>0</td>\n",
       "      <td>0</td>\n",
       "      <td>0</td>\n",
       "      <td>0</td>\n",
       "      <td>0</td>\n",
       "      <td>0</td>\n",
       "    </tr>\n",
       "    <tr>\n",
       "      <th>1</th>\n",
       "      <td>0</td>\n",
       "      <td>0</td>\n",
       "      <td>0</td>\n",
       "      <td>0</td>\n",
       "      <td>0</td>\n",
       "      <td>0</td>\n",
       "      <td>0</td>\n",
       "      <td>0</td>\n",
       "      <td>0</td>\n",
       "      <td>0</td>\n",
       "      <td>...</td>\n",
       "      <td>0</td>\n",
       "      <td>0</td>\n",
       "      <td>0</td>\n",
       "      <td>0</td>\n",
       "      <td>0</td>\n",
       "      <td>0</td>\n",
       "      <td>0</td>\n",
       "      <td>0</td>\n",
       "      <td>0</td>\n",
       "      <td>0</td>\n",
       "    </tr>\n",
       "    <tr>\n",
       "      <th>2</th>\n",
       "      <td>0</td>\n",
       "      <td>1</td>\n",
       "      <td>0</td>\n",
       "      <td>0</td>\n",
       "      <td>0</td>\n",
       "      <td>0</td>\n",
       "      <td>0</td>\n",
       "      <td>0</td>\n",
       "      <td>0</td>\n",
       "      <td>0</td>\n",
       "      <td>...</td>\n",
       "      <td>0</td>\n",
       "      <td>0</td>\n",
       "      <td>1</td>\n",
       "      <td>0</td>\n",
       "      <td>0</td>\n",
       "      <td>0</td>\n",
       "      <td>0</td>\n",
       "      <td>0</td>\n",
       "      <td>0</td>\n",
       "      <td>0</td>\n",
       "    </tr>\n",
       "    <tr>\n",
       "      <th>3</th>\n",
       "      <td>0</td>\n",
       "      <td>0</td>\n",
       "      <td>0</td>\n",
       "      <td>0</td>\n",
       "      <td>0</td>\n",
       "      <td>0</td>\n",
       "      <td>0</td>\n",
       "      <td>0</td>\n",
       "      <td>0</td>\n",
       "      <td>0</td>\n",
       "      <td>...</td>\n",
       "      <td>0</td>\n",
       "      <td>0</td>\n",
       "      <td>0</td>\n",
       "      <td>0</td>\n",
       "      <td>0</td>\n",
       "      <td>0</td>\n",
       "      <td>0</td>\n",
       "      <td>0</td>\n",
       "      <td>0</td>\n",
       "      <td>0</td>\n",
       "    </tr>\n",
       "    <tr>\n",
       "      <th>4</th>\n",
       "      <td>0</td>\n",
       "      <td>0</td>\n",
       "      <td>1</td>\n",
       "      <td>0</td>\n",
       "      <td>0</td>\n",
       "      <td>0</td>\n",
       "      <td>0</td>\n",
       "      <td>0</td>\n",
       "      <td>0</td>\n",
       "      <td>0</td>\n",
       "      <td>...</td>\n",
       "      <td>0</td>\n",
       "      <td>0</td>\n",
       "      <td>0</td>\n",
       "      <td>0</td>\n",
       "      <td>0</td>\n",
       "      <td>0</td>\n",
       "      <td>0</td>\n",
       "      <td>0</td>\n",
       "      <td>0</td>\n",
       "      <td>0</td>\n",
       "    </tr>\n",
       "  </tbody>\n",
       "</table>\n",
       "<p>5 rows × 1500 columns</p>\n",
       "</div>"
      ],
      "text/plain": [
       "   00  000  10  100  10th  11  12  13  14  15  ...   you  young  your  yours  \\\n",
       "0   0    0   0    0     0   0   0   0   0   0  ...     0      0     0      0   \n",
       "1   0    0   0    0     0   0   0   0   0   0  ...     0      0     0      0   \n",
       "2   0    1   0    0     0   0   0   0   0   0  ...     0      0     1      0   \n",
       "3   0    0   0    0     0   0   0   0   0   0  ...     0      0     0      0   \n",
       "4   0    0   1    0     0   0   0   0   0   0  ...     0      0     0      0   \n",
       "\n",
       "   yourself  yrs  yup  yuuup  zeitgeistfilm  zero  \n",
       "0         0    0    0      0              0     0  \n",
       "1         0    0    0      0              0     0  \n",
       "2         0    0    0      0              0     0  \n",
       "3         0    0    0      0              0     0  \n",
       "4         0    0    0      0              0     0  \n",
       "\n",
       "[5 rows x 1500 columns]"
      ]
     },
     "execution_count": 41,
     "metadata": {},
     "output_type": "execute_result"
    }
   ],
   "source": [
    "# Take a look at how the corpus being vectorized. \n",
    "\n",
    "pd.DataFrame(X_train_dtm, columns = vect.get_feature_names()).head()"
   ]
  },
  {
   "cell_type": "markdown",
   "metadata": {},
   "source": [
    "#### As you can see, the vectorization process turns each individual word into a feature. \n",
    "#### Most people typically use a very small subset of words frequently. This resulting matrix will have many feature values that are zeros (99% of them).\n",
    "#### For example, the collection of these 2000 tweets may contain 10,000 unique words in total. Each tweet usually use less than 20 unique words. Twitter only allows you to less than 140 characters anyway. \n",
    "#### Choosing 1500 words (features) should be sufficient.\n"
   ]
  },
  {
   "cell_type": "markdown",
   "metadata": {},
   "source": [
    "## Model Selection"
   ]
  },
  {
   "cell_type": "markdown",
   "metadata": {},
   "source": [
    "### 1) Gaussian Naive Bayes"
   ]
  },
  {
   "cell_type": "markdown",
   "metadata": {},
   "source": [
    "One of the most common algorithms for classifier prediction on Natural Language Processing is Gaussian Naive Bayes. This algorithm is based on Baynes Theorem, conditional probability. In this case, we are trying to find out the likelihood of a tweet from either Bill or Neil given the features(the words)."
   ]
  },
  {
   "cell_type": "code",
   "execution_count": 42,
   "metadata": {
    "collapsed": false
   },
   "outputs": [
    {
     "data": {
      "text/plain": [
       "GaussianNB(priors=None)"
      ]
     },
     "execution_count": 42,
     "metadata": {},
     "output_type": "execute_result"
    }
   ],
   "source": [
    "from sklearn.naive_bayes import GaussianNB\n",
    "gaunb = GaussianNB()\n",
    "gaunb.fit(X_train_dtm, y_train )"
   ]
  },
  {
   "cell_type": "code",
   "execution_count": 43,
   "metadata": {
    "collapsed": false
   },
   "outputs": [
    {
     "data": {
      "text/plain": [
       "array([[0, 0, 0, ..., 0, 0, 0],\n",
       "       [0, 0, 0, ..., 0, 0, 0],\n",
       "       [0, 0, 0, ..., 0, 0, 0],\n",
       "       ..., \n",
       "       [0, 0, 0, ..., 0, 0, 0],\n",
       "       [0, 0, 0, ..., 0, 0, 0],\n",
       "       [0, 0, 0, ..., 0, 0, 0]])"
      ]
     },
     "execution_count": 43,
     "metadata": {},
     "output_type": "execute_result"
    }
   ],
   "source": [
    "# In order to make a prediction, the test tweets must have the same features as \n",
    "# the training tweets, both in number and meaning. \n",
    "# Therefore, we also need to transform the X_test tweets into document-term matrix.\n",
    "\n",
    "X_test_dtm = vect.transform(X_test)\n",
    "X_test_dtm = X_test_dtm.toarray()\n",
    "X_test_dtm\n"
   ]
  },
  {
   "cell_type": "code",
   "execution_count": 79,
   "metadata": {
    "collapsed": false,
    "scrolled": true
   },
   "outputs": [
    {
     "data": {
      "text/html": [
       "<div>\n",
       "<style>\n",
       "    .dataframe thead tr:only-child th {\n",
       "        text-align: right;\n",
       "    }\n",
       "\n",
       "    .dataframe thead th {\n",
       "        text-align: left;\n",
       "    }\n",
       "\n",
       "    .dataframe tbody tr th {\n",
       "        vertical-align: top;\n",
       "    }\n",
       "</style>\n",
       "<table border=\"1\" class=\"dataframe\">\n",
       "  <thead>\n",
       "    <tr style=\"text-align: right;\">\n",
       "      <th></th>\n",
       "      <th>00</th>\n",
       "      <th>000</th>\n",
       "      <th>10</th>\n",
       "      <th>100</th>\n",
       "      <th>10th</th>\n",
       "      <th>11</th>\n",
       "      <th>12</th>\n",
       "      <th>13</th>\n",
       "      <th>14</th>\n",
       "      <th>15</th>\n",
       "      <th>...</th>\n",
       "      <th>you</th>\n",
       "      <th>young</th>\n",
       "      <th>your</th>\n",
       "      <th>yours</th>\n",
       "      <th>yourself</th>\n",
       "      <th>yrs</th>\n",
       "      <th>yup</th>\n",
       "      <th>yuuup</th>\n",
       "      <th>zeitgeistfilm</th>\n",
       "      <th>zero</th>\n",
       "    </tr>\n",
       "  </thead>\n",
       "  <tbody>\n",
       "    <tr>\n",
       "      <th>0</th>\n",
       "      <td>0</td>\n",
       "      <td>0</td>\n",
       "      <td>0</td>\n",
       "      <td>0</td>\n",
       "      <td>0</td>\n",
       "      <td>0</td>\n",
       "      <td>0</td>\n",
       "      <td>0</td>\n",
       "      <td>0</td>\n",
       "      <td>0</td>\n",
       "      <td>...</td>\n",
       "      <td>0</td>\n",
       "      <td>0</td>\n",
       "      <td>0</td>\n",
       "      <td>0</td>\n",
       "      <td>0</td>\n",
       "      <td>0</td>\n",
       "      <td>0</td>\n",
       "      <td>0</td>\n",
       "      <td>0</td>\n",
       "      <td>0</td>\n",
       "    </tr>\n",
       "    <tr>\n",
       "      <th>1</th>\n",
       "      <td>0</td>\n",
       "      <td>0</td>\n",
       "      <td>0</td>\n",
       "      <td>0</td>\n",
       "      <td>0</td>\n",
       "      <td>0</td>\n",
       "      <td>0</td>\n",
       "      <td>0</td>\n",
       "      <td>0</td>\n",
       "      <td>0</td>\n",
       "      <td>...</td>\n",
       "      <td>0</td>\n",
       "      <td>0</td>\n",
       "      <td>0</td>\n",
       "      <td>0</td>\n",
       "      <td>0</td>\n",
       "      <td>0</td>\n",
       "      <td>0</td>\n",
       "      <td>0</td>\n",
       "      <td>0</td>\n",
       "      <td>0</td>\n",
       "    </tr>\n",
       "    <tr>\n",
       "      <th>2</th>\n",
       "      <td>0</td>\n",
       "      <td>0</td>\n",
       "      <td>0</td>\n",
       "      <td>0</td>\n",
       "      <td>0</td>\n",
       "      <td>0</td>\n",
       "      <td>0</td>\n",
       "      <td>0</td>\n",
       "      <td>0</td>\n",
       "      <td>0</td>\n",
       "      <td>...</td>\n",
       "      <td>0</td>\n",
       "      <td>0</td>\n",
       "      <td>1</td>\n",
       "      <td>0</td>\n",
       "      <td>1</td>\n",
       "      <td>0</td>\n",
       "      <td>0</td>\n",
       "      <td>0</td>\n",
       "      <td>0</td>\n",
       "      <td>0</td>\n",
       "    </tr>\n",
       "    <tr>\n",
       "      <th>3</th>\n",
       "      <td>0</td>\n",
       "      <td>0</td>\n",
       "      <td>0</td>\n",
       "      <td>0</td>\n",
       "      <td>0</td>\n",
       "      <td>0</td>\n",
       "      <td>0</td>\n",
       "      <td>0</td>\n",
       "      <td>0</td>\n",
       "      <td>0</td>\n",
       "      <td>...</td>\n",
       "      <td>0</td>\n",
       "      <td>0</td>\n",
       "      <td>0</td>\n",
       "      <td>0</td>\n",
       "      <td>0</td>\n",
       "      <td>0</td>\n",
       "      <td>0</td>\n",
       "      <td>0</td>\n",
       "      <td>0</td>\n",
       "      <td>0</td>\n",
       "    </tr>\n",
       "    <tr>\n",
       "      <th>4</th>\n",
       "      <td>0</td>\n",
       "      <td>0</td>\n",
       "      <td>0</td>\n",
       "      <td>0</td>\n",
       "      <td>0</td>\n",
       "      <td>0</td>\n",
       "      <td>0</td>\n",
       "      <td>0</td>\n",
       "      <td>0</td>\n",
       "      <td>0</td>\n",
       "      <td>...</td>\n",
       "      <td>0</td>\n",
       "      <td>0</td>\n",
       "      <td>0</td>\n",
       "      <td>0</td>\n",
       "      <td>0</td>\n",
       "      <td>0</td>\n",
       "      <td>0</td>\n",
       "      <td>0</td>\n",
       "      <td>0</td>\n",
       "      <td>0</td>\n",
       "    </tr>\n",
       "  </tbody>\n",
       "</table>\n",
       "<p>5 rows × 1500 columns</p>\n",
       "</div>"
      ],
      "text/plain": [
       "   00  000  10  100  10th  11  12  13  14  15  ...   you  young  your  yours  \\\n",
       "0   0    0   0    0     0   0   0   0   0   0  ...     0      0     0      0   \n",
       "1   0    0   0    0     0   0   0   0   0   0  ...     0      0     0      0   \n",
       "2   0    0   0    0     0   0   0   0   0   0  ...     0      0     1      0   \n",
       "3   0    0   0    0     0   0   0   0   0   0  ...     0      0     0      0   \n",
       "4   0    0   0    0     0   0   0   0   0   0  ...     0      0     0      0   \n",
       "\n",
       "   yourself  yrs  yup  yuuup  zeitgeistfilm  zero  \n",
       "0         0    0    0      0              0     0  \n",
       "1         0    0    0      0              0     0  \n",
       "2         1    0    0      0              0     0  \n",
       "3         0    0    0      0              0     0  \n",
       "4         0    0    0      0              0     0  \n",
       "\n",
       "[5 rows x 1500 columns]"
      ]
     },
     "execution_count": 79,
     "metadata": {},
     "output_type": "execute_result"
    }
   ],
   "source": [
    "pd.DataFrame(X_test_dtm, columns = vect.get_feature_names()).head()"
   ]
  },
  {
   "cell_type": "code",
   "execution_count": 80,
   "metadata": {
    "collapsed": true
   },
   "outputs": [],
   "source": [
    "# make predictions\n",
    "\n",
    "y_pred_gaunb = gaunb.predict(X_test_dtm)"
   ]
  },
  {
   "cell_type": "code",
   "execution_count": 81,
   "metadata": {
    "collapsed": false
   },
   "outputs": [
    {
     "data": {
      "text/plain": [
       "0.85499999999999998"
      ]
     },
     "execution_count": 81,
     "metadata": {},
     "output_type": "execute_result"
    }
   ],
   "source": [
    "# OK, now let's see how accurate the predictions are\n",
    "\n",
    "from sklearn import metrics\n",
    "\n",
    "metrics.accuracy_score(y_test, y_pred_gaunb)"
   ]
  },
  {
   "cell_type": "markdown",
   "metadata": {},
   "source": [
    "#### 85% accuracy.  That's not bad. \n",
    "#### Let's look at the confusion matrix to find out the actual and predictions"
   ]
  },
  {
   "cell_type": "code",
   "execution_count": 82,
   "metadata": {
    "collapsed": false
   },
   "outputs": [
    {
     "data": {
      "text/html": [
       "<div>\n",
       "<style>\n",
       "    .dataframe thead tr:only-child th {\n",
       "        text-align: right;\n",
       "    }\n",
       "\n",
       "    .dataframe thead th {\n",
       "        text-align: left;\n",
       "    }\n",
       "\n",
       "    .dataframe tbody tr th {\n",
       "        vertical-align: top;\n",
       "    }\n",
       "</style>\n",
       "<table border=\"1\" class=\"dataframe\">\n",
       "  <thead>\n",
       "    <tr style=\"text-align: right;\">\n",
       "      <th></th>\n",
       "      <th>Predicted: Bill</th>\n",
       "      <th>Predicted: Neil</th>\n",
       "    </tr>\n",
       "  </thead>\n",
       "  <tbody>\n",
       "    <tr>\n",
       "      <th>Actual: Bill</th>\n",
       "      <td>103</td>\n",
       "      <td>6</td>\n",
       "    </tr>\n",
       "    <tr>\n",
       "      <th>Actual: Neil</th>\n",
       "      <td>23</td>\n",
       "      <td>68</td>\n",
       "    </tr>\n",
       "  </tbody>\n",
       "</table>\n",
       "</div>"
      ],
      "text/plain": [
       "              Predicted: Bill  Predicted: Neil\n",
       "Actual: Bill              103                6\n",
       "Actual: Neil               23               68"
      ]
     },
     "execution_count": 82,
     "metadata": {},
     "output_type": "execute_result"
    }
   ],
   "source": [
    "confusion_gaunb = metrics.confusion_matrix(y_test, y_pred_gaunb)\n",
    "confusion_matrix_gaunb = pd.DataFrame(confusion_gaunb, index = ['Actual: Bill', 'Actual: Neil'],\n",
    "                               columns = ['Predicted: Bill', 'Predicted: Neil'])\n",
    "confusion_matrix_gaunb"
   ]
  },
  {
   "cell_type": "markdown",
   "metadata": {},
   "source": [
    "#### Out of 200 tweets, 171 tweets are predicted accurately.\n",
    "#### 23 Neil's tweets incorrectly identified as Bill's. 6 Bill's tweets incorrectly identified as Neil's. \n",
    "\n",
    "#### Let's see which tweets were incorrectly identified. "
   ]
  },
  {
   "cell_type": "code",
   "execution_count": 47,
   "metadata": {
    "collapsed": false
   },
   "outputs": [
    {
     "data": {
      "text/html": [
       "<div>\n",
       "<style>\n",
       "    .dataframe thead tr:only-child th {\n",
       "        text-align: right;\n",
       "    }\n",
       "\n",
       "    .dataframe thead th {\n",
       "        text-align: left;\n",
       "    }\n",
       "\n",
       "    .dataframe tbody tr th {\n",
       "        vertical-align: top;\n",
       "    }\n",
       "</style>\n",
       "<table border=\"1\" class=\"dataframe\">\n",
       "  <thead>\n",
       "    <tr style=\"text-align: right;\">\n",
       "      <th></th>\n",
       "      <th>text</th>\n",
       "    </tr>\n",
       "  </thead>\n",
       "  <tbody>\n",
       "    <tr>\n",
       "      <th>387</th>\n",
       "      <td>@BigJoeBastardi Hides or masks climate change ...</td>\n",
       "    </tr>\n",
       "    <tr>\n",
       "      <th>879</th>\n",
       "      <td>Wonder if Brady has trouble controlling the fu...</td>\n",
       "    </tr>\n",
       "    <tr>\n",
       "      <th>875</th>\n",
       "      <td>Thoughtless politicians saying @GetVaccinated ...</td>\n",
       "    </tr>\n",
       "    <tr>\n",
       "      <th>687</th>\n",
       "      <td>Flying By that Pluto! http://t.co/QItRUmqeRB</td>\n",
       "    </tr>\n",
       "    <tr>\n",
       "      <th>765</th>\n",
       "      <td>BB King is gone, but his blues live on. Someho...</td>\n",
       "    </tr>\n",
       "    <tr>\n",
       "      <th>466</th>\n",
       "      <td>Lots (of lots) of reasons to celebrate!  https...</td>\n",
       "    </tr>\n",
       "  </tbody>\n",
       "</table>\n",
       "</div>"
      ],
      "text/plain": [
       "                                                  text\n",
       "387  @BigJoeBastardi Hides or masks climate change ...\n",
       "879  Wonder if Brady has trouble controlling the fu...\n",
       "875  Thoughtless politicians saying @GetVaccinated ...\n",
       "687       Flying By that Pluto! http://t.co/QItRUmqeRB\n",
       "765  BB King is gone, but his blues live on. Someho...\n",
       "466  Lots (of lots) of reasons to celebrate!  https..."
      ]
     },
     "execution_count": 47,
     "metadata": {},
     "output_type": "execute_result"
    }
   ],
   "source": [
    "# Refer to the user label, 0 is Bill and 1 is Neil.\n",
    "# Check Bill's tweets incorrectly identified as Neil's\n",
    "# If the label in y_test is 0 and y_pred is 1, this means the Bill's tweets are incorrectly identified as Neil's. \n",
    "\n",
    "incorrect_bill_prediction = pd.DataFrame(X_test[y_test < y_pred_gaunb])\n",
    "incorrect_bill_prediction"
   ]
  },
  {
   "cell_type": "markdown",
   "metadata": {},
   "source": [
    "Both Bill and Neil tweet about climate change and cosmos a lot. These tweets here also sound like Neil's. "
   ]
  },
  {
   "cell_type": "code",
   "execution_count": 48,
   "metadata": {
    "collapsed": false
   },
   "outputs": [
    {
     "data": {
      "text/html": [
       "<div>\n",
       "<style>\n",
       "    .dataframe thead tr:only-child th {\n",
       "        text-align: right;\n",
       "    }\n",
       "\n",
       "    .dataframe thead th {\n",
       "        text-align: left;\n",
       "    }\n",
       "\n",
       "    .dataframe tbody tr th {\n",
       "        vertical-align: top;\n",
       "    }\n",
       "</style>\n",
       "<table border=\"1\" class=\"dataframe\">\n",
       "  <thead>\n",
       "    <tr style=\"text-align: right;\">\n",
       "      <th></th>\n",
       "      <th>text</th>\n",
       "    </tr>\n",
       "  </thead>\n",
       "  <tbody>\n",
       "    <tr>\n",
       "      <th>867</th>\n",
       "      <td>@mandaYoho @mcnees Inventive revisionist think...</td>\n",
       "    </tr>\n",
       "    <tr>\n",
       "      <th>834</th>\n",
       "      <td>A Cinematic Hypothesis:  The more Film Festiva...</td>\n",
       "    </tr>\n",
       "    <tr>\n",
       "      <th>630</th>\n",
       "      <td>Met @NBCSNL’s @JayPharoah in flight. Reminder ...</td>\n",
       "    </tr>\n",
       "    <tr>\n",
       "      <th>285</th>\n",
       "      <td>During the first years of their lives, we teac...</td>\n",
       "    </tr>\n",
       "    <tr>\n",
       "      <th>823</th>\n",
       "      <td>@bobgourley Thanks for the poke. My arguments ...</td>\n",
       "    </tr>\n",
       "  </tbody>\n",
       "</table>\n",
       "</div>"
      ],
      "text/plain": [
       "                                                  text\n",
       "867  @mandaYoho @mcnees Inventive revisionist think...\n",
       "834  A Cinematic Hypothesis:  The more Film Festiva...\n",
       "630  Met @NBCSNL’s @JayPharoah in flight. Reminder ...\n",
       "285  During the first years of their lives, we teac...\n",
       "823  @bobgourley Thanks for the poke. My arguments ..."
      ]
     },
     "execution_count": 48,
     "metadata": {},
     "output_type": "execute_result"
    }
   ],
   "source": [
    "# Check Neil's tweets incorrectly identified as Bill's\n",
    "# Similary, iff the label in y_test is 1 and y_pred is 0, this means the Neil's tweets are incorrectly \n",
    "# identified as Bill's. \n",
    "\n",
    "incorrect_neil_prediction = pd.DataFrame(X_test[y_test > y_pred_gaunb])\n",
    "incorrect_neil_prediction.sample(5)"
   ]
  },
  {
   "cell_type": "markdown",
   "metadata": {},
   "source": [
    "On line item 834, Bill tweets about film many times. billnyefilm is one of the most mentioned word in Bill's tweet. This may cause some confusion to the machine.  "
   ]
  },
  {
   "cell_type": "code",
   "execution_count": 49,
   "metadata": {
    "collapsed": true
   },
   "outputs": [],
   "source": [
    "# Let's check prediction probability\n",
    "\n",
    "y_pred_prob_gaunb = gaunb.predict_proba(X_test_dtm)[:, 1]"
   ]
  },
  {
   "cell_type": "code",
   "execution_count": 50,
   "metadata": {
    "collapsed": false,
    "scrolled": true
   },
   "outputs": [
    {
     "data": {
      "text/plain": [
       "0.9249420304466176"
      ]
     },
     "execution_count": 50,
     "metadata": {},
     "output_type": "execute_result"
    }
   ],
   "source": [
    "metrics.roc_auc_score(y_test, y_pred_prob_gaunb)"
   ]
  },
  {
   "cell_type": "markdown",
   "metadata": {},
   "source": [
    "### 92.49%. That is quite good. "
   ]
  },
  {
   "cell_type": "markdown",
   "metadata": {},
   "source": [
    "### 2) Logistic Regression"
   ]
  },
  {
   "cell_type": "markdown",
   "metadata": {},
   "source": [
    "Another very effective algorithm on binary classifiction prediction is Logistic Regression. This is based on odd ratio. In this case, what is the odd of a tweet coming from Bill or Neil. \n",
    "\n",
    "Let's try if Logistic Regression can improve prediction accuracy."
   ]
  },
  {
   "cell_type": "code",
   "execution_count": 52,
   "metadata": {
    "collapsed": false
   },
   "outputs": [
    {
     "data": {
      "text/plain": [
       "LogisticRegression(C=1.0, class_weight=None, dual=False, fit_intercept=True,\n",
       "          intercept_scaling=1, max_iter=100, multi_class='ovr', n_jobs=1,\n",
       "          penalty='l2', random_state=None, solver='liblinear', tol=0.0001,\n",
       "          verbose=0, warm_start=False)"
      ]
     },
     "execution_count": 52,
     "metadata": {},
     "output_type": "execute_result"
    }
   ],
   "source": [
    "from sklearn.linear_model import LogisticRegression\n",
    "logit = LogisticRegression()\n",
    "logit.fit(X_train_dtm, y_train )"
   ]
  },
  {
   "cell_type": "code",
   "execution_count": 53,
   "metadata": {
    "collapsed": true
   },
   "outputs": [],
   "source": [
    "# Make predictions using Logistic Regression model\n",
    "\n",
    "y_pred_logit = logit.predict(X_test_dtm)"
   ]
  },
  {
   "cell_type": "code",
   "execution_count": 54,
   "metadata": {
    "collapsed": false,
    "scrolled": true
   },
   "outputs": [
    {
     "data": {
      "text/plain": [
       "0.92000000000000004"
      ]
     },
     "execution_count": 54,
     "metadata": {},
     "output_type": "execute_result"
    }
   ],
   "source": [
    "# Check Logistic Regression prediction accuracy rate\n",
    "\n",
    "metrics.accuracy_score(y_test, y_pred_logit)"
   ]
  },
  {
   "cell_type": "markdown",
   "metadata": {},
   "source": [
    "**92% accuracy, not bad! **"
   ]
  },
  {
   "cell_type": "code",
   "execution_count": 55,
   "metadata": {
    "collapsed": false,
    "scrolled": true
   },
   "outputs": [
    {
     "data": {
      "text/html": [
       "<div>\n",
       "<style>\n",
       "    .dataframe thead tr:only-child th {\n",
       "        text-align: right;\n",
       "    }\n",
       "\n",
       "    .dataframe thead th {\n",
       "        text-align: left;\n",
       "    }\n",
       "\n",
       "    .dataframe tbody tr th {\n",
       "        vertical-align: top;\n",
       "    }\n",
       "</style>\n",
       "<table border=\"1\" class=\"dataframe\">\n",
       "  <thead>\n",
       "    <tr style=\"text-align: right;\">\n",
       "      <th></th>\n",
       "      <th>Predicted: Bill</th>\n",
       "      <th>Predicted: Neil</th>\n",
       "    </tr>\n",
       "  </thead>\n",
       "  <tbody>\n",
       "    <tr>\n",
       "      <th>Actual: Bill</th>\n",
       "      <td>98</td>\n",
       "      <td>11</td>\n",
       "    </tr>\n",
       "    <tr>\n",
       "      <th>Actual: Neil</th>\n",
       "      <td>5</td>\n",
       "      <td>86</td>\n",
       "    </tr>\n",
       "  </tbody>\n",
       "</table>\n",
       "</div>"
      ],
      "text/plain": [
       "              Predicted: Bill  Predicted: Neil\n",
       "Actual: Bill               98               11\n",
       "Actual: Neil                5               86"
      ]
     },
     "execution_count": 55,
     "metadata": {},
     "output_type": "execute_result"
    }
   ],
   "source": [
    "confusion_logit = metrics.confusion_matrix(y_test, y_pred_logit)\n",
    "confusion_matrix_logit = pd.DataFrame(confusion_logit, index = ['Actual: Bill', 'Actual: Neil'],\n",
    "                               columns = ['Predicted: Bill', 'Predicted: Neil'])\n",
    "confusion_matrix_logit"
   ]
  },
  {
   "cell_type": "markdown",
   "metadata": {},
   "source": [
    "**Logistcs Regression seems to grasp Neil's tweeting patern well.** \n",
    "\n",
    "**Out of 200 tweets, 184 tweets being identified correctly. **\n",
    "\n",
    "** Only 5 tweets belong to Neil that is incorrectly identified as Bill. 11 Bill's tweets incorrectly identified as Neil's. Let's check these tweets that are incorrectly predicted.**"
   ]
  },
  {
   "cell_type": "code",
   "execution_count": 56,
   "metadata": {
    "collapsed": false
   },
   "outputs": [
    {
     "data": {
      "text/html": [
       "<div>\n",
       "<style>\n",
       "    .dataframe thead tr:only-child th {\n",
       "        text-align: right;\n",
       "    }\n",
       "\n",
       "    .dataframe thead th {\n",
       "        text-align: left;\n",
       "    }\n",
       "\n",
       "    .dataframe tbody tr th {\n",
       "        vertical-align: top;\n",
       "    }\n",
       "</style>\n",
       "<table border=\"1\" class=\"dataframe\">\n",
       "  <thead>\n",
       "    <tr style=\"text-align: right;\">\n",
       "      <th></th>\n",
       "      <th>text</th>\n",
       "    </tr>\n",
       "  </thead>\n",
       "  <tbody>\n",
       "    <tr>\n",
       "      <th>387</th>\n",
       "      <td>@BigJoeBastardi Hides or masks climate change ...</td>\n",
       "    </tr>\n",
       "    <tr>\n",
       "      <th>29</th>\n",
       "      <td>MSNBC about to have me on. They'll probably as...</td>\n",
       "    </tr>\n",
       "    <tr>\n",
       "      <th>934</th>\n",
       "      <td>On the @mhpshow discussing deities and creatio...</td>\n",
       "    </tr>\n",
       "    <tr>\n",
       "      <th>277</th>\n",
       "      <td>RT @AsapSCIENCE: Not only will a few feet caus...</td>\n",
       "    </tr>\n",
       "    <tr>\n",
       "      <th>721</th>\n",
       "      <td>We're letting more than 25 of you youngsters i...</td>\n",
       "    </tr>\n",
       "    <tr>\n",
       "      <th>930</th>\n",
       "      <td>Look what book @RichardDawkins is reading @Bea...</td>\n",
       "    </tr>\n",
       "    <tr>\n",
       "      <th>879</th>\n",
       "      <td>Wonder if Brady has trouble controlling the fu...</td>\n",
       "    </tr>\n",
       "    <tr>\n",
       "      <th>875</th>\n",
       "      <td>Thoughtless politicians saying @GetVaccinated ...</td>\n",
       "    </tr>\n",
       "    <tr>\n",
       "      <th>877</th>\n",
       "      <td>Brady is throwing just fine with the ball at r...</td>\n",
       "    </tr>\n",
       "    <tr>\n",
       "      <th>466</th>\n",
       "      <td>Lots (of lots) of reasons to celebrate!  https...</td>\n",
       "    </tr>\n",
       "    <tr>\n",
       "      <th>389</th>\n",
       "      <td>slash \"you all.\"</td>\n",
       "    </tr>\n",
       "  </tbody>\n",
       "</table>\n",
       "</div>"
      ],
      "text/plain": [
       "                                                  text\n",
       "387  @BigJoeBastardi Hides or masks climate change ...\n",
       "29   MSNBC about to have me on. They'll probably as...\n",
       "934  On the @mhpshow discussing deities and creatio...\n",
       "277  RT @AsapSCIENCE: Not only will a few feet caus...\n",
       "721  We're letting more than 25 of you youngsters i...\n",
       "930  Look what book @RichardDawkins is reading @Bea...\n",
       "879  Wonder if Brady has trouble controlling the fu...\n",
       "875  Thoughtless politicians saying @GetVaccinated ...\n",
       "877  Brady is throwing just fine with the ball at r...\n",
       "466  Lots (of lots) of reasons to celebrate!  https...\n",
       "389                                   slash \"you all.\""
      ]
     },
     "execution_count": 56,
     "metadata": {},
     "output_type": "execute_result"
    }
   ],
   "source": [
    "incorrect_logit_bill_prediction = pd.DataFrame(X_test[y_test < y_pred_logit])\n",
    "incorrect_logit_bill_prediction"
   ]
  },
  {
   "cell_type": "code",
   "execution_count": 57,
   "metadata": {
    "collapsed": false
   },
   "outputs": [
    {
     "data": {
      "text/html": [
       "<div>\n",
       "<style>\n",
       "    .dataframe thead tr:only-child th {\n",
       "        text-align: right;\n",
       "    }\n",
       "\n",
       "    .dataframe thead th {\n",
       "        text-align: left;\n",
       "    }\n",
       "\n",
       "    .dataframe tbody tr th {\n",
       "        vertical-align: top;\n",
       "    }\n",
       "</style>\n",
       "<table border=\"1\" class=\"dataframe\">\n",
       "  <thead>\n",
       "    <tr style=\"text-align: right;\">\n",
       "      <th></th>\n",
       "      <th>text</th>\n",
       "    </tr>\n",
       "  </thead>\n",
       "  <tbody>\n",
       "    <tr>\n",
       "      <th>33</th>\n",
       "      <td>@BigTuckTV Thanks for your interest. Try this ...</td>\n",
       "    </tr>\n",
       "    <tr>\n",
       "      <th>660</th>\n",
       "      <td>@iamCodec @MikeHazeGaming You know it... https...</td>\n",
       "    </tr>\n",
       "    <tr>\n",
       "      <th>489</th>\n",
       "      <td>A great challenge of life: Knowing enough to t...</td>\n",
       "    </tr>\n",
       "    <tr>\n",
       "      <th>837</th>\n",
       "      <td>RT @nathaniel: @neiltyson but crude gas is som...</td>\n",
       "    </tr>\n",
       "    <tr>\n",
       "      <th>823</th>\n",
       "      <td>@bobgourley Thanks for the poke. My arguments ...</td>\n",
       "    </tr>\n",
       "  </tbody>\n",
       "</table>\n",
       "</div>"
      ],
      "text/plain": [
       "                                                  text\n",
       "33   @BigTuckTV Thanks for your interest. Try this ...\n",
       "660  @iamCodec @MikeHazeGaming You know it... https...\n",
       "489  A great challenge of life: Knowing enough to t...\n",
       "837  RT @nathaniel: @neiltyson but crude gas is som...\n",
       "823  @bobgourley Thanks for the poke. My arguments ..."
      ]
     },
     "execution_count": 57,
     "metadata": {},
     "output_type": "execute_result"
    }
   ],
   "source": [
    "incorrect_logit_neil_prediction = pd.DataFrame(X_test[y_test > y_pred_logit])\n",
    "incorrect_logit_neil_prediction"
   ]
  },
  {
   "cell_type": "code",
   "execution_count": 59,
   "metadata": {
    "collapsed": false
   },
   "outputs": [
    {
     "data": {
      "text/plain": [
       "0.97953422724064931"
      ]
     },
     "execution_count": 59,
     "metadata": {},
     "output_type": "execute_result"
    }
   ],
   "source": [
    "# Let's check prediction probability\n",
    "\n",
    "y_pred_prob_logit = logit.predict_proba(X_test_dtm)[:, 1]\n",
    "\n",
    "metrics.roc_auc_score(y_test, y_pred_prob_logit)"
   ]
  },
  {
   "cell_type": "markdown",
   "metadata": {},
   "source": [
    "### We have just improved the prediction probability from 92% to almost 98%. Logistics Regression is a good model to use. "
   ]
  }
 ],
 "metadata": {
  "kernelspec": {
   "display_name": "Python [conda env:Connie_python2]",
   "language": "python",
   "name": "conda-env-Connie_python2-py"
  },
  "language_info": {
   "codemirror_mode": {
    "name": "ipython",
    "version": 2
   },
   "file_extension": ".py",
   "mimetype": "text/x-python",
   "name": "python",
   "nbconvert_exporter": "python",
   "pygments_lexer": "ipython2",
   "version": "2.7.13"
  }
 },
 "nbformat": 4,
 "nbformat_minor": 2
}
