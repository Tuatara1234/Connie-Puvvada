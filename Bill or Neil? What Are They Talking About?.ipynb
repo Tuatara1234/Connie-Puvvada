{
 "cells": [
  {
   "cell_type": "markdown",
   "metadata": {},
   "source": [
    "# Bill or Neil?"
   ]
  },
  {
   "cell_type": "markdown",
   "metadata": {},
   "source": [
    "#### When my girls were little, I watched Bill Nye The Science Guy with them a lot. Bill Nye is one of my most admired modern scientists. \n",
    "#### Another scientist that I admire the most is Neil Degrasse Tyson. I can bing watch  Neil's cosmic series on Netflix all day long.\n",
    "\n",
    "#### I wonder what these two great scientists often tweet about. \n",
    "\n",
    "#### In this project, I scrap their tweets and try to find out what these two great scientists talk about, how many people like what they say, and how many times their tweets being retweeted.  \n",
    "\n",
    "#### I also want to use machine learning on user prediction. \n"
   ]
  },
  {
   "cell_type": "code",
   "execution_count": 1,
   "metadata": {
    "collapsed": false
   },
   "outputs": [],
   "source": [
    "# First, import libraries\n",
    "\n",
    "import twitter, re, datetime, pandas as pd\n",
    "import matplotlib.pyplot as plt\n",
    "%matplotlib inline\n",
    "%config InlineBackend.figure_format = 'retina'\n"
   ]
  },
  {
   "cell_type": "code",
   "execution_count": 2,
   "metadata": {
    "collapsed": true
   },
   "outputs": [],
   "source": [
    "# Set up twitter credential \n",
    "\n",
    "\n",
    "# your keys go here:\n",
    "\n",
    "twitter_keys = {\n",
    "    'consumer_key':        'YOUR CONSUMER KEY',\n",
    "    'consumer_secret':     'YOUR CONSUMER SECRET KEY',\n",
    "    'access_token_key':    'YOUR ACCESS TOKEN',\n",
    "    'access_token_secret': 'YOUR ACCESS TOKEN SECRET'\n",
    "}\n",
    "\n",
    "api = twitter.Api(\n",
    "    consumer_key         =   twitter_keys['consumer_key'],\n",
    "    consumer_secret      =   twitter_keys['consumer_secret'],\n",
    "    access_token_key     =   twitter_keys['access_token_key'],\n",
    "    access_token_secret  =   twitter_keys['access_token_secret']\n",
    ")\n"
   ]
  },
  {
   "cell_type": "code",
   "execution_count": 3,
   "metadata": {
    "collapsed": true
   },
   "outputs": [],
   "source": [
    "# Setup a TweetMiner object\n",
    "\n",
    "class TweetMiner(object):\n",
    "\n",
    "    result_limit    =   100    \n",
    "    api             =   False\n",
    "    data            =   []\n",
    "    \n",
    "    def __init__(self, keys_dict, api, result_limit = 100):\n",
    "        \n",
    "        self.api = api\n",
    "        self.twitter_keys = keys_dict\n",
    "        \n",
    "        self.result_limit = result_limit\n",
    "        \n",
    "\n",
    "    def mine_user_tweets(self, user=\"user\", mine_rewteets=False, max_pages=5):\n",
    "\n",
    "        data           =  []\n",
    "        last_tweet_id  =  False\n",
    "        page           =  1\n",
    "        \n",
    "        while page <= max_pages:\n",
    "            \n",
    "            if last_tweet_id:\n",
    "                statuses   =   self.api.GetUserTimeline(screen_name=user, count=self.result_limit, max_id=last_tweet_id - 1)        \n",
    "            else:\n",
    "                statuses   =   self.api.GetUserTimeline(screen_name=user, count=self.result_limit)\n",
    "                \n",
    "            for item in statuses:\n",
    "\n",
    "                mined = {\n",
    "                    #'tweet_id':        item.id,\n",
    "                    #'location':        item.location,\n",
    "                    #'place':           item.place,\n",
    "                    'handle':          item.user.name,\n",
    "                    'favorite_count':  item.favorite_count,\n",
    "                    'retweet_count':   item.retweet_count,\n",
    "                    'text':            item.text,\n",
    "                    'hashtags':        item.hashtags,\n",
    "                    'mined_at':        datetime.datetime.now(),\n",
    "                    'created_at':      item.created_at\n",
    "                }\n",
    "                \n",
    "                last_tweet_id = item.id\n",
    "                data.append(mined)\n",
    "                \n",
    "            page += 1\n",
    "            \n",
    "        return data"
   ]
  },
  {
   "cell_type": "code",
   "execution_count": 4,
   "metadata": {
    "collapsed": true
   },
   "outputs": [],
   "source": [
    "# create a miner object\n",
    "\n",
    "miner = TweetMiner(keys_dict = twitter_keys, api = api, result_limit = 500)"
   ]
  },
  {
   "cell_type": "code",
   "execution_count": 5,
   "metadata": {
    "collapsed": false,
    "scrolled": true
   },
   "outputs": [
    {
     "data": {
      "text/plain": [
       "[{'created_at': u'Mon Oct 30 14:45:02 +0000 2017',\n",
       "  'favorite_count': 141581,\n",
       "  'handle': u'Neil deGrasse Tyson',\n",
       "  'hashtags': [],\n",
       "  'mined_at': datetime.datetime(2017, 11, 1, 22, 5, 42, 400312),\n",
       "  'retweet_count': 35414,\n",
       "  'text': u'If the world were really going to end, cosmically, I\\u2019d let y\\u2019all know, and with plenty of time to do nothing about it.'},\n",
       " {'created_at': u'Sat Oct 28 15:09:17 +0000 2017',\n",
       "  'favorite_count': 2276,\n",
       "  'handle': u'Neil deGrasse Tyson',\n",
       "  'hashtags': [],\n",
       "  'mined_at': datetime.datetime(2017, 11, 1, 22, 5, 42, 400325),\n",
       "  'retweet_count': 399,\n",
       "  'text': u'JUST POSTED: @StarTalkRadio\\u2019s \\u201cThe Power of Political Satire\" with @billmaher. On @ApplePodcasts &amp;\\u2026 https://t.co/vN9Q1591hL'}]"
      ]
     },
     "execution_count": 5,
     "metadata": {},
     "output_type": "execute_result"
    }
   ],
   "source": [
    "# check sample results\n",
    "\n",
    "bill = miner.mine_user_tweets(user = 'BillNye')\n",
    "neil = miner.mine_user_tweets(user = 'neiltyson')\n",
    "\n",
    "neil[:2]"
   ]
  },
  {
   "cell_type": "markdown",
   "metadata": {},
   "source": [
    "## Tweets Exploration"
   ]
  },
  {
   "cell_type": "code",
   "execution_count": 6,
   "metadata": {
    "collapsed": false,
    "scrolled": true
   },
   "outputs": [
    {
     "data": {
      "text/html": [
       "<div>\n",
       "<style>\n",
       "    .dataframe thead tr:only-child th {\n",
       "        text-align: right;\n",
       "    }\n",
       "\n",
       "    .dataframe thead th {\n",
       "        text-align: left;\n",
       "    }\n",
       "\n",
       "    .dataframe tbody tr th {\n",
       "        vertical-align: top;\n",
       "    }\n",
       "</style>\n",
       "<table border=\"1\" class=\"dataframe\">\n",
       "  <thead>\n",
       "    <tr style=\"text-align: right;\">\n",
       "      <th></th>\n",
       "      <th>created_at</th>\n",
       "      <th>favorite_count</th>\n",
       "      <th>handle</th>\n",
       "      <th>hashtags</th>\n",
       "      <th>mined_at</th>\n",
       "      <th>retweet_count</th>\n",
       "      <th>text</th>\n",
       "    </tr>\n",
       "  </thead>\n",
       "  <tbody>\n",
       "    <tr>\n",
       "      <th>0</th>\n",
       "      <td>Wed Nov 01 18:09:04 +0000 2017</td>\n",
       "      <td>430</td>\n",
       "      <td>Bill Nye</td>\n",
       "      <td>[]</td>\n",
       "      <td>2017-11-01 22:05:40.391186</td>\n",
       "      <td>53</td>\n",
       "      <td>Soothe your post-Halloween sugar hangover with...</td>\n",
       "    </tr>\n",
       "    <tr>\n",
       "      <th>1</th>\n",
       "      <td>Wed Nov 01 03:15:03 +0000 2017</td>\n",
       "      <td>8825</td>\n",
       "      <td>Bill Nye</td>\n",
       "      <td>[]</td>\n",
       "      <td>2017-11-01 22:05:40.391198</td>\n",
       "      <td>713</td>\n",
       "      <td>Happy Halloween from Nye Labs 🎃 https://t.co/...</td>\n",
       "    </tr>\n",
       "    <tr>\n",
       "      <th>2</th>\n",
       "      <td>Fri Oct 27 17:01:24 +0000 2017</td>\n",
       "      <td>0</td>\n",
       "      <td>Bill Nye</td>\n",
       "      <td>[]</td>\n",
       "      <td>2017-11-01 22:05:40.391201</td>\n",
       "      <td>41</td>\n",
       "      <td>RT @billnyefilm: Get ghouled up, snap a selfie...</td>\n",
       "    </tr>\n",
       "    <tr>\n",
       "      <th>3</th>\n",
       "      <td>Thu Oct 26 20:18:36 +0000 2017</td>\n",
       "      <td>0</td>\n",
       "      <td>Bill Nye</td>\n",
       "      <td>[{\"text\": \"NYC\"}]</td>\n",
       "      <td>2017-11-01 22:05:40.391204</td>\n",
       "      <td>42</td>\n",
       "      <td>RT @billnyefilm: #NYC peeps! @BillNye IN-PERSO...</td>\n",
       "    </tr>\n",
       "    <tr>\n",
       "      <th>4</th>\n",
       "      <td>Wed Oct 25 20:03:42 +0000 2017</td>\n",
       "      <td>524</td>\n",
       "      <td>Bill Nye</td>\n",
       "      <td>[{\"text\": \"NYC\"}]</td>\n",
       "      <td>2017-11-01 22:05:40.391207</td>\n",
       "      <td>86</td>\n",
       "      <td>#NYC: Join me + the filmmakers for Q&amp;amp;A scr...</td>\n",
       "    </tr>\n",
       "    <tr>\n",
       "      <th>5</th>\n",
       "      <td>Wed Oct 25 02:04:20 +0000 2017</td>\n",
       "      <td>0</td>\n",
       "      <td>Bill Nye</td>\n",
       "      <td>[{\"text\": \"TheOpposition\"}]</td>\n",
       "      <td>2017-11-01 22:05:40.391210</td>\n",
       "      <td>99</td>\n",
       "      <td>RT @TheOpposition: Tonight on #TheOpposition, ...</td>\n",
       "    </tr>\n",
       "    <tr>\n",
       "      <th>6</th>\n",
       "      <td>Tue Oct 24 22:32:01 +0000 2017</td>\n",
       "      <td>28678</td>\n",
       "      <td>Bill Nye</td>\n",
       "      <td>[{\"text\": \"worldpolioday\"}]</td>\n",
       "      <td>2017-11-01 22:05:40.391213</td>\n",
       "      <td>9728</td>\n",
       "      <td>It’s #worldpolioday. Vaccines work. It’s science.</td>\n",
       "    </tr>\n",
       "    <tr>\n",
       "      <th>7</th>\n",
       "      <td>Fri Oct 20 20:03:24 +0000 2017</td>\n",
       "      <td>0</td>\n",
       "      <td>Bill Nye</td>\n",
       "      <td>[{\"text\": \"NewYork\"}]</td>\n",
       "      <td>2017-11-01 22:05:40.391215</td>\n",
       "      <td>78</td>\n",
       "      <td>RT @billnyefilm: Get ready, #NewYork.\\n@BillNy...</td>\n",
       "    </tr>\n",
       "    <tr>\n",
       "      <th>8</th>\n",
       "      <td>Thu Oct 19 22:41:19 +0000 2017</td>\n",
       "      <td>1127</td>\n",
       "      <td>Bill Nye</td>\n",
       "      <td>[]</td>\n",
       "      <td>2017-11-01 22:05:40.391218</td>\n",
       "      <td>123</td>\n",
       "      <td>It’s your final chance to join me for the laun...</td>\n",
       "    </tr>\n",
       "    <tr>\n",
       "      <th>9</th>\n",
       "      <td>Fri Oct 13 00:48:09 +0000 2017</td>\n",
       "      <td>905</td>\n",
       "      <td>Bill Nye</td>\n",
       "      <td>[]</td>\n",
       "      <td>2017-11-01 22:05:40.391222</td>\n",
       "      <td>173</td>\n",
       "      <td>The countdown is on and it’s your LAST CHANCE ...</td>\n",
       "    </tr>\n",
       "  </tbody>\n",
       "</table>\n",
       "</div>"
      ],
      "text/plain": [
       "                       created_at  favorite_count    handle  \\\n",
       "0  Wed Nov 01 18:09:04 +0000 2017             430  Bill Nye   \n",
       "1  Wed Nov 01 03:15:03 +0000 2017            8825  Bill Nye   \n",
       "2  Fri Oct 27 17:01:24 +0000 2017               0  Bill Nye   \n",
       "3  Thu Oct 26 20:18:36 +0000 2017               0  Bill Nye   \n",
       "4  Wed Oct 25 20:03:42 +0000 2017             524  Bill Nye   \n",
       "5  Wed Oct 25 02:04:20 +0000 2017               0  Bill Nye   \n",
       "6  Tue Oct 24 22:32:01 +0000 2017           28678  Bill Nye   \n",
       "7  Fri Oct 20 20:03:24 +0000 2017               0  Bill Nye   \n",
       "8  Thu Oct 19 22:41:19 +0000 2017            1127  Bill Nye   \n",
       "9  Fri Oct 13 00:48:09 +0000 2017             905  Bill Nye   \n",
       "\n",
       "                      hashtags                   mined_at  retweet_count  \\\n",
       "0                           [] 2017-11-01 22:05:40.391186             53   \n",
       "1                           [] 2017-11-01 22:05:40.391198            713   \n",
       "2                           [] 2017-11-01 22:05:40.391201             41   \n",
       "3            [{\"text\": \"NYC\"}] 2017-11-01 22:05:40.391204             42   \n",
       "4            [{\"text\": \"NYC\"}] 2017-11-01 22:05:40.391207             86   \n",
       "5  [{\"text\": \"TheOpposition\"}] 2017-11-01 22:05:40.391210             99   \n",
       "6  [{\"text\": \"worldpolioday\"}] 2017-11-01 22:05:40.391213           9728   \n",
       "7        [{\"text\": \"NewYork\"}] 2017-11-01 22:05:40.391215             78   \n",
       "8                           [] 2017-11-01 22:05:40.391218            123   \n",
       "9                           [] 2017-11-01 22:05:40.391222            173   \n",
       "\n",
       "                                                text  \n",
       "0  Soothe your post-Halloween sugar hangover with...  \n",
       "1  Happy Halloween from Nye Labs 🎃 https://t.co/...  \n",
       "2  RT @billnyefilm: Get ghouled up, snap a selfie...  \n",
       "3  RT @billnyefilm: #NYC peeps! @BillNye IN-PERSO...  \n",
       "4  #NYC: Join me + the filmmakers for Q&amp;A scr...  \n",
       "5  RT @TheOpposition: Tonight on #TheOpposition, ...  \n",
       "6  It’s #worldpolioday. Vaccines work. It’s science.  \n",
       "7  RT @billnyefilm: Get ready, #NewYork.\\n@BillNy...  \n",
       "8  It’s your final chance to join me for the laun...  \n",
       "9  The countdown is on and it’s your LAST CHANCE ...  "
      ]
     },
     "execution_count": 6,
     "metadata": {},
     "output_type": "execute_result"
    }
   ],
   "source": [
    "# Put the results into dataframe & check 10 samples\n",
    "\n",
    "bill_df = pd.DataFrame(bill)\n",
    "neil_df = pd.DataFrame(neil)\n",
    "bill_df.head(10)\n",
    "\n",
    "# Love that pumkin emoji :-)"
   ]
  },
  {
   "cell_type": "code",
   "execution_count": 7,
   "metadata": {
    "collapsed": false
   },
   "outputs": [
    {
     "name": "stdout",
     "output_type": "stream",
     "text": [
      "(1000, 7)\n",
      "(1000, 7)\n"
     ]
    }
   ],
   "source": [
    "# Check how many tweets were scrapped from both scientists\n",
    "print(bill_df.shape)\n",
    "print (neil_df.shape)\n",
    "\n",
    "# Each have 1000 tweets."
   ]
  },
  {
   "cell_type": "code",
   "execution_count": 8,
   "metadata": {
    "collapsed": false,
    "scrolled": true
   },
   "outputs": [
    {
     "name": "stdout",
     "output_type": "stream",
     "text": [
      "The most recent tweet from Bill Nye is created at:  Wed Nov 01 18:09:04 +0000 2017\n",
      "The oldest tweet from the Bill Nye tweet dataset is:  Wed Sep 17 02:35:12 +0000 2014\n"
     ]
    }
   ],
   "source": [
    "print 'The most recent tweet from Bill Nye is created at: ', bill_df['created_at'][0]\n",
    "print 'The oldest tweet from the Bill Nye tweet dataset is: ', bill_df['created_at'][999]\n",
    "\n",
    "# Bill Nye's dataset contains about 3-year worth of tweets. "
   ]
  },
  {
   "cell_type": "code",
   "execution_count": 9,
   "metadata": {
    "collapsed": false,
    "scrolled": true
   },
   "outputs": [
    {
     "data": {
      "text/html": [
       "<div>\n",
       "<style>\n",
       "    .dataframe thead tr:only-child th {\n",
       "        text-align: right;\n",
       "    }\n",
       "\n",
       "    .dataframe thead th {\n",
       "        text-align: left;\n",
       "    }\n",
       "\n",
       "    .dataframe tbody tr th {\n",
       "        vertical-align: top;\n",
       "    }\n",
       "</style>\n",
       "<table border=\"1\" class=\"dataframe\">\n",
       "  <thead>\n",
       "    <tr style=\"text-align: right;\">\n",
       "      <th></th>\n",
       "      <th>favorite_count</th>\n",
       "      <th>retweet_count</th>\n",
       "    </tr>\n",
       "  </thead>\n",
       "  <tbody>\n",
       "    <tr>\n",
       "      <th>count</th>\n",
       "      <td>1000.000000</td>\n",
       "      <td>1000.00000</td>\n",
       "    </tr>\n",
       "    <tr>\n",
       "      <th>mean</th>\n",
       "      <td>2271.315000</td>\n",
       "      <td>1073.01400</td>\n",
       "    </tr>\n",
       "    <tr>\n",
       "      <th>std</th>\n",
       "      <td>7039.143533</td>\n",
       "      <td>4621.52869</td>\n",
       "    </tr>\n",
       "    <tr>\n",
       "      <th>min</th>\n",
       "      <td>0.000000</td>\n",
       "      <td>0.00000</td>\n",
       "    </tr>\n",
       "    <tr>\n",
       "      <th>25%</th>\n",
       "      <td>14.250000</td>\n",
       "      <td>107.75000</td>\n",
       "    </tr>\n",
       "    <tr>\n",
       "      <th>50%</th>\n",
       "      <td>648.500000</td>\n",
       "      <td>252.50000</td>\n",
       "    </tr>\n",
       "    <tr>\n",
       "      <th>75%</th>\n",
       "      <td>1963.250000</td>\n",
       "      <td>654.00000</td>\n",
       "    </tr>\n",
       "    <tr>\n",
       "      <th>max</th>\n",
       "      <td>115271.000000</td>\n",
       "      <td>91714.00000</td>\n",
       "    </tr>\n",
       "  </tbody>\n",
       "</table>\n",
       "</div>"
      ],
      "text/plain": [
       "       favorite_count  retweet_count\n",
       "count     1000.000000     1000.00000\n",
       "mean      2271.315000     1073.01400\n",
       "std       7039.143533     4621.52869\n",
       "min          0.000000        0.00000\n",
       "25%         14.250000      107.75000\n",
       "50%        648.500000      252.50000\n",
       "75%       1963.250000      654.00000\n",
       "max     115271.000000    91714.00000"
      ]
     },
     "execution_count": 9,
     "metadata": {},
     "output_type": "execute_result"
    }
   ],
   "source": [
    "bill_df.describe()\n",
    "\n",
    "# Wow, there is a 115271 likes on a tweet. The most retweet is 91724. "
   ]
  },
  {
   "cell_type": "code",
   "execution_count": 10,
   "metadata": {
    "collapsed": false,
    "scrolled": true
   },
   "outputs": [
    {
     "data": {
      "image/png": "[encoded data removed]",
      "text/plain": [
       "<matplotlib.figure.Figure at 0x10d1e3750>"
      ]
     },
     "metadata": {
      "image/png": {
       "height": 291,
       "width": 635
      }
     },
     "output_type": "display_data"
    }
   ],
   "source": [
    "# Look at Bill 5 most liked tweet\n",
    "\n",
    "bill_df['favorite_count'].sort_values(ascending = False)[:5].plot(kind = 'bar',\n",
    "                                                                   figsize = (10, 4),\n",
    "                                                                  color = 'c')\n",
    "plt.title('Bill Nye Five Most Favorite Tweets', fontsize = 16)\n",
    "plt.xlabel('Tweet ID', fontsize = 12)\n",
    "plt.ylabel('Favorite Count', fontsize = 12)\n",
    "plt.show()\n"
   ]
  },
  {
   "cell_type": "code",
   "execution_count": 11,
   "metadata": {
    "collapsed": false,
    "scrolled": true
   },
   "outputs": [
    {
     "name": "stdout",
     "output_type": "stream",
     "text": [
      "\"They\" don't want you to be concerned about climate change, but @djkhaled &amp; I want you to be. Major 🔑/ Major 🔬 https://t.co/gKtI2TZLnC\n",
      "Ordering the EPA or NASA not to talk about climate change isn’t going to cool things off. Don't double down on deni… https://t.co/p8J7MRxjwc\n",
      "Happy Thanksgiving to all! https://t.co/FA12naYawU\n",
      "Don't ever let them tell you science isn't cool. @neiltyson https://t.co/OjDI51e8HM\n",
      "The joy of discovery is ever so sweet. https://t.co/2aT2TbTkZr\n"
     ]
    }
   ],
   "source": [
    "# Bill tweets receive a lot of likes, especially the tweet line item 370, 188, 232, 334, and 171. \n",
    "# Let's see what these tweets were talking about. \n",
    "\n",
    "print (bill_df.iloc[372,6])\n",
    "print (bill_df.iloc[190,6])\n",
    "print (bill_df.iloc[234,6])\n",
    "print (bill_df.iloc[336,6])\n",
    "print (bill_df.iloc[173,6])\n"
   ]
  },
  {
   "cell_type": "markdown",
   "metadata": {},
   "source": [
    "The most favorite tweets from Bill Nye are related climate change, encourge science and discovery. \n",
    "\n",
    "Yes science is COOL!!!! \n",
    "\n",
    "He is my guy! \n",
    "\n",
    "Let's check Neil."
   ]
  },
  {
   "cell_type": "code",
   "execution_count": 12,
   "metadata": {
    "collapsed": false,
    "scrolled": true
   },
   "outputs": [
    {
     "name": "stdout",
     "output_type": "stream",
     "text": [
      "The most recent tweet from Neil Tyson is created at:  Mon Oct 30 14:45:02 +0000 2017\n",
      "The oldest tweet of the Neil Tyson tweet dataset is:  Tue Oct 06 00:08:03 +0000 2015\n"
     ]
    }
   ],
   "source": [
    "print 'The most recent tweet from Neil Tyson is created at: ', neil_df['created_at'][0]\n",
    "print 'The oldest tweet of the Neil Tyson tweet dataset is: ', neil_df['created_at'][999]"
   ]
  },
  {
   "cell_type": "markdown",
   "metadata": {},
   "source": [
    "**Neil's twitter dataset is about 2 years worth of tweets. He seems to tweet more than Bill.**\n",
    "\n",
    "** Let's check which tweets from Neil get the most likes.**"
   ]
  },
  {
   "cell_type": "code",
   "execution_count": 13,
   "metadata": {
    "collapsed": false
   },
   "outputs": [
    {
     "data": {
      "text/html": [
       "<div>\n",
       "<style>\n",
       "    .dataframe thead tr:only-child th {\n",
       "        text-align: right;\n",
       "    }\n",
       "\n",
       "    .dataframe thead th {\n",
       "        text-align: left;\n",
       "    }\n",
       "\n",
       "    .dataframe tbody tr th {\n",
       "        vertical-align: top;\n",
       "    }\n",
       "</style>\n",
       "<table border=\"1\" class=\"dataframe\">\n",
       "  <thead>\n",
       "    <tr style=\"text-align: right;\">\n",
       "      <th></th>\n",
       "      <th>favorite_count</th>\n",
       "      <th>retweet_count</th>\n",
       "    </tr>\n",
       "  </thead>\n",
       "  <tbody>\n",
       "    <tr>\n",
       "      <th>count</th>\n",
       "      <td>1000.00000</td>\n",
       "      <td>1000.000000</td>\n",
       "    </tr>\n",
       "    <tr>\n",
       "      <th>mean</th>\n",
       "      <td>14467.40200</td>\n",
       "      <td>5381.743000</td>\n",
       "    </tr>\n",
       "    <tr>\n",
       "      <th>std</th>\n",
       "      <td>30512.28883</td>\n",
       "      <td>12657.338197</td>\n",
       "    </tr>\n",
       "    <tr>\n",
       "      <th>min</th>\n",
       "      <td>0.00000</td>\n",
       "      <td>0.000000</td>\n",
       "    </tr>\n",
       "    <tr>\n",
       "      <th>25%</th>\n",
       "      <td>611.50000</td>\n",
       "      <td>98.250000</td>\n",
       "    </tr>\n",
       "    <tr>\n",
       "      <th>50%</th>\n",
       "      <td>4443.50000</td>\n",
       "      <td>1046.000000</td>\n",
       "    </tr>\n",
       "    <tr>\n",
       "      <th>75%</th>\n",
       "      <td>14834.75000</td>\n",
       "      <td>4891.750000</td>\n",
       "    </tr>\n",
       "    <tr>\n",
       "      <th>max</th>\n",
       "      <td>357826.00000</td>\n",
       "      <td>143436.000000</td>\n",
       "    </tr>\n",
       "  </tbody>\n",
       "</table>\n",
       "</div>"
      ],
      "text/plain": [
       "       favorite_count  retweet_count\n",
       "count      1000.00000    1000.000000\n",
       "mean      14467.40200    5381.743000\n",
       "std       30512.28883   12657.338197\n",
       "min           0.00000       0.000000\n",
       "25%         611.50000      98.250000\n",
       "50%        4443.50000    1046.000000\n",
       "75%       14834.75000    4891.750000\n",
       "max      357826.00000  143436.000000"
      ]
     },
     "execution_count": 13,
     "metadata": {},
     "output_type": "execute_result"
    }
   ],
   "source": [
    "neil_df.describe()"
   ]
  },
  {
   "cell_type": "markdown",
   "metadata": {},
   "source": [
    "Oh wow!!!! 357836 likes with 143436 retweet. Let's check it out. "
   ]
  },
  {
   "cell_type": "code",
   "execution_count": 14,
   "metadata": {
    "collapsed": false
   },
   "outputs": [
    {
     "data": {
      "image/png": "[encoded data removed]",
      "text/plain": [
       "<matplotlib.figure.Figure at 0x10cfac3d0>"
      ]
     },
     "metadata": {
      "image/png": {
       "height": 291,
       "width": 635
      }
     },
     "output_type": "display_data"
    }
   ],
   "source": [
    "# Look at Bill most favorite tweet\n",
    "\n",
    "neil_df['favorite_count'].sort_values(ascending = False)[:5].plot(kind = 'bar',\n",
    "                                                                   figsize = (10, 4),\n",
    "                                                                  color = 'b')\n",
    "plt.title('Neil Tyson 5 Most Favorite Tweets', fontsize = 16)\n",
    "plt.xlabel('Tweet ID', fontsize = 12)\n",
    "plt.ylabel('Favorite Count', fontsize = 12)\n",
    "plt.show()"
   ]
  },
  {
   "cell_type": "code",
   "execution_count": 15,
   "metadata": {
    "collapsed": false
   },
   "outputs": [
    {
     "name": "stdout",
     "output_type": "stream",
     "text": [
      "In school, students cheat because the system values high grades more than students value learning.\n",
      "Let’s Make America Smart Again.\n",
      "Odd. No one is in denial of America’s Aug 21 total solar eclipse. Like Climate Change, methods &amp; tools of science predict it.\n",
      "I dream of a world where the truth is what shapes people's politics, rather than politics shaping what people think is true.\n",
      "The divided United States of America will unite today, sharing a cosmic event predicted by the methods and tools of… https://t.co/nPUwQK87Rr\n"
     ]
    }
   ],
   "source": [
    "# Let's see what these tweets were talking about from Neil. \n",
    "\n",
    "print (neil_df.iloc[72,6])\n",
    "print (neil_df.iloc[20,6])\n",
    "print (neil_df.iloc[113,6])\n",
    "print (neil_df.iloc[402,6])\n",
    "print (neil_df.iloc[91,6])"
   ]
  },
  {
   "cell_type": "markdown",
   "metadata": {},
   "source": [
    "I totally agree education system emphasizes too much on grades instead of learning. Sad!\n",
    "\n",
    "Overwhelmingly agreed by people, but still, there isn't an alternative or should I say, another popular system to measure level of student competency except throwing them into a test pit. \n"
   ]
  },
  {
   "cell_type": "markdown",
   "metadata": {},
   "source": [
    "## Word Frequency"
   ]
  },
  {
   "cell_type": "markdown",
   "metadata": {},
   "source": [
    "One of the ways to analyze user tweeting style and what they commonly talk about is word frequency. \n",
    "\n",
    "Every user has their favorite words to use. Let's break down the two users' tweets and find out what words they like to use. "
   ]
  },
  {
   "cell_type": "code",
   "execution_count": 16,
   "metadata": {
    "collapsed": false,
    "scrolled": true
   },
   "outputs": [
    {
     "name": "stdout",
     "output_type": "stream",
     "text": [
      "('Original_test_tweet --> ', u'RT @billnyefilm: Get ready, #NewYork.\\n@BillNye in-person Q&amp;As at @sunshine_cinema 10/27 &amp; 10/28 \\u2192 https://t.co/2jR9cqKyrU https://t.co/7Qlw\\u2026')\n",
      "-------\n",
      "('Tokenize_test_tweet -->  ', [u'RT', u'@', u'billnyefilm', u':', u'Get', u'ready', u',', u'#', u'NewYork', u'.', u'@', u'BillNye', u'in-person', u'Q', u'&', u'amp', u';', u'As', u'at', u'@', u'sunshine_cinema', u'10/27', u'&', u'amp', u';', u'10/28', u'\\u2192', u'https', u':', u'//t.co/2jR9cqKyrU', u'https', u':', u'//t.co/7Qlw\\u2026'])\n"
     ]
    }
   ],
   "source": [
    "# nltk has a word tokenizer that would break down the words. \n",
    "\n",
    "#import nltk library\n",
    "import nltk\n",
    "from nltk.tokenize import word_tokenize\n",
    "\n",
    "# test how a tweet being tokenized using nltk tokenizer\n",
    "test_tweet = bill_df['text'][7]\n",
    "print ('Original_test_tweet --> ', test_tweet)\n",
    "\n",
    "print ('-------')\n",
    "\n",
    "tokenize_test_tweet = word_tokenize(test_tweet)\n",
    "print('Tokenize_test_tweet -->  ', tokenize_test_tweet)"
   ]
  },
  {
   "cell_type": "markdown",
   "metadata": {},
   "source": [
    "**The nltk word tokenizer breaks down words using standard English words.**\n",
    "\n",
    "\n",
    "**But social media chats are different, especially tweets. Tweets have a lot of**\n",
    "* hashtags begin with #, \n",
    "* mentions begin with @, \n",
    "* urls begin with http(s), and \n",
    "* emojis\n",
    "\n",
    "** These should be treated as one string of word. For example, https://t.co/2jR9cqKyrU should be treated as an url. But nltk tokenizer breaks the url into three parts:**\n",
    "\n",
    "    1) https\n",
    "    2) :\n",
    "    3) //t.co/7Qlw\\u2026\n",
    "    "
   ]
  },
  {
   "cell_type": "markdown",
   "metadata": {},
   "source": [
    "Some words such as 'i', 'me', 'my' etc. are very common and used on all types of writings. But these words do not help on distinguishing user writing style, pattern analysis, and predictions.\n",
    "\n",
    "These words are called stop words.\n",
    "\n",
    "nltk has a ‘stopword’ library that can remove these stop words.\n",
    "\n",
    "Punctuations also have are irrelevent when it comes to sentiment analysis except they come with the #hashtags, @mentions, and http(s)//:url. We need to eliminate these punctuations. String library has the list of punctuations. \n"
   ]
  },
  {
   "cell_type": "code",
   "execution_count": 17,
   "metadata": {
    "collapsed": false
   },
   "outputs": [
    {
     "name": "stdout",
     "output_type": "stream",
     "text": [
      "[u'i', u'me', u'my', u'myself', u'we', u'our', u'ours', u'ourselves', u'you', u'your', u'yours', u'yourself', u'yourselves', u'he', u'him', u'his', u'himself', u'she', u'her', u'hers', u'herself', u'it', u'its', u'itself', u'they', u'them', u'their', u'theirs', u'themselves', u'what', u'which', u'who', u'whom', u'this', u'that', u'these', u'those', u'am', u'is', u'are', u'was', u'were', u'be', u'been', u'being', u'have', u'has', u'had', u'having', u'do', u'does', u'did', u'doing', u'a', u'an', u'the', u'and', u'but', u'if', u'or', u'because', u'as', u'until', u'while', u'of', u'at', u'by', u'for', u'with', u'about', u'against', u'between', u'into', u'through', u'during', u'before', u'after', u'above', u'below', u'to', u'from', u'up', u'down', u'in', u'out', u'on', u'off', u'over', u'under', u'again', u'further', u'then', u'once', u'here', u'there', u'when', u'where', u'why', u'how', u'all', u'any', u'both', u'each', u'few', u'more', u'most', u'other', u'some', u'such', u'no', u'nor', u'not', u'only', u'own', u'same', u'so', u'than', u'too', u'very', u's', u't', u'can', u'will', u'just', u'don', u'should', u'now', u'd', u'll', u'm', u'o', u're', u've', u'y', u'ain', u'aren', u'couldn', u'didn', u'doesn', u'hadn', u'hasn', u'haven', u'isn', u'ma', u'mightn', u'mustn', u'needn', u'shan', u'shouldn', u'wasn', u'weren', u'won', u'wouldn']\n",
      "['!', '\"', '#', '$', '%', '&', \"'\", '(', ')', '*', '+', ',', '-', '.', '/', ':', ';', '<', '=', '>', '?', '@', '[', '\\\\', ']', '^', '_', '`', '{', '|', '}', '~']\n"
     ]
    }
   ],
   "source": [
    "# Import the stopwords library from nltk and punctuations from string. \n",
    "\n",
    "from nltk.corpus import stopwords\n",
    "import string\n",
    "\n",
    "stopwords = stopwords.words('english')\n",
    "\n",
    "punctuations = list(string.punctuation)\n",
    "\n",
    "# Take a look at the stopwords and punctuations for eliminations\n",
    "print(stopwords)\n",
    "\n",
    "print(punctuations)"
   ]
  },
  {
   "cell_type": "code",
   "execution_count": 18,
   "metadata": {
    "collapsed": true,
    "scrolled": false
   },
   "outputs": [],
   "source": [
    "# there may be some additional non-meaningful words we want to remove as well. \n",
    "# Let's create a list called do_not_want_list.\n",
    "\n",
    "do_not_want_list = ['rt', 'amp', 'q', '1', '2', '3', '4', '5', \n",
    "                    '6', '7', '8', '9', '10', '11', '12', '13','14', '15', '16',\n",
    "                    '17', '18', '19', '20', '21', '22', '23', '24', '25', \n",
    "                    '26', '27', '28', '29', '30', '31',\"i'am\", \"it's\", \"don't\", \n",
    "                    'w', 'bill', '@billnye', \"let's\", 'https', 'us', 'fyi', 'would', 'one']\n",
    "                "
   ]
  },
  {
   "cell_type": "code",
   "execution_count": 19,
   "metadata": {
    "collapsed": false
   },
   "outputs": [],
   "source": [
    "# Combine all the stop words, punctunation, and do_not_want_list for removal\n",
    "\n",
    "stop = stopwords + punctuations + do_not_want_list"
   ]
  },
  {
   "cell_type": "code",
   "execution_count": 20,
   "metadata": {
    "collapsed": true
   },
   "outputs": [],
   "source": [
    "# Since we want the emojis, the hashtags with #, the mention with @, \n",
    "# and the web addresses with http/https: tokenized as whole string, \n",
    "# we need to tokenize them differently.\n",
    "# I borrowed this code from Marco Bonazani and twist it a bit to accomodate my requirements. \n",
    "# Thank you Marco. \n",
    "\n",
    "# Keep the emojis\n",
    "emoticons_str = r\"\"\"\n",
    "    (?:\n",
    "        [:=;] # Eyes\n",
    "        [oO\\-]? # Nose (optional)\n",
    "        [D\\)\\]\\(\\]/\\\\OpP] # Mouth\n",
    "    )\"\"\"\n",
    "\n",
    "# Keep the special phases\n",
    "regex_str = [\n",
    "    emoticons_str,\n",
    "    r'<[^>]+>', # HTML tags\n",
    "    r'(?:@[\\w_]+)', # @-mentions\n",
    "    r\"(?:\\#+[\\w_]+[\\w\\'_\\-]*[\\w_]+)\", # hash-tags\n",
    "    r'http[s]?://(?:[a-z]|[0-9]|[$-_@.&amp;+]|[!*\\(\\),]|(?:%[0-9a-f][0-9a-f]))+', # URLs\n",
    "    r'(?:(?:\\d+,?)+(?:\\.?\\d+)?)', # numbers\n",
    "    r\"(?:[a-z][a-z'\\-_]+[a-z])\", # words with - and\n",
    "    r'(?:[\\w_]+)', # other words\n",
    "    r'(?:\\S)' # anything else\n",
    "    r'^\\d*'\n",
    "]\n",
    "    \n",
    "tokens_re = re.compile(r'('+'|'.join(regex_str)+')', re.VERBOSE | re.IGNORECASE)\n",
    "emoticon_re = re.compile(r'^'+emoticons_str+'$', re.VERBOSE | re.IGNORECASE)\n",
    " \n",
    "def tokenize(s):\n",
    "    return tokens_re.findall(s)\n",
    " \n",
    "def tweet_preprocess(s, lowercase=False):\n",
    "    tokens = tokenize(s)\n",
    "    tokens = [word for word in tokens if not word in stop]\n",
    "    if lowercase:\n",
    "        tokens = [token if emoticon_re.search(token) else token.lower() for token in tokens]\n",
    "    return tokens"
   ]
  },
  {
   "cell_type": "code",
   "execution_count": 21,
   "metadata": {
    "collapsed": false,
    "scrolled": true
   },
   "outputs": [
    {
     "name": "stdout",
     "output_type": "stream",
     "text": [
      "('Original_test_tweet --> ', u'RT @billnyefilm: Get ready, #NewYork.\\n@BillNye in-person Q&amp;As at @sunshine_cinema 10/27 &amp; 10/28 \\u2192 https://t.co/2jR9cqKyrU https://t.co/7Qlw\\u2026')\n",
      "---------------------------------------\n",
      "('Standard_tokenize_test_tweet -->  ', [u'RT', u'@', u'billnyefilm', u':', u'Get', u'ready', u',', u'#', u'NewYork', u'.', u'@', u'BillNye', u'in-person', u'Q', u'&', u'amp', u';', u'As', u'at', u'@', u'sunshine_cinema', u'10/27', u'&', u'amp', u';', u'10/28', u'\\u2192', u'https', u':', u'//t.co/2jR9cqKyrU', u'https', u':', u'//t.co/7Qlw\\u2026'])\n",
      "---------------------------------------\n",
      "('Customize_tokenize_test_tweet --> ', [u'RT', u'@billnyefilm', u'Get', u'ready', u'#NewYork', u'@BillNye', u'in-person', u'Q', u'As', u'@sunshine_cinema', u'https://t.co/2jR9cqKyrU', u'https://t.co/7Qlw'])\n"
     ]
    }
   ],
   "source": [
    "# Compare how the tweet being tokenized now using customized tokenization.\n",
    "\n",
    "print ('Original_test_tweet --> ', test_tweet)\n",
    "\n",
    "print ('---------------------------------------')\n",
    "\n",
    "tokenize_test_tweet = word_tokenize(test_tweet)\n",
    "print('Standard_tokenize_test_tweet -->  ', tokenize_test_tweet)\n",
    "\n",
    "print ('---------------------------------------')\n",
    "\n",
    "print('Customize_tokenize_test_tweet --> ', tweet_preprocess(test_tweet))\n"
   ]
  },
  {
   "cell_type": "markdown",
   "metadata": {},
   "source": [
    "** The customized tokenization is not perfect. But the function keeps the hashtags, the mentions and the url intact. **\n",
    "\n",
    "** Punctuations such as individual ':', '&', ';' also removed.**\n",
    "\n",
    "** Stop words such as 'at' is removed. The word 'As' is not removed because we have not make it a lowercase yet. If you notice, all stop words are in lowercase. **\n",
    "\n",
    "** There are some words such as 'RT', meaning retweet, 'amp', and the date break down will not have much meaningful on user and topic predictions. These will be added to the do_not_want_list for removal.**\n",
    "\n",
    "** What we are going to do next is to create a corpus using the customized tokenizer. **\n",
    "\n"
   ]
  },
  {
   "cell_type": "code",
   "execution_count": 22,
   "metadata": {
    "collapsed": false,
    "scrolled": false
   },
   "outputs": [
    {
     "name": "stdout",
     "output_type": "stream",
     "text": [
      "[u'soothe', u'post-halloween', u'sugar', u'hangover', u'science', u'@billnyefilm', u'screens', u'nyc', u'@sunshine_cinema', u'thru', u'nov', u'https://t.co/9lwjhd2oxd', u'happy', u'halloween', u'nye', u'labs', u'https://t.co/qvdlqisigg', u'@billnyefilm', u'get', u'ghouled']\n"
     ]
    }
   ],
   "source": [
    "# Now we create corpus for each scientist \n",
    "\n",
    "bill_corpus = []\n",
    "\n",
    "for word in bill_df['text']:\n",
    "    word = word.lower() # put all the words in lowercase\n",
    "    tweets = tweet_preprocess(word)\n",
    "    bill_corpus.extend(tweets)\n",
    "print(bill_corpus[:20])"
   ]
  },
  {
   "cell_type": "code",
   "execution_count": 23,
   "metadata": {
    "collapsed": false
   },
   "outputs": [
    {
     "name": "stdout",
     "output_type": "stream",
     "text": [
      "[u'world', u'really', u'going', u'end', u'cosmically', u'let', u'know', u'plenty', u'time', u'nothing', u'posted', u'@startalkradio', u'power', u'political', u'satire', u'@billmaher', u'@applepodcasts', u'https://t.co/vn9q1591hl', u'know', u'mars']\n"
     ]
    }
   ],
   "source": [
    "# Create a corpus for Neil\n",
    "\n",
    "neil_corpus=[]\n",
    "\n",
    "for word in neil_df['text']:\n",
    "    word = word.lower() # put all the words in lowercase\n",
    "    tweets = tweet_preprocess(word)\n",
    "    neil_corpus.extend(tweets)\n",
    "print(neil_corpus[:20])"
   ]
  },
  {
   "cell_type": "markdown",
   "metadata": {},
   "source": [
    "### Bill Nye's 20 Most Common Words"
   ]
  },
  {
   "cell_type": "code",
   "execution_count": 24,
   "metadata": {
    "collapsed": true
   },
   "outputs": [],
   "source": [
    "# Create a counter to count the words\n",
    "\n",
    "from collections import Counter\n",
    "bill_counter = Counter()"
   ]
  },
  {
   "cell_type": "code",
   "execution_count": 25,
   "metadata": {
    "collapsed": false,
    "scrolled": true
   },
   "outputs": [
    {
     "name": "stdout",
     "output_type": "stream",
     "text": [
      "[(u'science', 115), (u'change', 90), (u'world', 77), (u'climate', 73), (u'@exploreplanets', 64), (u'day', 57), (u'get', 53), (u'today', 51), (u'tonight', 40), (u'new', 38), (u'space', 38), (u'big', 34), (u'time', 33), (u'#strictlyscience', 31), (u'join', 30), (u'@billnyefilm', 29), (u'happy', 29), (u'people', 28), (u'go', 28), (u'guy', 28)]\n"
     ]
    }
   ],
   "source": [
    "# Loop through the Bill's corpus to count words\n",
    "\n",
    "for word in bill_corpus:\n",
    "    bill_counter[word] +=1\n",
    "    \n",
    "# Check the 20 most common words Bill uses   \n",
    "print(bill_counter.most_common(20))"
   ]
  },
  {
   "cell_type": "code",
   "execution_count": 26,
   "metadata": {
    "collapsed": false,
    "scrolled": false
   },
   "outputs": [
    {
     "data": {
      "image/png": "[encoded data removed]",
      "text/plain": [
       "<matplotlib.figure.Figure at 0x113d59850>"
      ]
     },
     "metadata": {
      "image/png": {
       "height": 463,
       "width": 733
      }
     },
     "output_type": "display_data"
    }
   ],
   "source": [
    "bill_common_words = pd.DataFrame(bill_counter.most_common(20), columns = ['word', 'count'])\n",
    "bill_common_words.plot(x = 'word', y = 'count', kind = 'bar', figsize = (12, 6), fontsize=12,\n",
    "                      colormap = 'coolwarm', rot = 45)\n",
    "\n",
    "plt.title('Bill Nye Common Words Use in Tweets', fontsize = 16)\n",
    "plt.xlabel('Word', fontsize = 14)\n",
    "plt.ylabel('Word Frequency', fontsize = 14)\n",
    "plt.show()\n"
   ]
  },
  {
   "cell_type": "markdown",
   "metadata": {},
   "source": [
    "** OK, we have Bill's most common word tally. **\n",
    "\n",
    "** Bill likes to talk about science (yes of course, he is a scientist). He uses the words change, world, and climate a lot. **\n",
    "\n",
    "** Bill also mention exploring planets many times.**\n",
    "\n",
    "** Let's check Neil.**"
   ]
  },
  {
   "cell_type": "markdown",
   "metadata": {},
   "source": [
    "### Neil Tyson 20 Most Common Words"
   ]
  },
  {
   "cell_type": "code",
   "execution_count": 27,
   "metadata": {
    "collapsed": false,
    "scrolled": true
   },
   "outputs": [
    {
     "name": "stdout",
     "output_type": "stream",
     "text": [
      "[(u'earth', 84), (u'@startalkradio', 70), (u'posted', 67), (u'people', 52), (u'science', 48), (u'time', 46), (u'day', 44), (u'world', 43), (u'cosmic', 42), (u'like', 42), (u'moon', 42), (u'@itunespodcasts', 40), (u'know', 30), (u'life', 29), (u'back', 29), (u'years', 28), (u'space', 27), (u'think', 27), (u'good', 27), (u'video', 27)]\n"
     ]
    }
   ],
   "source": [
    "# Loop through the Neil's corpus to count words\n",
    "neil_counter = Counter()\n",
    "\n",
    "for word in neil_corpus:\n",
    "    neil_counter[word] +=1\n",
    "# check the most common 20 words    \n",
    "print(neil_counter.most_common(20))"
   ]
  },
  {
   "cell_type": "code",
   "execution_count": 28,
   "metadata": {
    "collapsed": false
   },
   "outputs": [
    {
     "data": {
      "image/png": "[encoded data removed]",
      "text/plain": [
       "<matplotlib.figure.Figure at 0x113e42a90>"
      ]
     },
     "metadata": {
      "image/png": {
       "height": 464,
       "width": 726
      }
     },
     "output_type": "display_data"
    }
   ],
   "source": [
    "neil_common_words = pd.DataFrame(neil_counter.most_common(20), columns = ['word', 'count'])\n",
    "neil_common_words.plot(x = 'word', y = 'count', kind = 'bar', figsize = (12, 6), fontsize=12,\n",
    "                      colormap = 'summer', rot = 45)\n",
    "\n",
    "plt.title('Neil Tyson Common Words Use in Tweets', fontsize = 16)\n",
    "plt.xlabel('Word', fontsize = 14)\n",
    "plt.ylabel('Word Frequency', fontsize = 14)\n",
    "plt.show()"
   ]
  },
  {
   "cell_type": "markdown",
   "metadata": {},
   "source": [
    "** My perception is that Neil usually focus on other planets. But he actually cares about our home, the earth and people a lot. **\n"
   ]
  },
  {
   "cell_type": "code",
   "execution_count": 29,
   "metadata": {
    "collapsed": false,
    "scrolled": true
   },
   "outputs": [],
   "source": [
    "# Let's look at the word cloud\n",
    "\n",
    "more_stop_words = {'word', 'count'}\n",
    "from wordcloud import WordCloud, STOPWORDS\n",
    "stopwords = set(STOPWORDS.union(more_stop_words))"
   ]
  },
  {
   "cell_type": "code",
   "execution_count": 30,
   "metadata": {
    "collapsed": false
   },
   "outputs": [
    {
     "name": "stdout",
     "output_type": "stream",
     "text": [
      "<wordcloud.wordcloud.WordCloud object at 0x114b92850>\n"
     ]
    },
    {
     "data": {
      "image/png": "[encoded data removed]",
      "text/plain": [
       "<matplotlib.figure.Figure at 0x113d7f250>"
      ]
     },
     "metadata": {
      "image/png": {
       "height": 424,
       "width": 600
      }
     },
     "output_type": "display_data"
    }
   ],
   "source": [
    "wordcloud = WordCloud(background_color='grey',\n",
    "                     stopwords = stopwords,\n",
    "                     width = 600,\n",
    "                     height = 400,\n",
    "                     ).generate(str(bill_common_words[:50]))\n",
    "\n",
    "\n",
    "print(wordcloud)\n",
    "fig = plt.figure(figsize=(10,10))\n",
    "plt.title(\"Bill Nye's Word Cloud\", fontsize = 20)\n",
    "plt.imshow(wordcloud)\n",
    "plt.axis('off')\n",
    "plt.show()\n",
    "\n",
    "                     "
   ]
  },
  {
   "cell_type": "code",
   "execution_count": 31,
   "metadata": {
    "collapsed": false
   },
   "outputs": [
    {
     "name": "stdout",
     "output_type": "stream",
     "text": [
      "<wordcloud.wordcloud.WordCloud object at 0x1155e7550>\n"
     ]
    },
    {
     "data": {
      "image/png": "[encoded data removed]",
      "text/plain": [
       "<matplotlib.figure.Figure at 0x1155af710>"
      ]
     },
     "metadata": {
      "image/png": {
       "height": 424,
       "width": 600
      }
     },
     "output_type": "display_data"
    }
   ],
   "source": [
    "wordcloud = WordCloud(background_color='grey',\n",
    "                      stopwords = stopwords, \n",
    "                     width = 600,\n",
    "                     height = 400, \n",
    "                     ).generate(str(neil_common_words[:50]))\n",
    "\n",
    "\n",
    "print(wordcloud)\n",
    "fig = plt.figure(figsize=(10,10))\n",
    "plt.title(\"Neil Tyson's Word Cloud\", fontsize = 20)\n",
    "plt.imshow(wordcloud)\n",
    "plt.axis('off')\n",
    "plt.show()\n"
   ]
  },
  {
   "cell_type": "markdown",
   "metadata": {},
   "source": [
    "---"
   ]
  },
  {
   "cell_type": "markdown",
   "metadata": {},
   "source": [
    "## Bill or Neil?"
   ]
  },
  {
   "cell_type": "markdown",
   "metadata": {},
   "source": [
    "Now, do you think we can predict which tweet belong to who?"
   ]
  },
  {
   "cell_type": "code",
   "execution_count": 37,
   "metadata": {
    "collapsed": false,
    "scrolled": false
   },
   "outputs": [
    {
     "data": {
      "text/html": [
       "<div>\n",
       "<style>\n",
       "    .dataframe thead tr:only-child th {\n",
       "        text-align: right;\n",
       "    }\n",
       "\n",
       "    .dataframe thead th {\n",
       "        text-align: left;\n",
       "    }\n",
       "\n",
       "    .dataframe tbody tr th {\n",
       "        vertical-align: top;\n",
       "    }\n",
       "</style>\n",
       "<table border=\"1\" class=\"dataframe\">\n",
       "  <thead>\n",
       "    <tr style=\"text-align: right;\">\n",
       "      <th></th>\n",
       "      <th>created_at</th>\n",
       "      <th>favorite_count</th>\n",
       "      <th>handle</th>\n",
       "      <th>hashtags</th>\n",
       "      <th>mined_at</th>\n",
       "      <th>retweet_count</th>\n",
       "      <th>text</th>\n",
       "    </tr>\n",
       "  </thead>\n",
       "  <tbody>\n",
       "    <tr>\n",
       "      <th>958</th>\n",
       "      <td>Thu Oct 30 01:26:11 +0000 2014</td>\n",
       "      <td>5105</td>\n",
       "      <td>Bill Nye</td>\n",
       "      <td>[]</td>\n",
       "      <td>2017-11-01 22:05:42.113659</td>\n",
       "      <td>7041</td>\n",
       "      <td>World Series Science: don't dive into 1st base...</td>\n",
       "    </tr>\n",
       "    <tr>\n",
       "      <th>505</th>\n",
       "      <td>Thu Nov 03 02:02:20 +0000 2016</td>\n",
       "      <td>3821</td>\n",
       "      <td>Neil deGrasse Tyson</td>\n",
       "      <td>[]</td>\n",
       "      <td>2017-11-01 22:05:43.118962</td>\n",
       "      <td>284</td>\n",
       "      <td>One more?</td>\n",
       "    </tr>\n",
       "    <tr>\n",
       "      <th>721</th>\n",
       "      <td>Fri Jun 19 19:00:54 +0000 2015</td>\n",
       "      <td>496</td>\n",
       "      <td>Bill Nye</td>\n",
       "      <td>[]</td>\n",
       "      <td>2017-11-01 22:05:41.792098</td>\n",
       "      <td>52</td>\n",
       "      <td>We're letting more than 25 of you youngsters i...</td>\n",
       "    </tr>\n",
       "    <tr>\n",
       "      <th>656</th>\n",
       "      <td>Fri Apr 29 14:33:07 +0000 2016</td>\n",
       "      <td>10783</td>\n",
       "      <td>Neil deGrasse Tyson</td>\n",
       "      <td>[]</td>\n",
       "      <td>2017-11-01 22:05:43.535041</td>\n",
       "      <td>4180</td>\n",
       "      <td>Subaru is what Japanese call the Pleiades clus...</td>\n",
       "    </tr>\n",
       "    <tr>\n",
       "      <th>440</th>\n",
       "      <td>Tue Dec 27 19:44:47 +0000 2016</td>\n",
       "      <td>37</td>\n",
       "      <td>Neil deGrasse Tyson</td>\n",
       "      <td>[]</td>\n",
       "      <td>2017-11-01 22:05:43.118807</td>\n",
       "      <td>4</td>\n",
       "      <td>@almostMo That was early in the Twitterverse. ...</td>\n",
       "    </tr>\n",
       "  </tbody>\n",
       "</table>\n",
       "</div>"
      ],
      "text/plain": [
       "                         created_at  favorite_count               handle  \\\n",
       "958  Thu Oct 30 01:26:11 +0000 2014            5105             Bill Nye   \n",
       "505  Thu Nov 03 02:02:20 +0000 2016            3821  Neil deGrasse Tyson   \n",
       "721  Fri Jun 19 19:00:54 +0000 2015             496             Bill Nye   \n",
       "656  Fri Apr 29 14:33:07 +0000 2016           10783  Neil deGrasse Tyson   \n",
       "440  Tue Dec 27 19:44:47 +0000 2016              37  Neil deGrasse Tyson   \n",
       "\n",
       "    hashtags                   mined_at  retweet_count  \\\n",
       "958       [] 2017-11-01 22:05:42.113659           7041   \n",
       "505       [] 2017-11-01 22:05:43.118962            284   \n",
       "721       [] 2017-11-01 22:05:41.792098             52   \n",
       "656       [] 2017-11-01 22:05:43.535041           4180   \n",
       "440       [] 2017-11-01 22:05:43.118807              4   \n",
       "\n",
       "                                                  text  \n",
       "958  World Series Science: don't dive into 1st base...  \n",
       "505                                          One more?  \n",
       "721  We're letting more than 25 of you youngsters i...  \n",
       "656  Subaru is what Japanese call the Pleiades clus...  \n",
       "440  @almostMo That was early in the Twitterverse. ...  "
      ]
     },
     "execution_count": 37,
     "metadata": {},
     "output_type": "execute_result"
    }
   ],
   "source": [
    "# combine the two user twitter datasets together\n",
    "\n",
    "data = pd.concat([bill_df, neil_df])\n",
    "data.sample(5)"
   ]
  },
  {
   "cell_type": "code",
   "execution_count": 38,
   "metadata": {
    "collapsed": false
   },
   "outputs": [
    {
     "data": {
      "text/html": [
       "<div>\n",
       "<style>\n",
       "    .dataframe thead tr:only-child th {\n",
       "        text-align: right;\n",
       "    }\n",
       "\n",
       "    .dataframe thead th {\n",
       "        text-align: left;\n",
       "    }\n",
       "\n",
       "    .dataframe tbody tr th {\n",
       "        vertical-align: top;\n",
       "    }\n",
       "</style>\n",
       "<table border=\"1\" class=\"dataframe\">\n",
       "  <thead>\n",
       "    <tr style=\"text-align: right;\">\n",
       "      <th></th>\n",
       "      <th>created_at</th>\n",
       "      <th>favorite_count</th>\n",
       "      <th>handle</th>\n",
       "      <th>hashtags</th>\n",
       "      <th>mined_at</th>\n",
       "      <th>retweet_count</th>\n",
       "      <th>text</th>\n",
       "      <th>user_label</th>\n",
       "    </tr>\n",
       "  </thead>\n",
       "  <tbody>\n",
       "    <tr>\n",
       "      <th>113</th>\n",
       "      <td>Thu Aug 10 13:14:33 +0000 2017</td>\n",
       "      <td>262287</td>\n",
       "      <td>Neil deGrasse Tyson</td>\n",
       "      <td>[]</td>\n",
       "      <td>2017-11-01 22:05:42.400611</td>\n",
       "      <td>111709</td>\n",
       "      <td>Odd. No one is in denial of America’s Aug 21 t...</td>\n",
       "      <td>1</td>\n",
       "    </tr>\n",
       "    <tr>\n",
       "      <th>150</th>\n",
       "      <td>Fri Jul 14 06:37:42 +0000 2017</td>\n",
       "      <td>6232</td>\n",
       "      <td>Neil deGrasse Tyson</td>\n",
       "      <td>[]</td>\n",
       "      <td>2017-11-01 22:05:42.400685</td>\n",
       "      <td>618</td>\n",
       "      <td>@iamliramusic If you've never been properly ta...</td>\n",
       "      <td>1</td>\n",
       "    </tr>\n",
       "    <tr>\n",
       "      <th>930</th>\n",
       "      <td>Fri Nov 13 17:32:34 +0000 2015</td>\n",
       "      <td>1476</td>\n",
       "      <td>Neil deGrasse Tyson</td>\n",
       "      <td>[]</td>\n",
       "      <td>2017-11-01 22:05:43.852549</td>\n",
       "      <td>389</td>\n",
       "      <td>Hey @JohnAllenPaulos, Why not come up with a n...</td>\n",
       "      <td>1</td>\n",
       "    </tr>\n",
       "    <tr>\n",
       "      <th>534</th>\n",
       "      <td>Sun Oct 02 21:14:48 +0000 2016</td>\n",
       "      <td>28692</td>\n",
       "      <td>Neil deGrasse Tyson</td>\n",
       "      <td>[]</td>\n",
       "      <td>2017-11-01 22:05:43.119020</td>\n",
       "      <td>14799</td>\n",
       "      <td>The urge to want some bit of information to be...</td>\n",
       "      <td>1</td>\n",
       "    </tr>\n",
       "    <tr>\n",
       "      <th>167</th>\n",
       "      <td>Mon Jun 26 00:47:35 +0000 2017</td>\n",
       "      <td>31582</td>\n",
       "      <td>Neil deGrasse Tyson</td>\n",
       "      <td>[]</td>\n",
       "      <td>2017-11-01 22:05:42.400713</td>\n",
       "      <td>6201</td>\n",
       "      <td>Thought I saw a dino-Transformer eat a Car.  S...</td>\n",
       "      <td>1</td>\n",
       "    </tr>\n",
       "  </tbody>\n",
       "</table>\n",
       "</div>"
      ],
      "text/plain": [
       "                         created_at  favorite_count               handle  \\\n",
       "113  Thu Aug 10 13:14:33 +0000 2017          262287  Neil deGrasse Tyson   \n",
       "150  Fri Jul 14 06:37:42 +0000 2017            6232  Neil deGrasse Tyson   \n",
       "930  Fri Nov 13 17:32:34 +0000 2015            1476  Neil deGrasse Tyson   \n",
       "534  Sun Oct 02 21:14:48 +0000 2016           28692  Neil deGrasse Tyson   \n",
       "167  Mon Jun 26 00:47:35 +0000 2017           31582  Neil deGrasse Tyson   \n",
       "\n",
       "    hashtags                   mined_at  retweet_count  \\\n",
       "113       [] 2017-11-01 22:05:42.400611         111709   \n",
       "150       [] 2017-11-01 22:05:42.400685            618   \n",
       "930       [] 2017-11-01 22:05:43.852549            389   \n",
       "534       [] 2017-11-01 22:05:43.119020          14799   \n",
       "167       [] 2017-11-01 22:05:42.400713           6201   \n",
       "\n",
       "                                                  text  user_label  \n",
       "113  Odd. No one is in denial of America’s Aug 21 t...           1  \n",
       "150  @iamliramusic If you've never been properly ta...           1  \n",
       "930  Hey @JohnAllenPaulos, Why not come up with a n...           1  \n",
       "534  The urge to want some bit of information to be...           1  \n",
       "167  Thought I saw a dino-Transformer eat a Car.  S...           1  "
      ]
     },
     "execution_count": 38,
     "metadata": {},
     "output_type": "execute_result"
    }
   ],
   "source": [
    "#label the two users.\n",
    "\n",
    "data['user_label'] = data['handle'].map({'Bill Nye': 0, 'Neil deGrasse Tyson': 1})\n",
    "data.sample(5)\n"
   ]
  },
  {
   "cell_type": "code",
   "execution_count": 39,
   "metadata": {
    "collapsed": false
   },
   "outputs": [],
   "source": [
    "# Define independent & dependent variable.\n",
    "# In this case, the independent variable is the twitter text. The dependent variable would be the user_label.\n",
    "\n",
    "X = data['text']\n",
    "y = data['user_label'].values"
   ]
  },
  {
   "cell_type": "code",
   "execution_count": 40,
   "metadata": {
    "collapsed": false
   },
   "outputs": [],
   "source": [
    "# Splitting the dataset into the Training set and Test set.\n",
    "# Since the dataset has 2000 tweets, I user 90% for training and 10% for testing.\n",
    "\n",
    "from sklearn.model_selection import train_test_split\n",
    "X_train, X_test, y_train, y_test = train_test_split(X, y, test_size = 0.1)"
   ]
  },
  {
   "cell_type": "markdown",
   "metadata": {},
   "source": [
    "#### Since we are training a computer to learn words and computer only understands numbers, we must convert the tweets into numbers. This process is called vertorization or Bag of Words.\n",
    "#### skit-learn has a few packges that can perform this task. The most commone ones are CountVectorizer,  HashingVectorizer, and TfidfVectorizer. \n",
    "#### In this case, I am using CountVectorizer to create Bag of Words. CountVectorizer turns a collection of words into numbers and counts the occurrence of each word appear in the twitter dataset.\n",
    "#### When the tweets are vectorized, they are being transformed into a document-term matrix, short for dtm. Each word (term) will be treated as an independent variable.\n",
    "\n"
   ]
  },
  {
   "cell_type": "code",
   "execution_count": 41,
   "metadata": {
    "collapsed": false
   },
   "outputs": [
    {
     "data": {
      "text/plain": [
       "CountVectorizer(analyzer=u'word', binary=False, decode_error=u'strict',\n",
       "        dtype=<type 'numpy.int64'>, encoding=u'utf-8', input=u'content',\n",
       "        lowercase=True, max_df=1.0, max_features=1500, min_df=1,\n",
       "        ngram_range=(1, 1), preprocessor=None, stop_words=None,\n",
       "        strip_accents=None, token_pattern=u'(?u)\\\\b\\\\w\\\\w+\\\\b',\n",
       "        tokenizer=None, vocabulary=None)"
      ]
     },
     "execution_count": 41,
     "metadata": {},
     "output_type": "execute_result"
    }
   ],
   "source": [
    "# Create the Bag of Words model\n",
    "from sklearn.feature_extraction.text import CountVectorizer\n",
    "\n",
    "# Once the corpus is being vectorized and each individual word transfomred into a feature,\n",
    "# there will be thousands of features. We may just want to use the the most common 1500 words (features)\n",
    "\n",
    "vect = CountVectorizer(max_features = 1500)\n",
    "\n",
    "# First fit the corpus\n",
    "vect.fit(X_train)"
   ]
  },
  {
   "cell_type": "code",
   "execution_count": 42,
   "metadata": {
    "collapsed": false,
    "scrolled": false
   },
   "outputs": [
    {
     "name": "stdout",
     "output_type": "stream",
     "text": [
      "[u'00', u'10', u'10th', u'12', u'14', u'16', u'18', u'1989', u'1st', u'2000', u'2015', u'2017', u'22', u'25', u'27', u'2m', u'30', u'30s', u'3min', u'400', u'50', u'8clu8h6rri', u'able', u'above', u'across']\n"
     ]
    }
   ],
   "source": [
    "print (vect.get_feature_names()[:50:2])"
   ]
  },
  {
   "cell_type": "code",
   "execution_count": 43,
   "metadata": {
    "collapsed": false,
    "scrolled": true
   },
   "outputs": [
    {
     "data": {
      "text/plain": [
       "<1800x1500 sparse matrix of type '<type 'numpy.int64'>'\n",
       "\twith 21949 stored elements in Compressed Sparse Row format>"
      ]
     },
     "execution_count": 43,
     "metadata": {},
     "output_type": "execute_result"
    }
   ],
   "source": [
    "# Then transform the training independent dataset into document term matrix. I called it X_train_dtm\n",
    "\n",
    "X_train_dtm = vect.transform(X_train)\n",
    "X_train_dtm"
   ]
  },
  {
   "cell_type": "code",
   "execution_count": 44,
   "metadata": {
    "collapsed": false
   },
   "outputs": [
    {
     "data": {
      "text/plain": [
       "array([[0, 0, 0, ..., 0, 0, 0],\n",
       "       [0, 0, 0, ..., 0, 0, 0],\n",
       "       [0, 0, 0, ..., 0, 0, 0],\n",
       "       ..., \n",
       "       [0, 0, 0, ..., 0, 0, 0],\n",
       "       [0, 0, 0, ..., 0, 0, 0],\n",
       "       [0, 0, 0, ..., 0, 0, 0]])"
      ]
     },
     "execution_count": 44,
     "metadata": {},
     "output_type": "execute_result"
    }
   ],
   "source": [
    "X_train_dtm = X_train_dtm.toarray()\n",
    "X_train_dtm"
   ]
  },
  {
   "cell_type": "code",
   "execution_count": 45,
   "metadata": {
    "collapsed": false,
    "scrolled": true
   },
   "outputs": [
    {
     "data": {
      "text/html": [
       "<div>\n",
       "<style>\n",
       "    .dataframe thead tr:only-child th {\n",
       "        text-align: right;\n",
       "    }\n",
       "\n",
       "    .dataframe thead th {\n",
       "        text-align: left;\n",
       "    }\n",
       "\n",
       "    .dataframe tbody tr th {\n",
       "        vertical-align: top;\n",
       "    }\n",
       "</style>\n",
       "<table border=\"1\" class=\"dataframe\">\n",
       "  <thead>\n",
       "    <tr style=\"text-align: right;\">\n",
       "      <th></th>\n",
       "      <th>00</th>\n",
       "      <th>000</th>\n",
       "      <th>10</th>\n",
       "      <th>100</th>\n",
       "      <th>10th</th>\n",
       "      <th>11</th>\n",
       "      <th>12</th>\n",
       "      <th>13</th>\n",
       "      <th>14</th>\n",
       "      <th>15</th>\n",
       "      <th>...</th>\n",
       "      <th>you</th>\n",
       "      <th>young</th>\n",
       "      <th>your</th>\n",
       "      <th>yours</th>\n",
       "      <th>yourself</th>\n",
       "      <th>yrs</th>\n",
       "      <th>yup</th>\n",
       "      <th>yuuup</th>\n",
       "      <th>zeitgeistfilm</th>\n",
       "      <th>zero</th>\n",
       "    </tr>\n",
       "  </thead>\n",
       "  <tbody>\n",
       "    <tr>\n",
       "      <th>0</th>\n",
       "      <td>0</td>\n",
       "      <td>0</td>\n",
       "      <td>0</td>\n",
       "      <td>0</td>\n",
       "      <td>0</td>\n",
       "      <td>0</td>\n",
       "      <td>0</td>\n",
       "      <td>0</td>\n",
       "      <td>0</td>\n",
       "      <td>0</td>\n",
       "      <td>...</td>\n",
       "      <td>0</td>\n",
       "      <td>0</td>\n",
       "      <td>0</td>\n",
       "      <td>0</td>\n",
       "      <td>0</td>\n",
       "      <td>0</td>\n",
       "      <td>0</td>\n",
       "      <td>0</td>\n",
       "      <td>0</td>\n",
       "      <td>0</td>\n",
       "    </tr>\n",
       "    <tr>\n",
       "      <th>1</th>\n",
       "      <td>0</td>\n",
       "      <td>0</td>\n",
       "      <td>0</td>\n",
       "      <td>0</td>\n",
       "      <td>0</td>\n",
       "      <td>0</td>\n",
       "      <td>0</td>\n",
       "      <td>0</td>\n",
       "      <td>0</td>\n",
       "      <td>0</td>\n",
       "      <td>...</td>\n",
       "      <td>0</td>\n",
       "      <td>0</td>\n",
       "      <td>0</td>\n",
       "      <td>0</td>\n",
       "      <td>0</td>\n",
       "      <td>0</td>\n",
       "      <td>0</td>\n",
       "      <td>0</td>\n",
       "      <td>0</td>\n",
       "      <td>0</td>\n",
       "    </tr>\n",
       "    <tr>\n",
       "      <th>2</th>\n",
       "      <td>0</td>\n",
       "      <td>0</td>\n",
       "      <td>0</td>\n",
       "      <td>0</td>\n",
       "      <td>0</td>\n",
       "      <td>0</td>\n",
       "      <td>0</td>\n",
       "      <td>0</td>\n",
       "      <td>0</td>\n",
       "      <td>0</td>\n",
       "      <td>...</td>\n",
       "      <td>2</td>\n",
       "      <td>0</td>\n",
       "      <td>1</td>\n",
       "      <td>0</td>\n",
       "      <td>0</td>\n",
       "      <td>0</td>\n",
       "      <td>0</td>\n",
       "      <td>0</td>\n",
       "      <td>0</td>\n",
       "      <td>0</td>\n",
       "    </tr>\n",
       "    <tr>\n",
       "      <th>3</th>\n",
       "      <td>0</td>\n",
       "      <td>0</td>\n",
       "      <td>0</td>\n",
       "      <td>0</td>\n",
       "      <td>0</td>\n",
       "      <td>0</td>\n",
       "      <td>0</td>\n",
       "      <td>0</td>\n",
       "      <td>0</td>\n",
       "      <td>0</td>\n",
       "      <td>...</td>\n",
       "      <td>0</td>\n",
       "      <td>0</td>\n",
       "      <td>0</td>\n",
       "      <td>0</td>\n",
       "      <td>0</td>\n",
       "      <td>0</td>\n",
       "      <td>0</td>\n",
       "      <td>0</td>\n",
       "      <td>0</td>\n",
       "      <td>0</td>\n",
       "    </tr>\n",
       "    <tr>\n",
       "      <th>4</th>\n",
       "      <td>0</td>\n",
       "      <td>0</td>\n",
       "      <td>0</td>\n",
       "      <td>0</td>\n",
       "      <td>0</td>\n",
       "      <td>0</td>\n",
       "      <td>0</td>\n",
       "      <td>0</td>\n",
       "      <td>0</td>\n",
       "      <td>0</td>\n",
       "      <td>...</td>\n",
       "      <td>1</td>\n",
       "      <td>0</td>\n",
       "      <td>0</td>\n",
       "      <td>0</td>\n",
       "      <td>0</td>\n",
       "      <td>0</td>\n",
       "      <td>0</td>\n",
       "      <td>0</td>\n",
       "      <td>0</td>\n",
       "      <td>0</td>\n",
       "    </tr>\n",
       "  </tbody>\n",
       "</table>\n",
       "<p>5 rows × 1500 columns</p>\n",
       "</div>"
      ],
      "text/plain": [
       "   00  000  10  100  10th  11  12  13  14  15  ...   you  young  your  yours  \\\n",
       "0   0    0   0    0     0   0   0   0   0   0  ...     0      0     0      0   \n",
       "1   0    0   0    0     0   0   0   0   0   0  ...     0      0     0      0   \n",
       "2   0    0   0    0     0   0   0   0   0   0  ...     2      0     1      0   \n",
       "3   0    0   0    0     0   0   0   0   0   0  ...     0      0     0      0   \n",
       "4   0    0   0    0     0   0   0   0   0   0  ...     1      0     0      0   \n",
       "\n",
       "   yourself  yrs  yup  yuuup  zeitgeistfilm  zero  \n",
       "0         0    0    0      0              0     0  \n",
       "1         0    0    0      0              0     0  \n",
       "2         0    0    0      0              0     0  \n",
       "3         0    0    0      0              0     0  \n",
       "4         0    0    0      0              0     0  \n",
       "\n",
       "[5 rows x 1500 columns]"
      ]
     },
     "execution_count": 45,
     "metadata": {},
     "output_type": "execute_result"
    }
   ],
   "source": [
    "# Take a look at how the corpus being vectorized. \n",
    "\n",
    "pd.DataFrame(X_train_dtm, columns = vect.get_feature_names()).head()"
   ]
  },
  {
   "cell_type": "markdown",
   "metadata": {},
   "source": [
    "#### As you can see, the vectorization process turns each individual word into a feature. \n",
    "#### Most people typically use a very small subset of words frequently. This resulting matrix will have many feature values that are zeros (99% of them).\n",
    "#### For example, the collection of these 2000 tweets may contain 10,000 unique words in total. Each tweet usually use less than 20 unique words. Twitter only allows you to less than 140 characters anyway. \n",
    "#### Choosing 1500 words (features) should be sufficient.\n"
   ]
  },
  {
   "cell_type": "markdown",
   "metadata": {},
   "source": [
    "## Model Selection"
   ]
  },
  {
   "cell_type": "markdown",
   "metadata": {},
   "source": [
    "### 1) Gaussian Naive Bayes"
   ]
  },
  {
   "cell_type": "markdown",
   "metadata": {},
   "source": [
    "One of the most common algorithms for classifier prediction on Natural Language Processing is Gaussian Naive Bayes. This algorithm is based on Baynes Theorem, conditional probability. In this case, we are trying to find out the likelihood of a tweet from either Bill or Neil given the features(the words)."
   ]
  },
  {
   "cell_type": "code",
   "execution_count": 46,
   "metadata": {
    "collapsed": false
   },
   "outputs": [
    {
     "data": {
      "text/plain": [
       "GaussianNB(priors=None)"
      ]
     },
     "execution_count": 46,
     "metadata": {},
     "output_type": "execute_result"
    }
   ],
   "source": [
    "from sklearn.naive_bayes import GaussianNB\n",
    "gaunb = GaussianNB()\n",
    "gaunb.fit(X_train_dtm, y_train )"
   ]
  },
  {
   "cell_type": "code",
   "execution_count": 47,
   "metadata": {
    "collapsed": false
   },
   "outputs": [
    {
     "data": {
      "text/plain": [
       "array([[0, 0, 1, ..., 0, 0, 0],\n",
       "       [0, 0, 0, ..., 0, 0, 0],\n",
       "       [0, 0, 0, ..., 0, 0, 0],\n",
       "       ..., \n",
       "       [0, 0, 0, ..., 0, 0, 0],\n",
       "       [0, 0, 0, ..., 0, 0, 0],\n",
       "       [0, 0, 0, ..., 0, 0, 0]])"
      ]
     },
     "execution_count": 47,
     "metadata": {},
     "output_type": "execute_result"
    }
   ],
   "source": [
    "# In order to make a prediction, the test tweets must have the same features as \n",
    "# the training tweets, both in number and meaning. \n",
    "# Therefore, we also need to transform the X_test tweets into document-term matrix.\n",
    "\n",
    "X_test_dtm = vect.transform(X_test)\n",
    "X_test_dtm = X_test_dtm.toarray()\n",
    "X_test_dtm\n"
   ]
  },
  {
   "cell_type": "code",
   "execution_count": 48,
   "metadata": {
    "collapsed": false,
    "scrolled": true
   },
   "outputs": [
    {
     "data": {
      "text/html": [
       "<div>\n",
       "<style>\n",
       "    .dataframe thead tr:only-child th {\n",
       "        text-align: right;\n",
       "    }\n",
       "\n",
       "    .dataframe thead th {\n",
       "        text-align: left;\n",
       "    }\n",
       "\n",
       "    .dataframe tbody tr th {\n",
       "        vertical-align: top;\n",
       "    }\n",
       "</style>\n",
       "<table border=\"1\" class=\"dataframe\">\n",
       "  <thead>\n",
       "    <tr style=\"text-align: right;\">\n",
       "      <th></th>\n",
       "      <th>00</th>\n",
       "      <th>000</th>\n",
       "      <th>10</th>\n",
       "      <th>100</th>\n",
       "      <th>10th</th>\n",
       "      <th>11</th>\n",
       "      <th>12</th>\n",
       "      <th>13</th>\n",
       "      <th>14</th>\n",
       "      <th>15</th>\n",
       "      <th>...</th>\n",
       "      <th>you</th>\n",
       "      <th>young</th>\n",
       "      <th>your</th>\n",
       "      <th>yours</th>\n",
       "      <th>yourself</th>\n",
       "      <th>yrs</th>\n",
       "      <th>yup</th>\n",
       "      <th>yuuup</th>\n",
       "      <th>zeitgeistfilm</th>\n",
       "      <th>zero</th>\n",
       "    </tr>\n",
       "  </thead>\n",
       "  <tbody>\n",
       "    <tr>\n",
       "      <th>0</th>\n",
       "      <td>0</td>\n",
       "      <td>0</td>\n",
       "      <td>1</td>\n",
       "      <td>0</td>\n",
       "      <td>0</td>\n",
       "      <td>0</td>\n",
       "      <td>0</td>\n",
       "      <td>0</td>\n",
       "      <td>0</td>\n",
       "      <td>0</td>\n",
       "      <td>...</td>\n",
       "      <td>0</td>\n",
       "      <td>0</td>\n",
       "      <td>0</td>\n",
       "      <td>0</td>\n",
       "      <td>0</td>\n",
       "      <td>0</td>\n",
       "      <td>0</td>\n",
       "      <td>0</td>\n",
       "      <td>0</td>\n",
       "      <td>0</td>\n",
       "    </tr>\n",
       "    <tr>\n",
       "      <th>1</th>\n",
       "      <td>0</td>\n",
       "      <td>0</td>\n",
       "      <td>0</td>\n",
       "      <td>0</td>\n",
       "      <td>0</td>\n",
       "      <td>0</td>\n",
       "      <td>0</td>\n",
       "      <td>0</td>\n",
       "      <td>0</td>\n",
       "      <td>0</td>\n",
       "      <td>...</td>\n",
       "      <td>0</td>\n",
       "      <td>0</td>\n",
       "      <td>0</td>\n",
       "      <td>0</td>\n",
       "      <td>0</td>\n",
       "      <td>0</td>\n",
       "      <td>0</td>\n",
       "      <td>0</td>\n",
       "      <td>0</td>\n",
       "      <td>0</td>\n",
       "    </tr>\n",
       "    <tr>\n",
       "      <th>2</th>\n",
       "      <td>0</td>\n",
       "      <td>0</td>\n",
       "      <td>0</td>\n",
       "      <td>0</td>\n",
       "      <td>0</td>\n",
       "      <td>0</td>\n",
       "      <td>0</td>\n",
       "      <td>0</td>\n",
       "      <td>0</td>\n",
       "      <td>0</td>\n",
       "      <td>...</td>\n",
       "      <td>0</td>\n",
       "      <td>0</td>\n",
       "      <td>0</td>\n",
       "      <td>0</td>\n",
       "      <td>0</td>\n",
       "      <td>0</td>\n",
       "      <td>0</td>\n",
       "      <td>0</td>\n",
       "      <td>0</td>\n",
       "      <td>0</td>\n",
       "    </tr>\n",
       "    <tr>\n",
       "      <th>3</th>\n",
       "      <td>0</td>\n",
       "      <td>0</td>\n",
       "      <td>0</td>\n",
       "      <td>0</td>\n",
       "      <td>0</td>\n",
       "      <td>0</td>\n",
       "      <td>0</td>\n",
       "      <td>0</td>\n",
       "      <td>0</td>\n",
       "      <td>0</td>\n",
       "      <td>...</td>\n",
       "      <td>1</td>\n",
       "      <td>0</td>\n",
       "      <td>1</td>\n",
       "      <td>0</td>\n",
       "      <td>0</td>\n",
       "      <td>0</td>\n",
       "      <td>0</td>\n",
       "      <td>0</td>\n",
       "      <td>0</td>\n",
       "      <td>0</td>\n",
       "    </tr>\n",
       "    <tr>\n",
       "      <th>4</th>\n",
       "      <td>0</td>\n",
       "      <td>0</td>\n",
       "      <td>0</td>\n",
       "      <td>0</td>\n",
       "      <td>0</td>\n",
       "      <td>0</td>\n",
       "      <td>0</td>\n",
       "      <td>0</td>\n",
       "      <td>0</td>\n",
       "      <td>0</td>\n",
       "      <td>...</td>\n",
       "      <td>0</td>\n",
       "      <td>0</td>\n",
       "      <td>0</td>\n",
       "      <td>0</td>\n",
       "      <td>0</td>\n",
       "      <td>0</td>\n",
       "      <td>0</td>\n",
       "      <td>0</td>\n",
       "      <td>0</td>\n",
       "      <td>0</td>\n",
       "    </tr>\n",
       "  </tbody>\n",
       "</table>\n",
       "<p>5 rows × 1500 columns</p>\n",
       "</div>"
      ],
      "text/plain": [
       "   00  000  10  100  10th  11  12  13  14  15  ...   you  young  your  yours  \\\n",
       "0   0    0   1    0     0   0   0   0   0   0  ...     0      0     0      0   \n",
       "1   0    0   0    0     0   0   0   0   0   0  ...     0      0     0      0   \n",
       "2   0    0   0    0     0   0   0   0   0   0  ...     0      0     0      0   \n",
       "3   0    0   0    0     0   0   0   0   0   0  ...     1      0     1      0   \n",
       "4   0    0   0    0     0   0   0   0   0   0  ...     0      0     0      0   \n",
       "\n",
       "   yourself  yrs  yup  yuuup  zeitgeistfilm  zero  \n",
       "0         0    0    0      0              0     0  \n",
       "1         0    0    0      0              0     0  \n",
       "2         0    0    0      0              0     0  \n",
       "3         0    0    0      0              0     0  \n",
       "4         0    0    0      0              0     0  \n",
       "\n",
       "[5 rows x 1500 columns]"
      ]
     },
     "execution_count": 48,
     "metadata": {},
     "output_type": "execute_result"
    }
   ],
   "source": [
    "pd.DataFrame(X_test_dtm, columns = vect.get_feature_names()).head()"
   ]
  },
  {
   "cell_type": "code",
   "execution_count": 49,
   "metadata": {
    "collapsed": true
   },
   "outputs": [],
   "source": [
    "# make predictions\n",
    "\n",
    "y_pred_gaunb = gaunb.predict(X_test_dtm)"
   ]
  },
  {
   "cell_type": "code",
   "execution_count": 50,
   "metadata": {
    "collapsed": false
   },
   "outputs": [
    {
     "data": {
      "text/plain": [
       "0.80500000000000005"
      ]
     },
     "execution_count": 50,
     "metadata": {},
     "output_type": "execute_result"
    }
   ],
   "source": [
    "# OK, now let's see how accurate the predictions are\n",
    "\n",
    "from sklearn import metrics\n",
    "\n",
    "metrics.accuracy_score(y_test, y_pred_gaunb)"
   ]
  },
  {
   "cell_type": "markdown",
   "metadata": {},
   "source": [
    "### 85% accuracy.  That's not bad. \n",
    "#### Let's look at the confusion matrix to find out the actual and predictions"
   ]
  },
  {
   "cell_type": "code",
   "execution_count": 51,
   "metadata": {
    "collapsed": false
   },
   "outputs": [
    {
     "data": {
      "text/html": [
       "<div>\n",
       "<style>\n",
       "    .dataframe thead tr:only-child th {\n",
       "        text-align: right;\n",
       "    }\n",
       "\n",
       "    .dataframe thead th {\n",
       "        text-align: left;\n",
       "    }\n",
       "\n",
       "    .dataframe tbody tr th {\n",
       "        vertical-align: top;\n",
       "    }\n",
       "</style>\n",
       "<table border=\"1\" class=\"dataframe\">\n",
       "  <thead>\n",
       "    <tr style=\"text-align: right;\">\n",
       "      <th></th>\n",
       "      <th>Predicted: Bill</th>\n",
       "      <th>Predicted: Neil</th>\n",
       "    </tr>\n",
       "  </thead>\n",
       "  <tbody>\n",
       "    <tr>\n",
       "      <th>Actual: Bill</th>\n",
       "      <td>87</td>\n",
       "      <td>4</td>\n",
       "    </tr>\n",
       "    <tr>\n",
       "      <th>Actual: Neil</th>\n",
       "      <td>35</td>\n",
       "      <td>74</td>\n",
       "    </tr>\n",
       "  </tbody>\n",
       "</table>\n",
       "</div>"
      ],
      "text/plain": [
       "              Predicted: Bill  Predicted: Neil\n",
       "Actual: Bill               87                4\n",
       "Actual: Neil               35               74"
      ]
     },
     "execution_count": 51,
     "metadata": {},
     "output_type": "execute_result"
    }
   ],
   "source": [
    "confusion_gaunb = metrics.confusion_matrix(y_test, y_pred_gaunb)\n",
    "confusion_matrix_gaunb = pd.DataFrame(confusion_gaunb, index = ['Actual: Bill', 'Actual: Neil'],\n",
    "                               columns = ['Predicted: Bill', 'Predicted: Neil'])\n",
    "confusion_matrix_gaunb"
   ]
  },
  {
   "cell_type": "markdown",
   "metadata": {},
   "source": [
    "#### Out of 200 tweets, 171 tweets are predicted accurately.\n",
    "#### 23 Neil's tweets incorrectly identified as Bill's. 6 Bill's tweets incorrectly identified as Neil's. \n",
    "\n",
    "#### Let's see which tweets were incorrectly identified. "
   ]
  },
  {
   "cell_type": "code",
   "execution_count": 52,
   "metadata": {
    "collapsed": false
   },
   "outputs": [
    {
     "data": {
      "text/html": [
       "<div>\n",
       "<style>\n",
       "    .dataframe thead tr:only-child th {\n",
       "        text-align: right;\n",
       "    }\n",
       "\n",
       "    .dataframe thead th {\n",
       "        text-align: left;\n",
       "    }\n",
       "\n",
       "    .dataframe tbody tr th {\n",
       "        vertical-align: top;\n",
       "    }\n",
       "</style>\n",
       "<table border=\"1\" class=\"dataframe\">\n",
       "  <thead>\n",
       "    <tr style=\"text-align: right;\">\n",
       "      <th></th>\n",
       "      <th>text</th>\n",
       "    </tr>\n",
       "  </thead>\n",
       "  <tbody>\n",
       "    <tr>\n",
       "      <th>687</th>\n",
       "      <td>Flying By that Pluto! http://t.co/QItRUmqeRB</td>\n",
       "    </tr>\n",
       "    <tr>\n",
       "      <th>878</th>\n",
       "      <td>If you're following @neiltyson, wheels not har...</td>\n",
       "    </tr>\n",
       "    <tr>\n",
       "      <th>731</th>\n",
       "      <td>Orbit will decay pretty quickly now that sail ...</td>\n",
       "    </tr>\n",
       "    <tr>\n",
       "      <th>641</th>\n",
       "      <td>RT @RollingStone: The worst impacts of climate...</td>\n",
       "    </tr>\n",
       "  </tbody>\n",
       "</table>\n",
       "</div>"
      ],
      "text/plain": [
       "                                                  text\n",
       "687       Flying By that Pluto! http://t.co/QItRUmqeRB\n",
       "878  If you're following @neiltyson, wheels not har...\n",
       "731  Orbit will decay pretty quickly now that sail ...\n",
       "641  RT @RollingStone: The worst impacts of climate..."
      ]
     },
     "execution_count": 52,
     "metadata": {},
     "output_type": "execute_result"
    }
   ],
   "source": [
    "# Refer to the user label, 0 is Bill and 1 is Neil.\n",
    "# Check Bill's tweets incorrectly identified as Neil's\n",
    "# If the label in y_test is 0 and y_pred is 1, this means the Bill's tweets are incorrectly identified as Neil's. \n",
    "\n",
    "incorrect_bill_prediction = pd.DataFrame(X_test[y_test < y_pred_gaunb])\n",
    "incorrect_bill_prediction"
   ]
  },
  {
   "cell_type": "markdown",
   "metadata": {},
   "source": [
    "Both Bill and Neil tweet about climate change and cosmos a lot. These tweets here also sound like Neil's. "
   ]
  },
  {
   "cell_type": "code",
   "execution_count": 53,
   "metadata": {
    "collapsed": false
   },
   "outputs": [
    {
     "data": {
      "text/html": [
       "<div>\n",
       "<style>\n",
       "    .dataframe thead tr:only-child th {\n",
       "        text-align: right;\n",
       "    }\n",
       "\n",
       "    .dataframe thead th {\n",
       "        text-align: left;\n",
       "    }\n",
       "\n",
       "    .dataframe tbody tr th {\n",
       "        vertical-align: top;\n",
       "    }\n",
       "</style>\n",
       "<table border=\"1\" class=\"dataframe\">\n",
       "  <thead>\n",
       "    <tr style=\"text-align: right;\">\n",
       "      <th></th>\n",
       "      <th>text</th>\n",
       "    </tr>\n",
       "  </thead>\n",
       "  <tbody>\n",
       "    <tr>\n",
       "      <th>222</th>\n",
       "      <td>@wizardofAz @StarTalkRadio @Gladwell https://t...</td>\n",
       "    </tr>\n",
       "    <tr>\n",
       "      <th>722</th>\n",
       "      <td>If you have a gene for celibacy, you didn’t in...</td>\n",
       "    </tr>\n",
       "    <tr>\n",
       "      <th>7</th>\n",
       "      <td>I still think there should be a dinosaur named...</td>\n",
       "    </tr>\n",
       "    <tr>\n",
       "      <th>676</th>\n",
       "      <td>Feelin’ Earthy today…</td>\n",
       "    </tr>\n",
       "    <tr>\n",
       "      <th>519</th>\n",
       "      <td>@makoty5 Welcome to Twitter.</td>\n",
       "    </tr>\n",
       "  </tbody>\n",
       "</table>\n",
       "</div>"
      ],
      "text/plain": [
       "                                                  text\n",
       "222  @wizardofAz @StarTalkRadio @Gladwell https://t...\n",
       "722  If you have a gene for celibacy, you didn’t in...\n",
       "7    I still think there should be a dinosaur named...\n",
       "676                              Feelin’ Earthy today…\n",
       "519                       @makoty5 Welcome to Twitter."
      ]
     },
     "execution_count": 53,
     "metadata": {},
     "output_type": "execute_result"
    }
   ],
   "source": [
    "# Check Neil's tweets incorrectly identified as Bill's\n",
    "# Similary, iff the label in y_test is 1 and y_pred is 0, this means the Neil's tweets are incorrectly \n",
    "# identified as Bill's. \n",
    "\n",
    "incorrect_neil_prediction = pd.DataFrame(X_test[y_test > y_pred_gaunb])\n",
    "incorrect_neil_prediction.sample(5)"
   ]
  },
  {
   "cell_type": "markdown",
   "metadata": {},
   "source": [
    "On line item 834, Bill tweets about film many times. billnyefilm is one of the most mentioned word in Bill's tweet. This may cause some confusion to the machine.  "
   ]
  },
  {
   "cell_type": "code",
   "execution_count": 54,
   "metadata": {
    "collapsed": true
   },
   "outputs": [],
   "source": [
    "# Let's check prediction probability\n",
    "\n",
    "y_pred_prob_gaunb = gaunb.predict_proba(X_test_dtm)[:, 1]"
   ]
  },
  {
   "cell_type": "code",
   "execution_count": 55,
   "metadata": {
    "collapsed": false,
    "scrolled": true
   },
   "outputs": [
    {
     "data": {
      "text/plain": [
       "0.90840810565581198"
      ]
     },
     "execution_count": 55,
     "metadata": {},
     "output_type": "execute_result"
    }
   ],
   "source": [
    "metrics.roc_auc_score(y_test, y_pred_prob_gaunb)"
   ]
  },
  {
   "cell_type": "markdown",
   "metadata": {},
   "source": [
    "### 92.49%. That is quite good. "
   ]
  },
  {
   "cell_type": "markdown",
   "metadata": {},
   "source": [
    "### 2) Logistic Regression"
   ]
  },
  {
   "cell_type": "markdown",
   "metadata": {},
   "source": [
    "Another very effective algorithm on binary classifiction prediction is Logistic Regression. This is based on odd ratio. In this case, what is the odd of a tweet coming from Bill or Neil. \n",
    "\n",
    "Let's try if Logistic Regression can improve prediction accuracy."
   ]
  },
  {
   "cell_type": "code",
   "execution_count": 56,
   "metadata": {
    "collapsed": false
   },
   "outputs": [
    {
     "data": {
      "text/plain": [
       "LogisticRegression(C=1.0, class_weight=None, dual=False, fit_intercept=True,\n",
       "          intercept_scaling=1, max_iter=100, multi_class='ovr', n_jobs=1,\n",
       "          penalty='l2', random_state=None, solver='liblinear', tol=0.0001,\n",
       "          verbose=0, warm_start=False)"
      ]
     },
     "execution_count": 56,
     "metadata": {},
     "output_type": "execute_result"
    }
   ],
   "source": [
    "from sklearn.linear_model import LogisticRegression\n",
    "logit = LogisticRegression()\n",
    "logit.fit(X_train_dtm, y_train )"
   ]
  },
  {
   "cell_type": "code",
   "execution_count": 57,
   "metadata": {
    "collapsed": true
   },
   "outputs": [],
   "source": [
    "# Make predictions using Logistic Regression model\n",
    "\n",
    "y_pred_logit = logit.predict(X_test_dtm)"
   ]
  },
  {
   "cell_type": "code",
   "execution_count": 58,
   "metadata": {
    "collapsed": false,
    "scrolled": true
   },
   "outputs": [
    {
     "data": {
      "text/plain": [
       "0.90500000000000003"
      ]
     },
     "execution_count": 58,
     "metadata": {},
     "output_type": "execute_result"
    }
   ],
   "source": [
    "# Check Logistic Regression prediction accuracy rate\n",
    "\n",
    "metrics.accuracy_score(y_test, y_pred_logit)"
   ]
  },
  {
   "cell_type": "markdown",
   "metadata": {},
   "source": [
    "**92% accuracy, not bad! **"
   ]
  },
  {
   "cell_type": "code",
   "execution_count": 59,
   "metadata": {
    "collapsed": false,
    "scrolled": true
   },
   "outputs": [
    {
     "data": {
      "text/html": [
       "<div>\n",
       "<style>\n",
       "    .dataframe thead tr:only-child th {\n",
       "        text-align: right;\n",
       "    }\n",
       "\n",
       "    .dataframe thead th {\n",
       "        text-align: left;\n",
       "    }\n",
       "\n",
       "    .dataframe tbody tr th {\n",
       "        vertical-align: top;\n",
       "    }\n",
       "</style>\n",
       "<table border=\"1\" class=\"dataframe\">\n",
       "  <thead>\n",
       "    <tr style=\"text-align: right;\">\n",
       "      <th></th>\n",
       "      <th>Predicted: Bill</th>\n",
       "      <th>Predicted: Neil</th>\n",
       "    </tr>\n",
       "  </thead>\n",
       "  <tbody>\n",
       "    <tr>\n",
       "      <th>Actual: Bill</th>\n",
       "      <td>84</td>\n",
       "      <td>7</td>\n",
       "    </tr>\n",
       "    <tr>\n",
       "      <th>Actual: Neil</th>\n",
       "      <td>12</td>\n",
       "      <td>97</td>\n",
       "    </tr>\n",
       "  </tbody>\n",
       "</table>\n",
       "</div>"
      ],
      "text/plain": [
       "              Predicted: Bill  Predicted: Neil\n",
       "Actual: Bill               84                7\n",
       "Actual: Neil               12               97"
      ]
     },
     "execution_count": 59,
     "metadata": {},
     "output_type": "execute_result"
    }
   ],
   "source": [
    "confusion_logit = metrics.confusion_matrix(y_test, y_pred_logit)\n",
    "confusion_matrix_logit = pd.DataFrame(confusion_logit, index = ['Actual: Bill', 'Actual: Neil'],\n",
    "                               columns = ['Predicted: Bill', 'Predicted: Neil'])\n",
    "confusion_matrix_logit"
   ]
  },
  {
   "cell_type": "markdown",
   "metadata": {},
   "source": [
    "**Logistcs Regression seems to grasp Neil's tweeting patern well.** \n",
    "\n",
    "**Out of 200 tweets, 184 tweets being identified correctly. **\n",
    "\n",
    "** Only 5 tweets belong to Neil that is incorrectly identified as Bill. 11 Bill's tweets incorrectly identified as Neil's. Let's check these tweets that are incorrectly predicted.**"
   ]
  },
  {
   "cell_type": "code",
   "execution_count": 60,
   "metadata": {
    "collapsed": false
   },
   "outputs": [
    {
     "data": {
      "text/html": [
       "<div>\n",
       "<style>\n",
       "    .dataframe thead tr:only-child th {\n",
       "        text-align: right;\n",
       "    }\n",
       "\n",
       "    .dataframe thead th {\n",
       "        text-align: left;\n",
       "    }\n",
       "\n",
       "    .dataframe tbody tr th {\n",
       "        vertical-align: top;\n",
       "    }\n",
       "</style>\n",
       "<table border=\"1\" class=\"dataframe\">\n",
       "  <thead>\n",
       "    <tr style=\"text-align: right;\">\n",
       "      <th></th>\n",
       "      <th>text</th>\n",
       "    </tr>\n",
       "  </thead>\n",
       "  <tbody>\n",
       "    <tr>\n",
       "      <th>735</th>\n",
       "      <td>Motor is running! Sail is Deploying!!! 39 Year...</td>\n",
       "    </tr>\n",
       "    <tr>\n",
       "      <th>878</th>\n",
       "      <td>If you're following @neiltyson, wheels not har...</td>\n",
       "    </tr>\n",
       "    <tr>\n",
       "      <th>434</th>\n",
       "      <td>Another gasoline powered vehicle? The socks ar...</td>\n",
       "    </tr>\n",
       "    <tr>\n",
       "      <th>100</th>\n",
       "      <td>I see you, Science Twitter.  You are the aerod...</td>\n",
       "    </tr>\n",
       "    <tr>\n",
       "      <th>731</th>\n",
       "      <td>Orbit will decay pretty quickly now that sail ...</td>\n",
       "    </tr>\n",
       "    <tr>\n",
       "      <th>435</th>\n",
       "      <td>Word \"Jeep\" derived from \"General Purpose.\" Ti...</td>\n",
       "    </tr>\n",
       "    <tr>\n",
       "      <th>389</th>\n",
       "      <td>slash \"you all.\"</td>\n",
       "    </tr>\n",
       "  </tbody>\n",
       "</table>\n",
       "</div>"
      ],
      "text/plain": [
       "                                                  text\n",
       "735  Motor is running! Sail is Deploying!!! 39 Year...\n",
       "878  If you're following @neiltyson, wheels not har...\n",
       "434  Another gasoline powered vehicle? The socks ar...\n",
       "100  I see you, Science Twitter.  You are the aerod...\n",
       "731  Orbit will decay pretty quickly now that sail ...\n",
       "435  Word \"Jeep\" derived from \"General Purpose.\" Ti...\n",
       "389                                   slash \"you all.\""
      ]
     },
     "execution_count": 60,
     "metadata": {},
     "output_type": "execute_result"
    }
   ],
   "source": [
    "incorrect_logit_bill_prediction = pd.DataFrame(X_test[y_test < y_pred_logit])\n",
    "incorrect_logit_bill_prediction"
   ]
  },
  {
   "cell_type": "code",
   "execution_count": 61,
   "metadata": {
    "collapsed": false
   },
   "outputs": [
    {
     "data": {
      "text/html": [
       "<div>\n",
       "<style>\n",
       "    .dataframe thead tr:only-child th {\n",
       "        text-align: right;\n",
       "    }\n",
       "\n",
       "    .dataframe thead th {\n",
       "        text-align: left;\n",
       "    }\n",
       "\n",
       "    .dataframe tbody tr th {\n",
       "        vertical-align: top;\n",
       "    }\n",
       "</style>\n",
       "<table border=\"1\" class=\"dataframe\">\n",
       "  <thead>\n",
       "    <tr style=\"text-align: right;\">\n",
       "      <th></th>\n",
       "      <th>text</th>\n",
       "    </tr>\n",
       "  </thead>\n",
       "  <tbody>\n",
       "    <tr>\n",
       "      <th>184</th>\n",
       "      <td>Eratosthenes, of course. Third  century BC. Ca...</td>\n",
       "    </tr>\n",
       "    <tr>\n",
       "      <th>676</th>\n",
       "      <td>Feelin’ Earthy today…</td>\n",
       "    </tr>\n",
       "    <tr>\n",
       "      <th>533</th>\n",
       "      <td>Thanks, Twitterverse, for all the birthday wis...</td>\n",
       "    </tr>\n",
       "    <tr>\n",
       "      <th>435</th>\n",
       "      <td>Athlete, Educator, Civil Rights Activist, Publ...</td>\n",
       "    </tr>\n",
       "    <tr>\n",
       "      <th>552</th>\n",
       "      <td>My sense is that we don’t think enough about h...</td>\n",
       "    </tr>\n",
       "    <tr>\n",
       "      <th>288</th>\n",
       "      <td>The only time I ever mentioned Bill O’Reilly: ...</td>\n",
       "    </tr>\n",
       "    <tr>\n",
       "      <th>825</th>\n",
       "      <td>Seedless grapes. Seedless oranges. Seedless wa...</td>\n",
       "    </tr>\n",
       "    <tr>\n",
       "      <th>110</th>\n",
       "      <td>@ionized4091 If you rummage here, you should f...</td>\n",
       "    </tr>\n",
       "    <tr>\n",
       "      <th>837</th>\n",
       "      <td>RT @nathaniel: @neiltyson but crude gas is som...</td>\n",
       "    </tr>\n",
       "    <tr>\n",
       "      <th>981</th>\n",
       "      <td>CALLING ALL GEEKS:  Must root for @Cubs — to f...</td>\n",
       "    </tr>\n",
       "    <tr>\n",
       "      <th>33</th>\n",
       "      <td>@BigTuckTV Thanks for your interest. Try this ...</td>\n",
       "    </tr>\n",
       "    <tr>\n",
       "      <th>44</th>\n",
       "      <td>Pre-GlobalWarming lyric: Paul Simon 1965 “Apri...</td>\n",
       "    </tr>\n",
       "  </tbody>\n",
       "</table>\n",
       "</div>"
      ],
      "text/plain": [
       "                                                  text\n",
       "184  Eratosthenes, of course. Third  century BC. Ca...\n",
       "676                              Feelin’ Earthy today…\n",
       "533  Thanks, Twitterverse, for all the birthday wis...\n",
       "435  Athlete, Educator, Civil Rights Activist, Publ...\n",
       "552  My sense is that we don’t think enough about h...\n",
       "288  The only time I ever mentioned Bill O’Reilly: ...\n",
       "825  Seedless grapes. Seedless oranges. Seedless wa...\n",
       "110  @ionized4091 If you rummage here, you should f...\n",
       "837  RT @nathaniel: @neiltyson but crude gas is som...\n",
       "981  CALLING ALL GEEKS:  Must root for @Cubs — to f...\n",
       "33   @BigTuckTV Thanks for your interest. Try this ...\n",
       "44   Pre-GlobalWarming lyric: Paul Simon 1965 “Apri..."
      ]
     },
     "execution_count": 61,
     "metadata": {},
     "output_type": "execute_result"
    }
   ],
   "source": [
    "incorrect_logit_neil_prediction = pd.DataFrame(X_test[y_test > y_pred_logit])\n",
    "incorrect_logit_neil_prediction"
   ]
  },
  {
   "cell_type": "code",
   "execution_count": 62,
   "metadata": {
    "collapsed": false
   },
   "outputs": [
    {
     "data": {
      "text/plain": [
       "0.97227543099102731"
      ]
     },
     "execution_count": 62,
     "metadata": {},
     "output_type": "execute_result"
    }
   ],
   "source": [
    "# Let's check prediction probability\n",
    "\n",
    "y_pred_prob_logit = logit.predict_proba(X_test_dtm)[:, 1]\n",
    "\n",
    "metrics.roc_auc_score(y_test, y_pred_prob_logit)"
   ]
  },
  {
   "cell_type": "markdown",
   "metadata": {},
   "source": [
    "### We have just improved the prediction probability from 92% to 97%. Logistics Regression is a good model to use. "
   ]
  }
 ],
 "metadata": {
  "kernelspec": {
   "display_name": "Python [conda env:Connie_python2]",
   "language": "python",
   "name": "conda-env-Connie_python2-py"
  },
  "language_info": {
   "codemirror_mode": {
    "name": "ipython",
    "version": 2
   },
   "file_extension": ".py",
   "mimetype": "text/x-python",
   "name": "python",
   "nbconvert_exporter": "python",
   "pygments_lexer": "ipython2",
   "version": "2.7.13"
  }
 },
 "nbformat": 4,
 "nbformat_minor": 2
}
