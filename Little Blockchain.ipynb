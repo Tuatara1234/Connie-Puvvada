{
 "cells": [
  {
   "cell_type": "code",
   "execution_count": 6,
   "metadata": {
    "collapsed": true
   },
   "outputs": [],
   "source": [
    "import hashlib as hasher"
   ]
  },
  {
   "cell_type": "code",
   "execution_count": 8,
   "metadata": {
    "collapsed": false
   },
   "outputs": [],
   "source": [
    "class Block:\n",
    "    def __init__(self, index, timestamp, data, previous_hash):\n",
    "        self.index = index\n",
    "        self.timestamp = timestamp\n",
    "        self.data = data\n",
    "        self.previous_hash = previous_hash\n",
    "        self.hash = self.hash_block()\n",
    "  \n",
    "    def hash_block(self):\n",
    "        sha = hasher.sha256()\n",
    "        sha.update(str(self.index) + \n",
    "               str(self.timestamp) + \n",
    "               str(self.data) + \n",
    "               str(self.previous_hash))\n",
    "        return sha.hexdigest()"
   ]
  },
  {
   "cell_type": "code",
   "execution_count": 9,
   "metadata": {
    "collapsed": true
   },
   "outputs": [],
   "source": [
    "import datetime as date\n",
    "\n",
    "def create_genesis_block():\n",
    "    # Manually construct a block with\n",
    "    # index zero and arbitrary previous hash\n",
    "    return Block(0, date.datetime.now(), \"Genesis Block\", \"0\")"
   ]
  },
  {
   "cell_type": "code",
   "execution_count": 10,
   "metadata": {
    "collapsed": true
   },
   "outputs": [],
   "source": [
    "def next_block(last_block):\n",
    "    this_index = last_block.index + 1\n",
    "    this_timestamp = date.datetime.now()\n",
    "    this_data = \"Hey! I'm block \" + str(this_index)\n",
    "    this_hash = last_block.hash\n",
    "    return Block(this_index, this_timestamp, this_data, this_hash)\n"
   ]
  },
  {
   "cell_type": "code",
   "execution_count": 11,
   "metadata": {
    "collapsed": false
   },
   "outputs": [
    {
     "name": "stdout",
     "output_type": "stream",
     "text": [
      "Block #1 has been added to the blockchain!\n",
      "Hash: 106714c2b59cb3ad988fb01ef77d133fcedd9939c8de59dcd5176444be564c19\n",
      "\n",
      "Block #2 has been added to the blockchain!\n",
      "Hash: 2504dff6eb6e7ea0018c1477058efdfe3937d464378b30a9a160660beb2a48b5\n",
      "\n",
      "Block #3 has been added to the blockchain!\n",
      "Hash: 805a4d2287c677ddd65e873c1c8c31bc69b89f0bd07b23547b7669fe55f0d2ab\n",
      "\n",
      "Block #4 has been added to the blockchain!\n",
      "Hash: bdf1e24d6e873ea21ece2460691fe5e33e0d7d05e09ffeb36b193bcfdd33423b\n",
      "\n",
      "Block #5 has been added to the blockchain!\n",
      "Hash: 07e754b64b345638af33b845c058a065d915f2bfbb4da218c73f256ce6f19034\n",
      "\n",
      "Block #6 has been added to the blockchain!\n",
      "Hash: a6693106d76bd68c1cb2d24a7cff61fada0b1a6f8255f1407b782660779faf37\n",
      "\n",
      "Block #7 has been added to the blockchain!\n",
      "Hash: 7ad9c8a0e5e6aa31998fe9c63d12a19ebc51b3b896ddfe1cd7683e2a4b4bc3d0\n",
      "\n",
      "Block #8 has been added to the blockchain!\n",
      "Hash: 994647381e46743a2482db10ece5877a1eced298a22426c27e0ef703bb165288\n",
      "\n",
      "Block #9 has been added to the blockchain!\n",
      "Hash: ba398b18e8f101e02e52ed8fdaa584817df27217d2fb3ebeea90581fc577fa36\n",
      "\n",
      "Block #10 has been added to the blockchain!\n",
      "Hash: 37801644d0b28f58a4fbca4767c334c3e6175e1d635e66f7e0f448ee8e38541c\n",
      "\n",
      "Block #11 has been added to the blockchain!\n",
      "Hash: ab194e40ae4afb3930d6008f542469519c8f74659a85299b139d9832f40f3e3f\n",
      "\n",
      "Block #12 has been added to the blockchain!\n",
      "Hash: ce6b98d5bbd8528136a50d95157a794ae6015d644d6821bba86a42361b9cdd91\n",
      "\n",
      "Block #13 has been added to the blockchain!\n",
      "Hash: b7744229bdf61af16ad5dec4eddb7d9f73fc95d74f7dff8b5a378c2a9d9a1699\n",
      "\n",
      "Block #14 has been added to the blockchain!\n",
      "Hash: a08524aadee8e36c0dfd55a2aa97164660e7ac06d3855d02afaed116d6ce36e4\n",
      "\n",
      "Block #15 has been added to the blockchain!\n",
      "Hash: aab7a190fbbfcb5e6d6fe32937264623bd1b8e029208aa3cff06fe29c7a51b9a\n",
      "\n",
      "Block #16 has been added to the blockchain!\n",
      "Hash: 444f21b0d31ef82b49b4350a5f7040a1baf9944c9d1817d0cab1565368a16401\n",
      "\n",
      "Block #17 has been added to the blockchain!\n",
      "Hash: d2724e9fd95b0d4158a0afe0bdcfb8ada8dd80694c6c91cdad4fea9aa8f7b37c\n",
      "\n",
      "Block #18 has been added to the blockchain!\n",
      "Hash: 784c89d1df005a6661728f343c21faeb61e7ddbbd52742e08b8bb2af62679a49\n",
      "\n",
      "Block #19 has been added to the blockchain!\n",
      "Hash: 3a369becb187494f46474271573df79f7c215202d14f48de0440ea784b059652\n",
      "\n",
      "Block #20 has been added to the blockchain!\n",
      "Hash: 8a86d97bdec39f92448073e419364a128fa25fa49303a1903214735626eefcda\n",
      "\n"
     ]
    }
   ],
   "source": [
    "# Create the blockchain and add the genesis block\n",
    "blockchain = [create_genesis_block()]\n",
    "previous_block = blockchain[0]\n",
    "\n",
    "# How many blocks should we add to the chain\n",
    "# after the genesis block\n",
    "num_of_blocks_to_add = 20\n",
    "\n",
    "# Add blocks to the chain\n",
    "for i in range(0, num_of_blocks_to_add):\n",
    "    block_to_add = next_block(previous_block)\n",
    "    blockchain.append(block_to_add)\n",
    "    previous_block = block_to_add\n",
    "# Tell everyone about it!\n",
    "\n",
    "    print \"Block #{} has been added to the blockchain!\".format(block_to_add.index)\n",
    "    print \"Hash: {}\\n\".format(block_to_add.hash) "
   ]
  },
  {
   "cell_type": "code",
   "execution_count": null,
   "metadata": {
    "collapsed": true
   },
   "outputs": [],
   "source": []
  }
 ],
 "metadata": {
  "kernelspec": {
   "display_name": "Python [conda env:Connie_python2]",
   "language": "python",
   "name": "conda-env-Connie_python2-py"
  },
  "language_info": {
   "codemirror_mode": {
    "name": "ipython",
    "version": 2
   },
   "file_extension": ".py",
   "mimetype": "text/x-python",
   "name": "python",
   "nbconvert_exporter": "python",
   "pygments_lexer": "ipython2",
   "version": "2.7.13"
  }
 },
 "nbformat": 4,
 "nbformat_minor": 2
}
